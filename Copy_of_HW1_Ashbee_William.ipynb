{
  "nbformat": 4,
  "nbformat_minor": 0,
  "metadata": {
    "kernelspec": {
      "display_name": "Python 3",
      "language": "python",
      "name": "python3"
    },
    "language_info": {
      "codemirror_mode": {
        "name": "ipython",
        "version": 3
      },
      "file_extension": ".py",
      "mimetype": "text/x-python",
      "name": "python",
      "nbconvert_exporter": "python",
      "pygments_lexer": "ipython3",
      "version": "3.7.6"
    },
    "colab": {
      "name": "Copy of HW1_Ashbee_William.ipynb",
      "provenance": [],
      "include_colab_link": true
    }
  },
  "cells": [
    {
      "cell_type": "markdown",
      "metadata": {
        "id": "view-in-github",
        "colab_type": "text"
      },
      "source": [
        "<a href=\"https://colab.research.google.com/github/WilliamAshbee/DatascienceHomeworks/blob/main/Copy_of_HW1_Ashbee_William.ipynb\" target=\"_parent\"><img src=\"https://colab.research.google.com/assets/colab-badge.svg\" alt=\"Open In Colab\"/></a>"
      ]
    },
    {
      "cell_type": "markdown",
      "metadata": {
        "id": "H-wvv8tj7Yt4"
      },
      "source": [
        "## Homework 1 - Data Exploration using Census Data\n",
        "\n",
        "In this homework assignment you will use census data from the 1994 and 1995 current population surveys conducted by the U.S. Census Bureau. A copy of this dataset is located at UCI Machine Learning repository, please see this [link](https://archive.ics.uci.edu/ml/datasets/Census-Income+%28KDD%29) to reach to the dataset website.\n",
        "\n",
        "This dataset contains census data extracted from the 1994 and 1995 Current Population Surveys. We will only work with 'training' data (a link to that is provided to you below). The data contains 41 demographic and employment related variables. The abbreviated column names provided to you below. You are expected to read the documentation of this dataset, understand the features and preprocess this dataset. Additional information can be found [in the data description](https://archive.ics.uci.edu/ml/machine-learning-databases/census-income-mld/census-income.data.html) and [additional comments](https://archive.ics.uci.edu/ml/machine-learning-databases/census-income-mld/census-income.names).\n",
        "\n",
        "Below you will find a code snippet to download and read the data into a pandas dataframe. You can alternatively download it yourself, extract and read it manually. The questions are shown in the subsequent cells. You can provide your answers in this file. Make sure to change the notebook's name and add your name before submitting."
      ]
    },
    {
      "cell_type": "code",
      "metadata": {
        "id": "NLWGGDU17Yt7"
      },
      "source": [
        "import pandas as pd\n",
        "import numpy as np"
      ],
      "execution_count": 1,
      "outputs": []
    },
    {
      "cell_type": "code",
      "metadata": {
        "id": "q_IEmycL7Yt8",
        "colab": {
          "base_uri": "https://localhost:8080/"
        },
        "outputId": "57b218c8-3149-4481-8f75-2ad8b7fae549"
      },
      "source": [
        "import urllib.request\n",
        "url = 'https://archive.ics.uci.edu/ml/machine-learning-databases/census-income-mld/census-income.data.gz'\n",
        "census_dl_file = './census-income.data.gz'\n",
        "urllib.request.urlretrieve(url, census_dl_file)"
      ],
      "execution_count": 2,
      "outputs": [
        {
          "output_type": "execute_result",
          "data": {
            "text/plain": [
              "('./census-income.data.gz', <http.client.HTTPMessage at 0x7f1883a61e90>)"
            ]
          },
          "metadata": {},
          "execution_count": 2
        }
      ]
    },
    {
      "cell_type": "code",
      "metadata": {
        "id": "GAkD1lSo7Yt9"
      },
      "source": [
        "columns_abbr = ['AAGE', 'ACLSWKR', 'ADTIND', 'ADTOCC', 'AHGA', 'AHRSPAY', 'AHSCOL', 'AMARITL', 'AMJIND', 'AMJOCC',\n",
        "                'ARACE', 'AREORGN', 'ASEX', 'AUNMEM', 'AUNTYPE', 'AWKSTAT', 'CAPGAIN', 'CAPLOSS', 'DIVVAL', \n",
        "                'FILESTAT', 'GRINREG', 'GRINST', 'HHDFMX', 'HHDREL', 'MARSUPWT', 'MIGMTR1', 'MIGMTR3', 'MIGMTR4', \n",
        "                'MIGSAME', 'MIGSUN', 'NOEMP', 'PARENT', 'PEFNTVTY', 'PEMNTVTY', 'PENATVTY', 'PRCITSHP', 'SEOTR', \n",
        "                'VETQVA', 'VETYN', 'WKSWORK', 'YEAR', 'PTOTVALB']"
      ],
      "execution_count": 3,
      "outputs": []
    },
    {
      "cell_type": "code",
      "metadata": {
        "id": "nfo3QLVr7Yt9",
        "colab": {
          "base_uri": "https://localhost:8080/",
          "height": 547
        },
        "outputId": "aeb4d0d5-e579-4f4c-a3f0-2597cfbe2a23"
      },
      "source": [
        "df = pd.read_csv('census-income.data.gz', compression='gzip', names=columns_abbr, sep=r',', skipinitialspace=True)\n",
        "df.head()"
      ],
      "execution_count": 4,
      "outputs": [
        {
          "output_type": "execute_result",
          "data": {
            "text/html": [
              "<div>\n",
              "<style scoped>\n",
              "    .dataframe tbody tr th:only-of-type {\n",
              "        vertical-align: middle;\n",
              "    }\n",
              "\n",
              "    .dataframe tbody tr th {\n",
              "        vertical-align: top;\n",
              "    }\n",
              "\n",
              "    .dataframe thead th {\n",
              "        text-align: right;\n",
              "    }\n",
              "</style>\n",
              "<table border=\"1\" class=\"dataframe\">\n",
              "  <thead>\n",
              "    <tr style=\"text-align: right;\">\n",
              "      <th></th>\n",
              "      <th>AAGE</th>\n",
              "      <th>ACLSWKR</th>\n",
              "      <th>ADTIND</th>\n",
              "      <th>ADTOCC</th>\n",
              "      <th>AHGA</th>\n",
              "      <th>AHRSPAY</th>\n",
              "      <th>AHSCOL</th>\n",
              "      <th>AMARITL</th>\n",
              "      <th>AMJIND</th>\n",
              "      <th>AMJOCC</th>\n",
              "      <th>ARACE</th>\n",
              "      <th>AREORGN</th>\n",
              "      <th>ASEX</th>\n",
              "      <th>AUNMEM</th>\n",
              "      <th>AUNTYPE</th>\n",
              "      <th>AWKSTAT</th>\n",
              "      <th>CAPGAIN</th>\n",
              "      <th>CAPLOSS</th>\n",
              "      <th>DIVVAL</th>\n",
              "      <th>FILESTAT</th>\n",
              "      <th>GRINREG</th>\n",
              "      <th>GRINST</th>\n",
              "      <th>HHDFMX</th>\n",
              "      <th>HHDREL</th>\n",
              "      <th>MARSUPWT</th>\n",
              "      <th>MIGMTR1</th>\n",
              "      <th>MIGMTR3</th>\n",
              "      <th>MIGMTR4</th>\n",
              "      <th>MIGSAME</th>\n",
              "      <th>MIGSUN</th>\n",
              "      <th>NOEMP</th>\n",
              "      <th>PARENT</th>\n",
              "      <th>PEFNTVTY</th>\n",
              "      <th>PEMNTVTY</th>\n",
              "      <th>PENATVTY</th>\n",
              "      <th>PRCITSHP</th>\n",
              "      <th>SEOTR</th>\n",
              "      <th>VETQVA</th>\n",
              "      <th>VETYN</th>\n",
              "      <th>WKSWORK</th>\n",
              "      <th>YEAR</th>\n",
              "      <th>PTOTVALB</th>\n",
              "    </tr>\n",
              "  </thead>\n",
              "  <tbody>\n",
              "    <tr>\n",
              "      <th>0</th>\n",
              "      <td>73</td>\n",
              "      <td>Not in universe</td>\n",
              "      <td>0</td>\n",
              "      <td>0</td>\n",
              "      <td>High school graduate</td>\n",
              "      <td>0</td>\n",
              "      <td>Not in universe</td>\n",
              "      <td>Widowed</td>\n",
              "      <td>Not in universe or children</td>\n",
              "      <td>Not in universe</td>\n",
              "      <td>White</td>\n",
              "      <td>All other</td>\n",
              "      <td>Female</td>\n",
              "      <td>Not in universe</td>\n",
              "      <td>Not in universe</td>\n",
              "      <td>Not in labor force</td>\n",
              "      <td>0</td>\n",
              "      <td>0</td>\n",
              "      <td>0</td>\n",
              "      <td>Nonfiler</td>\n",
              "      <td>Not in universe</td>\n",
              "      <td>Not in universe</td>\n",
              "      <td>Other Rel 18+ ever marr not in subfamily</td>\n",
              "      <td>Other relative of householder</td>\n",
              "      <td>1700.09</td>\n",
              "      <td>?</td>\n",
              "      <td>?</td>\n",
              "      <td>?</td>\n",
              "      <td>Not in universe under 1 year old</td>\n",
              "      <td>?</td>\n",
              "      <td>0</td>\n",
              "      <td>Not in universe</td>\n",
              "      <td>United-States</td>\n",
              "      <td>United-States</td>\n",
              "      <td>United-States</td>\n",
              "      <td>Native- Born in the United States</td>\n",
              "      <td>0</td>\n",
              "      <td>Not in universe</td>\n",
              "      <td>2</td>\n",
              "      <td>0</td>\n",
              "      <td>95</td>\n",
              "      <td>- 50000.</td>\n",
              "    </tr>\n",
              "    <tr>\n",
              "      <th>1</th>\n",
              "      <td>58</td>\n",
              "      <td>Self-employed-not incorporated</td>\n",
              "      <td>4</td>\n",
              "      <td>34</td>\n",
              "      <td>Some college but no degree</td>\n",
              "      <td>0</td>\n",
              "      <td>Not in universe</td>\n",
              "      <td>Divorced</td>\n",
              "      <td>Construction</td>\n",
              "      <td>Precision production craft &amp; repair</td>\n",
              "      <td>White</td>\n",
              "      <td>All other</td>\n",
              "      <td>Male</td>\n",
              "      <td>Not in universe</td>\n",
              "      <td>Not in universe</td>\n",
              "      <td>Children or Armed Forces</td>\n",
              "      <td>0</td>\n",
              "      <td>0</td>\n",
              "      <td>0</td>\n",
              "      <td>Head of household</td>\n",
              "      <td>South</td>\n",
              "      <td>Arkansas</td>\n",
              "      <td>Householder</td>\n",
              "      <td>Householder</td>\n",
              "      <td>1053.55</td>\n",
              "      <td>MSA to MSA</td>\n",
              "      <td>Same county</td>\n",
              "      <td>Same county</td>\n",
              "      <td>No</td>\n",
              "      <td>Yes</td>\n",
              "      <td>1</td>\n",
              "      <td>Not in universe</td>\n",
              "      <td>United-States</td>\n",
              "      <td>United-States</td>\n",
              "      <td>United-States</td>\n",
              "      <td>Native- Born in the United States</td>\n",
              "      <td>0</td>\n",
              "      <td>Not in universe</td>\n",
              "      <td>2</td>\n",
              "      <td>52</td>\n",
              "      <td>94</td>\n",
              "      <td>- 50000.</td>\n",
              "    </tr>\n",
              "    <tr>\n",
              "      <th>2</th>\n",
              "      <td>18</td>\n",
              "      <td>Not in universe</td>\n",
              "      <td>0</td>\n",
              "      <td>0</td>\n",
              "      <td>10th grade</td>\n",
              "      <td>0</td>\n",
              "      <td>High school</td>\n",
              "      <td>Never married</td>\n",
              "      <td>Not in universe or children</td>\n",
              "      <td>Not in universe</td>\n",
              "      <td>Asian or Pacific Islander</td>\n",
              "      <td>All other</td>\n",
              "      <td>Female</td>\n",
              "      <td>Not in universe</td>\n",
              "      <td>Not in universe</td>\n",
              "      <td>Not in labor force</td>\n",
              "      <td>0</td>\n",
              "      <td>0</td>\n",
              "      <td>0</td>\n",
              "      <td>Nonfiler</td>\n",
              "      <td>Not in universe</td>\n",
              "      <td>Not in universe</td>\n",
              "      <td>Child 18+ never marr Not in a subfamily</td>\n",
              "      <td>Child 18 or older</td>\n",
              "      <td>991.95</td>\n",
              "      <td>?</td>\n",
              "      <td>?</td>\n",
              "      <td>?</td>\n",
              "      <td>Not in universe under 1 year old</td>\n",
              "      <td>?</td>\n",
              "      <td>0</td>\n",
              "      <td>Not in universe</td>\n",
              "      <td>Vietnam</td>\n",
              "      <td>Vietnam</td>\n",
              "      <td>Vietnam</td>\n",
              "      <td>Foreign born- Not a citizen of U S</td>\n",
              "      <td>0</td>\n",
              "      <td>Not in universe</td>\n",
              "      <td>2</td>\n",
              "      <td>0</td>\n",
              "      <td>95</td>\n",
              "      <td>- 50000.</td>\n",
              "    </tr>\n",
              "    <tr>\n",
              "      <th>3</th>\n",
              "      <td>9</td>\n",
              "      <td>Not in universe</td>\n",
              "      <td>0</td>\n",
              "      <td>0</td>\n",
              "      <td>Children</td>\n",
              "      <td>0</td>\n",
              "      <td>Not in universe</td>\n",
              "      <td>Never married</td>\n",
              "      <td>Not in universe or children</td>\n",
              "      <td>Not in universe</td>\n",
              "      <td>White</td>\n",
              "      <td>All other</td>\n",
              "      <td>Female</td>\n",
              "      <td>Not in universe</td>\n",
              "      <td>Not in universe</td>\n",
              "      <td>Children or Armed Forces</td>\n",
              "      <td>0</td>\n",
              "      <td>0</td>\n",
              "      <td>0</td>\n",
              "      <td>Nonfiler</td>\n",
              "      <td>Not in universe</td>\n",
              "      <td>Not in universe</td>\n",
              "      <td>Child &lt;18 never marr not in subfamily</td>\n",
              "      <td>Child under 18 never married</td>\n",
              "      <td>1758.14</td>\n",
              "      <td>Nonmover</td>\n",
              "      <td>Nonmover</td>\n",
              "      <td>Nonmover</td>\n",
              "      <td>Yes</td>\n",
              "      <td>Not in universe</td>\n",
              "      <td>0</td>\n",
              "      <td>Both parents present</td>\n",
              "      <td>United-States</td>\n",
              "      <td>United-States</td>\n",
              "      <td>United-States</td>\n",
              "      <td>Native- Born in the United States</td>\n",
              "      <td>0</td>\n",
              "      <td>Not in universe</td>\n",
              "      <td>0</td>\n",
              "      <td>0</td>\n",
              "      <td>94</td>\n",
              "      <td>- 50000.</td>\n",
              "    </tr>\n",
              "    <tr>\n",
              "      <th>4</th>\n",
              "      <td>10</td>\n",
              "      <td>Not in universe</td>\n",
              "      <td>0</td>\n",
              "      <td>0</td>\n",
              "      <td>Children</td>\n",
              "      <td>0</td>\n",
              "      <td>Not in universe</td>\n",
              "      <td>Never married</td>\n",
              "      <td>Not in universe or children</td>\n",
              "      <td>Not in universe</td>\n",
              "      <td>White</td>\n",
              "      <td>All other</td>\n",
              "      <td>Female</td>\n",
              "      <td>Not in universe</td>\n",
              "      <td>Not in universe</td>\n",
              "      <td>Children or Armed Forces</td>\n",
              "      <td>0</td>\n",
              "      <td>0</td>\n",
              "      <td>0</td>\n",
              "      <td>Nonfiler</td>\n",
              "      <td>Not in universe</td>\n",
              "      <td>Not in universe</td>\n",
              "      <td>Child &lt;18 never marr not in subfamily</td>\n",
              "      <td>Child under 18 never married</td>\n",
              "      <td>1069.16</td>\n",
              "      <td>Nonmover</td>\n",
              "      <td>Nonmover</td>\n",
              "      <td>Nonmover</td>\n",
              "      <td>Yes</td>\n",
              "      <td>Not in universe</td>\n",
              "      <td>0</td>\n",
              "      <td>Both parents present</td>\n",
              "      <td>United-States</td>\n",
              "      <td>United-States</td>\n",
              "      <td>United-States</td>\n",
              "      <td>Native- Born in the United States</td>\n",
              "      <td>0</td>\n",
              "      <td>Not in universe</td>\n",
              "      <td>0</td>\n",
              "      <td>0</td>\n",
              "      <td>94</td>\n",
              "      <td>- 50000.</td>\n",
              "    </tr>\n",
              "  </tbody>\n",
              "</table>\n",
              "</div>"
            ],
            "text/plain": [
              "   AAGE                         ACLSWKR  ADTIND  ...  WKSWORK YEAR  PTOTVALB\n",
              "0    73                 Not in universe       0  ...        0   95  - 50000.\n",
              "1    58  Self-employed-not incorporated       4  ...       52   94  - 50000.\n",
              "2    18                 Not in universe       0  ...        0   95  - 50000.\n",
              "3     9                 Not in universe       0  ...        0   94  - 50000.\n",
              "4    10                 Not in universe       0  ...        0   94  - 50000.\n",
              "\n",
              "[5 rows x 42 columns]"
            ]
          },
          "metadata": {},
          "execution_count": 4
        }
      ]
    },
    {
      "cell_type": "code",
      "metadata": {
        "id": "jL5GVeRo7Yt9",
        "colab": {
          "base_uri": "https://localhost:8080/"
        },
        "outputId": "c182b3d6-a595-442d-c6a2-a326549b1125"
      },
      "source": [
        "# you can see the DataFrame's info panel here\n",
        "columns_names = columns_abbr\n",
        "\n",
        "column_desc = {'AAGE':'Age',\n",
        "'ACLSWKR':'class of worker',\n",
        "'ADTIND':'industry code',\n",
        "'ADTOCC':'occupation code',\n",
        "'AHGA':'education',\n",
        "'AHRSPAY':'wage per hour',\n",
        "'AHSCOL':'enrolled in edu inst last wk',\n",
        "'AMARITL':'marital status',\n",
        "'AMJIND':'major industry code',\n",
        "'AMJOCC':'major occupation code',\n",
        "'ARACE':'mace',\n",
        "'AREORGN':'hispanic Origin',\n",
        "'ASEX':'sex',\n",
        "'AUNMEM':'member of a labor union',\n",
        "'AUNTYPE':'reason for unemployment',\n",
        "'AWKSTAT':'full or part time employment stat',\n",
        "'CAPGAIN':'capital gains',\n",
        "'CAPLOSS':'capital losses',\n",
        "'DIVVAL':'divdends from stocks',\n",
        "'FILESTAT':'tax filer status',\n",
        "'GRINREG':'region of previous residence',\n",
        "'GRINST':'state of previous residence',\n",
        "'HHDFMX':'detailed household and family stat',\n",
        "'HHDREL':'detailed household summary in household',\n",
        "'MARSUPWT':'instance weight',\n",
        "'MIGMTR1':'migration code-change in msa',\n",
        "'MIGMTR3':'migration code-change in reg',\n",
        "'MIGMTR4':'migration code-move within reg',\n",
        "'MIGSAME':'live in this house 1 year ago',\n",
        "'MIGSUN':'migration prev res in sunbelt',\n",
        "'NOEMP':'num persons worked for employer',\n",
        "'PARENT':'family members under 18',\n",
        "'PEFNTVTY':'country of birth father',\n",
        "'PEMNTVTY':'country of birth mother',\n",
        "'PENATVTY':'country of birth self',\n",
        "'PRCITSHP':'citizenship',\n",
        "'SEOTR':'own business or self employed',\n",
        "'VETQVA':'fill inc questionnaire for veterans admin',\n",
        "'VETYN':'veterans benefits',\n",
        "'WKSWORK':'weeks worked in year',\n",
        "'YEAR':'YEAR',\n",
        "'PTOTVALB':'PTOTVALB'}\n",
        "\n",
        "a = set(columns_names)\n",
        "b = set(column_desc.keys())\n",
        "print(a-b)\n",
        "print(len(columns_names),len(column_desc))\n",
        "df.info()"
      ],
      "execution_count": 5,
      "outputs": [
        {
          "output_type": "stream",
          "name": "stdout",
          "text": [
            "set()\n",
            "42 42\n",
            "<class 'pandas.core.frame.DataFrame'>\n",
            "RangeIndex: 199523 entries, 0 to 199522\n",
            "Data columns (total 42 columns):\n",
            " #   Column    Non-Null Count   Dtype  \n",
            "---  ------    --------------   -----  \n",
            " 0   AAGE      199523 non-null  int64  \n",
            " 1   ACLSWKR   199523 non-null  object \n",
            " 2   ADTIND    199523 non-null  int64  \n",
            " 3   ADTOCC    199523 non-null  int64  \n",
            " 4   AHGA      199523 non-null  object \n",
            " 5   AHRSPAY   199523 non-null  int64  \n",
            " 6   AHSCOL    199523 non-null  object \n",
            " 7   AMARITL   199523 non-null  object \n",
            " 8   AMJIND    199523 non-null  object \n",
            " 9   AMJOCC    199523 non-null  object \n",
            " 10  ARACE     199523 non-null  object \n",
            " 11  AREORGN   198649 non-null  object \n",
            " 12  ASEX      199523 non-null  object \n",
            " 13  AUNMEM    199523 non-null  object \n",
            " 14  AUNTYPE   199523 non-null  object \n",
            " 15  AWKSTAT   199523 non-null  object \n",
            " 16  CAPGAIN   199523 non-null  int64  \n",
            " 17  CAPLOSS   199523 non-null  int64  \n",
            " 18  DIVVAL    199523 non-null  int64  \n",
            " 19  FILESTAT  199523 non-null  object \n",
            " 20  GRINREG   199523 non-null  object \n",
            " 21  GRINST    199523 non-null  object \n",
            " 22  HHDFMX    199523 non-null  object \n",
            " 23  HHDREL    199523 non-null  object \n",
            " 24  MARSUPWT  199523 non-null  float64\n",
            " 25  MIGMTR1   199523 non-null  object \n",
            " 26  MIGMTR3   199523 non-null  object \n",
            " 27  MIGMTR4   199523 non-null  object \n",
            " 28  MIGSAME   199523 non-null  object \n",
            " 29  MIGSUN    199523 non-null  object \n",
            " 30  NOEMP     199523 non-null  int64  \n",
            " 31  PARENT    199523 non-null  object \n",
            " 32  PEFNTVTY  199523 non-null  object \n",
            " 33  PEMNTVTY  199523 non-null  object \n",
            " 34  PENATVTY  199523 non-null  object \n",
            " 35  PRCITSHP  199523 non-null  object \n",
            " 36  SEOTR     199523 non-null  int64  \n",
            " 37  VETQVA    199523 non-null  object \n",
            " 38  VETYN     199523 non-null  int64  \n",
            " 39  WKSWORK   199523 non-null  int64  \n",
            " 40  YEAR      199523 non-null  int64  \n",
            " 41  PTOTVALB  199523 non-null  object \n",
            "dtypes: float64(1), int64(12), object(29)\n",
            "memory usage: 63.9+ MB\n"
          ]
        }
      ]
    },
    {
      "cell_type": "code",
      "metadata": {
        "id": "B1JwSxegX2bW"
      },
      "source": [
        "data_desc_contains = set(['AAGE','ACLSWKR','ADTIND','ADTOCC','AGI','AHGA','AHRSPAY','AHSCOL','AMARITL','AMJIND','AMJOCC','ARACE','AREORGN','ASEX','AUNMEM','AUNTYPE','AWKSTAT','CAPGAIN','CAPLOSS','DIVVAL','FEDTAX','FILESTAT','GRINREG','GRINST','HHDFMX','HHDREL','MARSUPWT','MIGMTR1','MIGMTR3','MIGMTR4','MIGSAME','MIGSUN','NOEMP','PARENT','PEARNVAL','PEFNTVTY','PEMNTVTY','PENATVTY','PRCITSHP','PTOTVAL','SEOTR','TAXINC','VETQVA','VETYN','WKSWORK'])"
      ],
      "execution_count": 28,
      "outputs": []
    },
    {
      "cell_type": "markdown",
      "metadata": {
        "id": "TVlWyCmb7Yt-"
      },
      "source": [
        "### Q1 - Identify the data scales and data types for each variable in census data. Identify the domain for each variable by checking the attributes' values. Then, create a data quality report for both categorical (nominal, ordinal) and continuous (interval, ratio) variables. [40 pts]\n",
        "\n",
        "For data scales, identify whether an attribute is nominal, ordinal, interval or ratio scale.\n",
        "For data types, identify the domain and provide an appropriate data type (integer, float, String, date, Boolean). See if that data type is correct in your dataframe.\n",
        "For domain, inspect each distinct value for each attribute. Identify missing values. Also include the bar plots and histograms for visualizing the distributions. \n",
        "\n",
        "*The examples for a continious and a categorical feature can be seen below. You do not need to use jupyter formatting provided here. You can print a DataFrame or read a csv, and display it. Make sure you have the csv in your zip file.*"
      ]
    },
    {
      "cell_type": "code",
      "metadata": {
        "id": "XIpKxvswV9iS",
        "outputId": "28d51b2e-9b84-4ff8-8d9e-7aa6815f1705",
        "colab": {
          "base_uri": "https://localhost:8080/"
        }
      },
      "source": [
        "df.PEFNTVTY\n"
      ],
      "execution_count": 29,
      "outputs": [
        {
          "output_type": "execute_result",
          "data": {
            "text/plain": [
              "0         United-States\n",
              "1         United-States\n",
              "2               Vietnam\n",
              "3         United-States\n",
              "4         United-States\n",
              "              ...      \n",
              "199518           Canada\n",
              "199519    United-States\n",
              "199520           Poland\n",
              "199521    United-States\n",
              "199522                ?\n",
              "Name: PEFNTVTY, Length: 199523, dtype: object"
            ]
          },
          "metadata": {},
          "execution_count": 29
        }
      ]
    },
    {
      "cell_type": "code",
      "metadata": {
        "id": "qdCCvlzXWIDX",
        "outputId": "00fb3b12-2dc6-45cf-c863-0b86e5decbc5",
        "colab": {
          "base_uri": "https://localhost:8080/"
        }
      },
      "source": [
        "#df.PEARNVAL\n",
        "\n",
        "print(\"the following are in the data description link, but not in the data (possible misspellings or missing)\\n\",data_desc_contains-set(columns_abbr))"
      ],
      "execution_count": 30,
      "outputs": [
        {
          "output_type": "stream",
          "name": "stdout",
          "text": [
            "the following are in the data description link, but not in the data (possible misspellings or missing)\n",
            " {'FEDTAX', 'PEARNVAL', 'PTOTVAL', 'AGI', 'TAXINC'}\n"
          ]
        }
      ]
    },
    {
      "cell_type": "code",
      "metadata": {
        "id": "dzVp-HQl7Yt_",
        "outputId": "f8ed7f33-8ba8-40d5-b48e-074b8d9a55a6",
        "colab": {
          "base_uri": "https://localhost:8080/"
        }
      },
      "source": [
        "# your code goes here\n",
        "#not_continuous = []\n",
        "#for (name, series) in df.iteritems():\n",
        "#  for val in series.unique():\n",
        "#    if type(val) == str:\n",
        "#      not_continuous.append(name)\n",
        "#      break\n",
        "#print(len(not_continuous),not_continuous)\n",
        "\n",
        "not_continuous = ['ACLSWKR', 'AHGA', 'AHSCOL', 'AMARITL', 'AMJIND', 'AMJOCC', 'ARACE', 'AREORGN', 'ASEX', 'AUNMEM', 'AUNTYPE', 'AWKSTAT', 'FILESTAT', 'GRINREG', 'GRINST', 'HHDFMX', 'HHDREL', \n",
        "'MIGMTR1', 'MIGMTR3', 'MIGMTR4', 'MIGSAME', 'MIGSUN', 'PARENT', 'PEFNTVTY', 'PEMNTVTY', 'PENATVTY', 'PRCITSHP', 'VETQVA', 'PTOTVALB',\n",
        "'ADTIND','ADTOCC','SEOTR','VETYN','NOEMP']\n",
        "print(len(not_continuous),not_continuous)\n",
        "\n",
        "\n"
      ],
      "execution_count": 6,
      "outputs": [
        {
          "output_type": "stream",
          "name": "stdout",
          "text": [
            "34 ['ACLSWKR', 'AHGA', 'AHSCOL', 'AMARITL', 'AMJIND', 'AMJOCC', 'ARACE', 'AREORGN', 'ASEX', 'AUNMEM', 'AUNTYPE', 'AWKSTAT', 'FILESTAT', 'GRINREG', 'GRINST', 'HHDFMX', 'HHDREL', 'MIGMTR1', 'MIGMTR3', 'MIGMTR4', 'MIGSAME', 'MIGSUN', 'PARENT', 'PEFNTVTY', 'PEMNTVTY', 'PENATVTY', 'PRCITSHP', 'VETQVA', 'PTOTVALB', 'ADTIND', 'ADTOCC', 'SEOTR', 'VETYN', 'NOEMP']\n"
          ]
        }
      ]
    },
    {
      "cell_type": "code",
      "metadata": {
        "id": "Ao8ZpnGwXIIX",
        "outputId": "f387c2fa-4452-4fd4-cc91-5934b8de59d6",
        "colab": {
          "base_uri": "https://localhost:8080/"
        }
      },
      "source": [
        "for (name, series) in df.iteritems():\n",
        "  print('name of column: ', name, '\\tunique values:\\n',series.unique())"
      ],
      "execution_count": 7,
      "outputs": [
        {
          "output_type": "stream",
          "name": "stdout",
          "text": [
            "name of column:  AAGE \tunique values:\n",
            " [73 58 18  9 10 48 42 28 47 34  8 32 51 46 26 13 39 16 35 12 27 56 55  2\n",
            "  1 37  4 63 25 81 11 30  7 66 84 52  5 36 72 61 41 90 49  6  0 33 57 50\n",
            " 24 17 53 40 54 22 29 85 38 76 21 31 74 19 15  3 43 68 71 45 62 23 69 75\n",
            " 44 59 60 64 65 70 67 78 20 14 83 86 89 77 79 82 80 87 88]\n",
            "name of column:  ACLSWKR \tunique values:\n",
            " ['Not in universe' 'Self-employed-not incorporated' 'Private'\n",
            " 'Local government' 'Federal government' 'Self-employed-incorporated'\n",
            " 'State government' 'Never worked' 'Without pay']\n",
            "name of column:  ADTIND \tunique values:\n",
            " [ 0  4 40 34 43 37 24 39 12 35 45  3 19 29 32 48 33 23 44 36 31 30 41  5\n",
            " 11  9 42  6 18 50  2  1 26 47 16 14 22 17  7  8 25 46 27 15 13 49 38 21\n",
            " 28 20 51 10]\n",
            "name of column:  ADTOCC \tunique values:\n",
            " [ 0 34 10  3 40 26 37 31 12 36 41 22  2 35 25 23 42  8 19 29 27 16 33 13\n",
            " 18  9 17 39 32 11 30 38 20  7 21 44 24 43 28  4  1  6 45 14  5 15 46]\n",
            "name of column:  AHGA \tunique values:\n",
            " ['High school graduate' 'Some college but no degree' '10th grade'\n",
            " 'Children' 'Bachelors degree(BA AB BS)'\n",
            " 'Masters degree(MA MS MEng MEd MSW MBA)' 'Less than 1st grade'\n",
            " 'Associates degree-academic program' '7th and 8th grade'\n",
            " '12th grade no diploma' 'Associates degree-occup /vocational'\n",
            " 'Prof school degree (MD DDS DVM LLB JD)' '5th or 6th grade' '11th grade'\n",
            " 'Doctorate degree(PhD EdD)' '9th grade' '1st 2nd 3rd or 4th grade']\n",
            "name of column:  AHRSPAY \tunique values:\n",
            " [   0 1200  876 ... 3156 2188 1092]\n",
            "name of column:  AHSCOL \tunique values:\n",
            " ['Not in universe' 'High school' 'College or university']\n",
            "name of column:  AMARITL \tunique values:\n",
            " ['Widowed' 'Divorced' 'Never married' 'Married-civilian spouse present'\n",
            " 'Separated' 'Married-spouse absent' 'Married-A F spouse present']\n",
            "name of column:  AMJIND \tunique values:\n",
            " ['Not in universe or children' 'Construction' 'Entertainment'\n",
            " 'Finance insurance and real estate' 'Education'\n",
            " 'Business and repair services' 'Manufacturing-nondurable goods'\n",
            " 'Personal services except private HH' 'Manufacturing-durable goods'\n",
            " 'Other professional services' 'Mining' 'Transportation' 'Wholesale trade'\n",
            " 'Public administration' 'Retail trade' 'Social services'\n",
            " 'Private household services' 'Utilities and sanitary services'\n",
            " 'Communications' 'Hospital services' 'Medical except hospital'\n",
            " 'Agriculture' 'Forestry and fisheries' 'Armed Forces']\n",
            "name of column:  AMJOCC \tunique values:\n",
            " ['Not in universe' 'Precision production craft & repair'\n",
            " 'Professional specialty' 'Executive admin and managerial'\n",
            " 'Handlers equip cleaners etc ' 'Adm support including clerical'\n",
            " 'Machine operators assmblrs & inspctrs' 'Other service' 'Sales'\n",
            " 'Private household services' 'Technicians and related support'\n",
            " 'Transportation and material moving' 'Farming forestry and fishing'\n",
            " 'Protective services' 'Armed Forces']\n",
            "name of column:  ARACE \tunique values:\n",
            " ['White' 'Asian or Pacific Islander' 'Amer Indian Aleut or Eskimo' 'Black'\n",
            " 'Other']\n",
            "name of column:  AREORGN \tunique values:\n",
            " ['All other' 'Do not know' 'Central or South American'\n",
            " 'Mexican (Mexicano)' 'Mexican-American' 'Other Spanish' 'Puerto Rican'\n",
            " 'Cuban' 'Chicano' nan]\n",
            "name of column:  ASEX \tunique values:\n",
            " ['Female' 'Male']\n",
            "name of column:  AUNMEM \tunique values:\n",
            " ['Not in universe' 'No' 'Yes']\n",
            "name of column:  AUNTYPE \tunique values:\n",
            " ['Not in universe' 'Job loser - on layoff' 'Other job loser' 'New entrant'\n",
            " 'Re-entrant' 'Job leaver']\n",
            "name of column:  AWKSTAT \tunique values:\n",
            " ['Not in labor force' 'Children or Armed Forces' 'Full-time schedules'\n",
            " 'Unemployed full-time' 'Unemployed part- time'\n",
            " 'PT for non-econ reasons usually FT' 'PT for econ reasons usually PT'\n",
            " 'PT for econ reasons usually FT']\n",
            "name of column:  CAPGAIN \tunique values:\n",
            " [    0  5178   991  2829  3464  5556  7298 15024  1831  3137 10605 20051\n",
            "  2538  3908  2407  2050  3103  1086  7688  5013  4386  2414 99999 13550\n",
            "  2174  4650  4064   914  2354  4787  2009  2597  1055  6097  2635  2105\n",
            "  3325  6767  2228  2062  3942 27828  9562  2176  7262  2202  2290  1173\n",
            "  8614  2329  2653  7430  3456  2580 10520  2907  3471  2885  9386  2993\n",
            "  7896 14084  3818  1409   594  7978  1797  2964  4934  1848  4101  3418\n",
            "  3432  2774  1424  6849  4687  6418  4508  3674  3411  2936  4416  2346\n",
            " 10566  7443  5455  1151 25236  2463  1455  3781 14344  4865 11678  1471\n",
            "  5060   114  4931  1506   401 25124 15020  2036  3273  6514  1111  2977\n",
            " 41310 18481  6497  6723 15831  2098  1264 34095 22040  3887  2961  5721\n",
            "  1090  6360  3800  2387  1731  6612  9472  4594  2601  1140  2227  8530]\n",
            "name of column:  CAPLOSS \tunique values:\n",
            " [   0 1590 1977 1669 1719 2444 1421 1848 2205 2149 2001 1902 2090 1573\n",
            " 2415 2377 1876 1602 1740 1974 2339 1887 1258 2597 2603 1408 1980 1721\n",
            " 1816 1340 2788 2174 2042 1485 2489 2129 2457 2051 1762 2057 1672 2258\n",
            "  213 1651 2206 3770 1628 1564 1668 1735 1579  625 4608 2559 2246 4356\n",
            " 1844 2002 2267 3175 1380 2392 1092 1504 2238 2704 2467  810 1539 2824\n",
            " 1741 1870 1944 1825  419 2547 1510  880 1617 1411 1648  323 2282 2352\n",
            " 3004 1755 1429  653 2163 2179 1436 2722 3500 1640  974 1021 2754 1726\n",
            " 3900 2027  772 2231 1138 1594 2465 2519 1956 1911 2472 2201 2080 3683\n",
            "  155]\n",
            "name of column:  DIVVAL \tunique values:\n",
            " [   0 6000  100 ...  169 1055 7958]\n",
            "name of column:  FILESTAT \tunique values:\n",
            " ['Nonfiler' 'Head of household' 'Joint both under 65' 'Single'\n",
            " 'Joint both 65+' 'Joint one under 65 & one 65+']\n",
            "name of column:  GRINREG \tunique values:\n",
            " ['Not in universe' 'South' 'Northeast' 'Midwest' 'West' 'Abroad']\n",
            "name of column:  GRINST \tunique values:\n",
            " ['Not in universe' 'Arkansas' 'Utah' 'Michigan' 'Minnesota' 'Alaska'\n",
            " 'Kansas' 'Indiana' '?' 'Massachusetts' 'New Mexico' 'Nevada' 'Tennessee'\n",
            " 'Colorado' 'Abroad' 'Kentucky' 'California' 'Arizona' 'North Carolina'\n",
            " 'Connecticut' 'Florida' 'Vermont' 'Maryland' 'Oklahoma' 'Oregon' 'Ohio'\n",
            " 'South Carolina' 'Texas' 'Montana' 'Wyoming' 'Georgia' 'Pennsylvania'\n",
            " 'Iowa' 'New Hampshire' 'Missouri' 'Alabama' 'North Dakota' 'New Jersey'\n",
            " 'Louisiana' 'West Virginia' 'Delaware' 'Illinois' 'Maine' 'Wisconsin'\n",
            " 'New York' 'Idaho' 'District of Columbia' 'South Dakota' 'Nebraska'\n",
            " 'Virginia' 'Mississippi']\n",
            "name of column:  HHDFMX \tunique values:\n",
            " ['Other Rel 18+ ever marr not in subfamily' 'Householder'\n",
            " 'Child 18+ never marr Not in a subfamily'\n",
            " 'Child <18 never marr not in subfamily' 'Spouse of householder'\n",
            " 'Secondary individual' 'Other Rel 18+ never marr not in subfamily'\n",
            " 'Nonfamily householder' 'Grandchild <18 never marr not in subfamily'\n",
            " 'Grandchild <18 never marr child of subfamily RP'\n",
            " 'Child 18+ ever marr Not in a subfamily'\n",
            " 'Child 18+ never marr RP of subfamily' 'Child 18+ spouse of subfamily RP'\n",
            " 'Other Rel <18 never marr child of subfamily RP'\n",
            " 'Child under 18 of RP of unrel subfamily'\n",
            " 'Grandchild 18+ never marr not in subfamily'\n",
            " 'Child 18+ ever marr RP of subfamily'\n",
            " 'Other Rel 18+ ever marr RP of subfamily' 'RP of unrelated subfamily'\n",
            " 'Other Rel 18+ spouse of subfamily RP'\n",
            " 'Other Rel <18 never marr not in subfamily'\n",
            " 'Other Rel <18 spouse of subfamily RP' 'In group quarters'\n",
            " 'Grandchild 18+ spouse of subfamily RP'\n",
            " 'Other Rel 18+ never marr RP of subfamily'\n",
            " 'Child <18 never marr RP of subfamily'\n",
            " 'Child <18 ever marr not in subfamily'\n",
            " 'Other Rel <18 ever marr RP of subfamily'\n",
            " 'Grandchild 18+ ever marr not in subfamily'\n",
            " 'Child <18 spouse of subfamily RP' 'Spouse of RP of unrelated subfamily'\n",
            " 'Other Rel <18 never married RP of subfamily'\n",
            " 'Grandchild 18+ never marr RP of subfamily'\n",
            " 'Grandchild 18+ ever marr RP of subfamily'\n",
            " 'Child <18 ever marr RP of subfamily'\n",
            " 'Other Rel <18 ever marr not in subfamily'\n",
            " 'Grandchild <18 never marr RP of subfamily'\n",
            " 'Grandchild <18 ever marr not in subfamily']\n",
            "name of column:  HHDREL \tunique values:\n",
            " ['Other relative of householder' 'Householder' 'Child 18 or older'\n",
            " 'Child under 18 never married' 'Spouse of householder'\n",
            " 'Nonrelative of householder' 'Group Quarters- Secondary individual'\n",
            " 'Child under 18 ever married']\n",
            "name of column:  MARSUPWT \tunique values:\n",
            " [1700.09 1053.55  991.95 ... 2733.75  908.14 4664.87]\n",
            "name of column:  MIGMTR1 \tunique values:\n",
            " ['?' 'MSA to MSA' 'Nonmover' 'NonMSA to nonMSA' 'Not in universe'\n",
            " 'Not identifiable' 'Abroad to MSA' 'MSA to nonMSA' 'Abroad to nonMSA'\n",
            " 'NonMSA to MSA']\n",
            "name of column:  MIGMTR3 \tunique values:\n",
            " ['?' 'Same county' 'Nonmover' 'Different region'\n",
            " 'Different county same state' 'Not in universe'\n",
            " 'Different division same region' 'Abroad' 'Different state same division']\n",
            "name of column:  MIGMTR4 \tunique values:\n",
            " ['?' 'Same county' 'Nonmover' 'Different state in South'\n",
            " 'Different county same state' 'Not in universe'\n",
            " 'Different state in Northeast' 'Abroad' 'Different state in Midwest'\n",
            " 'Different state in West']\n",
            "name of column:  MIGSAME \tunique values:\n",
            " ['Not in universe under 1 year old' 'No' 'Yes']\n",
            "name of column:  MIGSUN \tunique values:\n",
            " ['?' 'Yes' 'Not in universe' 'No']\n",
            "name of column:  NOEMP \tunique values:\n",
            " [0 1 6 4 5 3 2]\n",
            "name of column:  PARENT \tunique values:\n",
            " ['Not in universe' 'Both parents present' 'Mother only present'\n",
            " 'Neither parent present' 'Father only present']\n",
            "name of column:  PEFNTVTY \tunique values:\n",
            " ['United-States' 'Vietnam' 'Philippines' '?' 'Columbia' 'Germany' 'Mexico'\n",
            " 'Japan' 'Peru' 'Dominican-Republic' 'South Korea' 'Cuba' 'El-Salvador'\n",
            " 'Canada' 'Scotland' 'Outlying-U S (Guam USVI etc)' 'Italy' 'Guatemala'\n",
            " 'Ecuador' 'Puerto-Rico' 'Cambodia' 'China' 'Poland' 'Nicaragua' 'Taiwan'\n",
            " 'England' 'Ireland' 'Hungary' 'Yugoslavia' 'Trinadad&Tobago' 'Jamaica'\n",
            " 'Honduras' 'Portugal' 'Iran' 'France' 'India' 'Hong Kong' 'Haiti'\n",
            " 'Greece' 'Holand-Netherlands' 'Thailand' 'Laos' 'Panama']\n",
            "name of column:  PEMNTVTY \tunique values:\n",
            " ['United-States' 'Vietnam' '?' 'Columbia' 'Mexico' 'El-Salvador' 'Peru'\n",
            " 'Puerto-Rico' 'Cuba' 'Philippines' 'Dominican-Republic' 'Germany'\n",
            " 'England' 'Guatemala' 'Scotland' 'Portugal' 'Italy' 'Ecuador'\n",
            " 'Yugoslavia' 'China' 'Poland' 'Hungary' 'Nicaragua' 'Taiwan' 'Ireland'\n",
            " 'Canada' 'South Korea' 'Trinadad&Tobago' 'Jamaica' 'Honduras' 'Iran'\n",
            " 'France' 'Cambodia' 'India' 'Hong Kong' 'Haiti' 'Japan' 'Greece'\n",
            " 'Holand-Netherlands' 'Thailand' 'Panama' 'Laos'\n",
            " 'Outlying-U S (Guam USVI etc)']\n",
            "name of column:  PENATVTY \tunique values:\n",
            " ['United-States' 'Vietnam' '?' 'Columbia' 'Mexico' 'Peru' 'Cuba'\n",
            " 'Philippines' 'Dominican-Republic' 'El-Salvador' 'Canada' 'Scotland'\n",
            " 'Portugal' 'Guatemala' 'Ecuador' 'Germany' 'Outlying-U S (Guam USVI etc)'\n",
            " 'Puerto-Rico' 'Italy' 'China' 'Poland' 'Nicaragua' 'Taiwan' 'England'\n",
            " 'Ireland' 'South Korea' 'Trinadad&Tobago' 'Jamaica' 'Honduras' 'Iran'\n",
            " 'Hungary' 'France' 'Cambodia' 'India' 'Hong Kong' 'Japan' 'Haiti'\n",
            " 'Holand-Netherlands' 'Greece' 'Thailand' 'Panama' 'Yugoslavia' 'Laos']\n",
            "name of column:  PRCITSHP \tunique values:\n",
            " ['Native- Born in the United States' 'Foreign born- Not a citizen of U S '\n",
            " 'Foreign born- U S citizen by naturalization'\n",
            " 'Native- Born abroad of American Parent(s)'\n",
            " 'Native- Born in Puerto Rico or U S Outlying']\n",
            "name of column:  SEOTR \tunique values:\n",
            " [0 2 1]\n",
            "name of column:  VETQVA \tunique values:\n",
            " ['Not in universe' 'No' 'Yes']\n",
            "name of column:  VETYN \tunique values:\n",
            " [2 0 1]\n",
            "name of column:  WKSWORK \tunique values:\n",
            " [ 0 52 30 49 32 15 38 48  9 24 50 10 45 43  4 26 40 20  6 12 51  1  8 39\n",
            " 13 16 34 14 36 44 22 41 46 28 23 35 25 17 11 37  5 42 29  2 21 19 47  3\n",
            " 27  7 18 33 31]\n",
            "name of column:  YEAR \tunique values:\n",
            " [95 94]\n",
            "name of column:  PTOTVALB \tunique values:\n",
            " ['- 50000.' '50000+.']\n"
          ]
        }
      ]
    },
    {
      "cell_type": "code",
      "metadata": {
        "id": "f0s1hvOSQd_M",
        "outputId": "41fe4d4b-06da-4d02-eb0c-4e33ea8b4d7a",
        "colab": {
          "base_uri": "https://localhost:8080/"
        }
      },
      "source": [
        "df['PTOTVALB'].unique()"
      ],
      "execution_count": 8,
      "outputs": [
        {
          "output_type": "execute_result",
          "data": {
            "text/plain": [
              "array(['- 50000.', '50000+.'], dtype=object)"
            ]
          },
          "metadata": {},
          "execution_count": 8
        }
      ]
    },
    {
      "cell_type": "code",
      "metadata": {
        "id": "RxnnN9zWbXLw",
        "outputId": "49cab813-66f2-47b3-ac9d-05ba23057e96",
        "colab": {
          "base_uri": "https://localhost:8080/"
        }
      },
      "source": [
        "df.YEAR.unique()"
      ],
      "execution_count": 9,
      "outputs": [
        {
          "output_type": "execute_result",
          "data": {
            "text/plain": [
              "array([95, 94])"
            ]
          },
          "metadata": {},
          "execution_count": 9
        }
      ]
    },
    {
      "cell_type": "code",
      "metadata": {
        "id": "RgApg2nM9ZNJ",
        "outputId": "83b0dab6-3756-4376-c35f-264523d4a315",
        "colab": {
          "base_uri": "https://localhost:8080/"
        }
      },
      "source": [
        "print(df.WKSWORK.unique())\n",
        "print(df.WKSWORK.nunique())\n"
      ],
      "execution_count": 10,
      "outputs": [
        {
          "output_type": "stream",
          "name": "stdout",
          "text": [
            "[ 0 52 30 49 32 15 38 48  9 24 50 10 45 43  4 26 40 20  6 12 51  1  8 39\n",
            " 13 16 34 14 36 44 22 41 46 28 23 35 25 17 11 37  5 42 29  2 21 19 47  3\n",
            " 27  7 18 33 31]\n",
            "53\n"
          ]
        }
      ]
    },
    {
      "cell_type": "code",
      "metadata": {
        "id": "OGI1PSH-_HUk",
        "outputId": "bf623de9-f2c2-4da6-ee41-6feaa603867f",
        "colab": {
          "base_uri": "https://localhost:8080/"
        }
      },
      "source": [
        "containsNullReplacement = []\n",
        "for (name,series) in df.iteritems():\n",
        "  for univ in series.unique():\n",
        "    if type(univ) == str:\n",
        "      if 'universe' in univ.lower():\n",
        "        print('name',name,'unique values contains null replacement. \\nvalue:', univ)\n",
        "        containsNullReplacement.append(name)\n",
        "print('list of null equivalent containing column names:', containsNullReplacement)"
      ],
      "execution_count": 11,
      "outputs": [
        {
          "output_type": "stream",
          "name": "stdout",
          "text": [
            "name ACLSWKR unique values contains null replacement. \n",
            "value: Not in universe\n",
            "name AHSCOL unique values contains null replacement. \n",
            "value: Not in universe\n",
            "name AMJIND unique values contains null replacement. \n",
            "value: Not in universe or children\n",
            "name AMJOCC unique values contains null replacement. \n",
            "value: Not in universe\n",
            "name AUNMEM unique values contains null replacement. \n",
            "value: Not in universe\n",
            "name AUNTYPE unique values contains null replacement. \n",
            "value: Not in universe\n",
            "name GRINREG unique values contains null replacement. \n",
            "value: Not in universe\n",
            "name GRINST unique values contains null replacement. \n",
            "value: Not in universe\n",
            "name MIGMTR1 unique values contains null replacement. \n",
            "value: Not in universe\n",
            "name MIGMTR3 unique values contains null replacement. \n",
            "value: Not in universe\n",
            "name MIGMTR4 unique values contains null replacement. \n",
            "value: Not in universe\n",
            "name MIGSAME unique values contains null replacement. \n",
            "value: Not in universe under 1 year old\n",
            "name MIGSUN unique values contains null replacement. \n",
            "value: Not in universe\n",
            "name PARENT unique values contains null replacement. \n",
            "value: Not in universe\n",
            "name VETQVA unique values contains null replacement. \n",
            "value: Not in universe\n",
            "list of null equivalent containing column names: ['ACLSWKR', 'AHSCOL', 'AMJIND', 'AMJOCC', 'AUNMEM', 'AUNTYPE', 'GRINREG', 'GRINST', 'MIGMTR1', 'MIGMTR3', 'MIGMTR4', 'MIGSAME', 'MIGSUN', 'PARENT', 'VETQVA']\n"
          ]
        }
      ]
    },
    {
      "cell_type": "code",
      "metadata": {
        "id": "KBKE5its0KCM",
        "colab": {
          "base_uri": "https://localhost:8080/"
        },
        "outputId": "a3ea865b-c1ab-4115-c889-5388ded3e909"
      },
      "source": [
        "#df.sum()\n",
        "# We will use df.iteritems() as it allows us to iterate through columns\n",
        "for (name, series) in df.iteritems():\n",
        "  if name in not_continuous:#categorical candidates\n",
        "\n",
        "    modes= series.value_counts().keys()\n",
        "    card = series.size\n",
        "    mode1= modes[0]\n",
        "    mode2= modes[1]\n",
        "    mode1count= series.value_counts()[mode1]\n",
        "    mode2count= series.value_counts()[mode2]\n",
        "    mode1percent = \"{:.2f}\".format(mode1count*100.0/float(card))\n",
        "    mode2percent = \"{:.2f}\".format(mode2count*100.0/float(card))\n",
        "  \n",
        "    print(\"|\",name,\"|\",\n",
        "          column_desc[name],\"|\",\n",
        "          series.size,\"|\",\n",
        "          series.isnull().sum(),\"|\",\n",
        "          series.unique().size,\"|\",\n",
        "          mode1,\"|\",mode1count,\"|\",mode1percent,\"|\",\n",
        "          mode2,\"|\",mode2count,\"|\",mode2percent\n",
        "          )\n",
        "    \n",
        "  #print(mode1,mode1count,mode1percent,mode2,mode2count,mode2percent)\n"
      ],
      "execution_count": 12,
      "outputs": [
        {
          "output_type": "stream",
          "name": "stdout",
          "text": [
            "| ACLSWKR | class of worker | 199523 | 0 | 9 | Not in universe | 100245 | 50.24 | Private | 72028 | 36.10\n",
            "| ADTIND | industry code | 199523 | 0 | 52 | 0 | 100684 | 50.46 | 33 | 17070 | 8.56\n",
            "| ADTOCC | occupation code | 199523 | 0 | 47 | 0 | 100684 | 50.46 | 2 | 8756 | 4.39\n",
            "| AHGA | education | 199523 | 0 | 17 | High school graduate | 48407 | 24.26 | Children | 47422 | 23.77\n",
            "| AHSCOL | enrolled in edu inst last wk | 199523 | 0 | 3 | Not in universe | 186943 | 93.69 | High school | 6892 | 3.45\n",
            "| AMARITL | marital status | 199523 | 0 | 7 | Never married | 86485 | 43.35 | Married-civilian spouse present | 84222 | 42.21\n",
            "| AMJIND | major industry code | 199523 | 0 | 24 | Not in universe or children | 100684 | 50.46 | Retail trade | 17070 | 8.56\n",
            "| AMJOCC | major occupation code | 199523 | 0 | 15 | Not in universe | 100684 | 50.46 | Adm support including clerical | 14837 | 7.44\n",
            "| ARACE | mace | 199523 | 0 | 5 | White | 167365 | 83.88 | Black | 20415 | 10.23\n",
            "| AREORGN | hispanic Origin | 199523 | 874 | 10 | All other | 171907 | 86.16 | Mexican-American | 8079 | 4.05\n",
            "| ASEX | sex | 199523 | 0 | 2 | Female | 103984 | 52.12 | Male | 95539 | 47.88\n",
            "| AUNMEM | member of a labor union | 199523 | 0 | 3 | Not in universe | 180459 | 90.45 | No | 16034 | 8.04\n",
            "| AUNTYPE | reason for unemployment | 199523 | 0 | 6 | Not in universe | 193453 | 96.96 | Other job loser | 2038 | 1.02\n",
            "| AWKSTAT | full or part time employment stat | 199523 | 0 | 8 | Children or Armed Forces | 123769 | 62.03 | Full-time schedules | 40736 | 20.42\n",
            "| FILESTAT | tax filer status | 199523 | 0 | 6 | Nonfiler | 75094 | 37.64 | Joint both under 65 | 67383 | 33.77\n",
            "| GRINREG | region of previous residence | 199523 | 0 | 6 | Not in universe | 183750 | 92.09 | South | 4889 | 2.45\n",
            "| GRINST | state of previous residence | 199523 | 0 | 51 | Not in universe | 183750 | 92.09 | California | 1714 | 0.86\n",
            "| HHDFMX | detailed household and family stat | 199523 | 0 | 38 | Householder | 53248 | 26.69 | Child <18 never marr not in subfamily | 50326 | 25.22\n",
            "| HHDREL | detailed household summary in household | 199523 | 0 | 8 | Householder | 75475 | 37.83 | Child under 18 never married | 50426 | 25.27\n",
            "| MIGMTR1 | migration code-change in msa | 199523 | 0 | 10 | ? | 99696 | 49.97 | Nonmover | 82538 | 41.37\n",
            "| MIGMTR3 | migration code-change in reg | 199523 | 0 | 9 | ? | 99696 | 49.97 | Nonmover | 82538 | 41.37\n",
            "| MIGMTR4 | migration code-move within reg | 199523 | 0 | 10 | ? | 99696 | 49.97 | Nonmover | 82538 | 41.37\n",
            "| MIGSAME | live in this house 1 year ago | 199523 | 0 | 3 | Not in universe under 1 year old | 101212 | 50.73 | Yes | 82538 | 41.37\n",
            "| MIGSUN | migration prev res in sunbelt | 199523 | 0 | 4 | ? | 99696 | 49.97 | Not in universe | 84054 | 42.13\n",
            "| NOEMP | num persons worked for employer | 199523 | 0 | 7 | 0 | 95983 | 48.11 | 6 | 36511 | 18.30\n",
            "| PARENT | family members under 18 | 199523 | 0 | 5 | Not in universe | 144232 | 72.29 | Both parents present | 38983 | 19.54\n",
            "| PEFNTVTY | country of birth father | 199523 | 0 | 43 | United-States | 159163 | 79.77 | Mexico | 10008 | 5.02\n",
            "| PEMNTVTY | country of birth mother | 199523 | 0 | 43 | United-States | 160479 | 80.43 | Mexico | 9781 | 4.90\n",
            "| PENATVTY | country of birth self | 199523 | 0 | 43 | United-States | 176989 | 88.71 | Mexico | 5767 | 2.89\n",
            "| PRCITSHP | citizenship | 199523 | 0 | 5 | Native- Born in the United States | 176992 | 88.71 | Foreign born- Not a citizen of U S  | 13401 | 6.72\n",
            "| SEOTR | own business or self employed | 199523 | 0 | 3 | 0 | 180672 | 90.55 | 2 | 16153 | 8.10\n",
            "| VETQVA | fill inc questionnaire for veterans admin | 199523 | 0 | 3 | Not in universe | 197539 | 99.01 | No | 1593 | 0.80\n",
            "| VETYN | veterans benefits | 199523 | 0 | 3 | 2 | 150130 | 75.24 | 0 | 47409 | 23.76\n",
            "| PTOTVALB | PTOTVALB | 199523 | 0 | 2 | - 50000. | 187141 | 93.79 | 50000+. | 12382 | 6.21\n"
          ]
        }
      ]
    },
    {
      "cell_type": "code",
      "metadata": {
        "id": "cT5v1Xno7NXX",
        "colab": {
          "base_uri": "https://localhost:8080/"
        },
        "outputId": "b83dc750-984f-400b-d0e2-782d3680078a"
      },
      "source": [
        "for (name, series) in df.iteritems():\n",
        "  if name not in not_continuous:#continuous candidates\n",
        "    try:\n",
        "      min = '{}'.format(series.min())\n",
        "      \n",
        "      if series.nunique()>= 4:\n",
        "        q1 = '{}'.format(series.quantile(0.25))\n",
        "      else:\n",
        "        q1 = 'too few values'\n",
        "      \n",
        "      median = '{}'.format(series.median())\n",
        "      if series.nunique()>= 4:\n",
        "        q3 = '{}'.format(series.quantile(0.75))\n",
        "      else:\n",
        "        q3 = 'too few values'\n",
        "      max = '{}'.format(series.max())\n",
        "      mean = '{:.2f}'.format(series.mean())\n",
        "      stdev = '{:.2f}'.format(series.std()) \n",
        "      #| Feature | Desc. | Count | % of Missing | Card. | Min. | Q1 | Median | Q3 | Max. | Mean | Std. Dev. | Notes |\n",
        "      missing = series.isnull().sum()\n",
        "      print(\"|\", name,\"|\",\n",
        "            column_desc[name],\"|\",\n",
        "            series.size,\"|\",\n",
        "            missing,\"|\",\n",
        "            series.unique().size,\"|\",\n",
        "            min,\"|\",\n",
        "            q1,\"|\",\n",
        "            median, \"|\",\n",
        "            q3,\"|\",\n",
        "            max,\"|\",\n",
        "            mean,\"|\",\n",
        "            stdev,\"|\"\n",
        "            )\n",
        "    except:\n",
        "        print(series.name, ' is not continuous')"
      ],
      "execution_count": 13,
      "outputs": [
        {
          "output_type": "stream",
          "name": "stdout",
          "text": [
            "| AAGE | Age | 199523 | 0 | 91 | 0 | 15.0 | 33.0 | 50.0 | 90 | 34.49 | 22.31 |\n",
            "| AHRSPAY | wage per hour | 199523 | 0 | 1240 | 0 | 0.0 | 0.0 | 0.0 | 9999 | 55.43 | 274.90 |\n",
            "| CAPGAIN | capital gains | 199523 | 0 | 132 | 0 | 0.0 | 0.0 | 0.0 | 99999 | 434.72 | 4697.53 |\n",
            "| CAPLOSS | capital losses | 199523 | 0 | 113 | 0 | 0.0 | 0.0 | 0.0 | 4608 | 37.31 | 271.90 |\n",
            "| DIVVAL | divdends from stocks | 199523 | 0 | 1478 | 0 | 0.0 | 0.0 | 0.0 | 99999 | 197.53 | 1984.16 |\n",
            "| MARSUPWT | instance weight | 199523 | 0 | 99800 | 37.87 | 1061.615 | 1618.31 | 2188.61 | 18656.3 | 1740.38 | 993.77 |\n",
            "| WKSWORK | weeks worked in year | 199523 | 0 | 53 | 0 | 0.0 | 8.0 | 52.0 | 52 | 23.17 | 24.41 |\n",
            "| YEAR | YEAR | 199523 | 0 | 2 | 94 | too few values | 94.0 | too few values | 95 | 94.50 | 0.50 |\n"
          ]
        }
      ]
    },
    {
      "cell_type": "code",
      "metadata": {
        "id": "CNKO30dvX_Hj"
      },
      "source": [
        ""
      ],
      "execution_count": null,
      "outputs": []
    },
    {
      "cell_type": "markdown",
      "metadata": {
        "id": "msA3qku07YuA"
      },
      "source": [
        "### Data Quality Report for Cont Variables"
      ]
    },
    {
      "cell_type": "markdown",
      "metadata": {
        "id": "RD3bqFx-7YuA"
      },
      "source": [
        "| Feature | Desc. | Count | % of Missing | Card. | Min. | Q1 | Median | Q3 | Max. | Mean | Std. Dev. | Notes |\n",
        "| --- | --- | --- | --- | --- | --- | --- | --- | --- | --- | --- | --- | --- |\n",
        "| AAGE | Age | 199523 | 0 | 91 | 0 | 15.0 | 33.0 | 50.0 | 90 | 34.49 | 22.31 |\n",
        "| AHRSPAY | wage per hour | 199523 | 0 | 1240 | 0 | 0.0 | 0.0 | 0.0 | 9999 | 55.43 | 274.90 |\n",
        "| CAPGAIN | capital gains | 199523 | 0 | 132 | 0 | 0.0 | 0.0 | 0.0 | 99999 | 434.72 | 4697.53 |\n",
        "| CAPLOSS | capital losses | 199523 | 0 | 113 | 0 | 0.0 | 0.0 | 0.0 | 4608 | 37.31 | 271.90 |\n",
        "| DIVVAL | divdends from stocks | 199523 | 0 | 1478 | 0 | 0.0 | 0.0 | 0.0 | 99999 | 197.53 | 1984.16 |\n",
        "| MARSUPWT | instance weight | 199523 | 0 | 99800 | 37.87 | 1061.615 | 1618.31 | 2188.61 | 18656.3 | 1740.38 | 993.77 |\n",
        "| WKSWORK | weeks worked in year | 199523 | 0 | 53 | 0 | 0.0 | 8.0 | 52.0 | 52 | 23.17 | 24.41 |\n",
        "| YEAR | YEAR | 199523 | 0 | 2 | 94 | 94.0 | 94.0 | 95.0 | 95 | 94.50 | 0.50 |\n"
      ]
    },
    {
      "cell_type": "markdown",
      "metadata": {
        "id": "kndvoyu27YuA"
      },
      "source": [
        "### Data Quality Report for Categorical Variables"
      ]
    },
    {
      "cell_type": "markdown",
      "metadata": {
        "id": "UBwUOArP7YuA"
      },
      "source": [
        "| Feature | Desc. | Count | % of Missing | Card. | Mode | Mode Freq. | Mode % | 2nd Mode | 2nd Mode Freq. | 2nd Mode Perc | Notes |\n",
        "| --- | --- | --- | --- | --- | --- | --- | --- | --- | --- | --- | --- |\n",
        "| ACLSWKR | class of worker | 199523 | 0 | 9 | Not in universe | 100245 | 50.24 | Private | 72028 | 36.10\n",
        "| ADTIND | industry code | 199523 | 0 | 52 | 0 | 100684 | 50.46 | 33 | 17070 | 8.56\n",
        "| ADTOCC | occupation code | 199523 | 0 | 47 | 0 | 100684 | 50.46 | 2 | 8756 | 4.39\n",
        "| AHGA | education | 199523 | 0 | 17 | High school graduate | 48407 | 24.26 | Children | 47422 | 23.77\n",
        "| AHSCOL | enrolled in edu inst last wk | 199523 | 0 | 3 | Not in universe | 186943 | 93.69 | High school | 6892 | 3.45\n",
        "| AMARITL | marital status | 199523 | 0 | 7 | Never married | 86485 | 43.35 | Married-civilian spouse present | 84222 | 42.21\n",
        "| AMJIND | major industry code | 199523 | 0 | 24 | Not in universe or children | 100684 | 50.46 | Retail trade | 17070 | 8.56\n",
        "| AMJOCC | major occupation code | 199523 | 0 | 15 | Not in universe | 100684 | 50.46 | Adm support including clerical | 14837 | 7.44\n",
        "| ARACE | mace | 199523 | 0 | 5 | White | 167365 | 83.88 | Black | 20415 | 10.23\n",
        "| AREORGN | hispanic Origin | 199523 | 874 | 10 | All other | 171907 | 86.16 | Mexican-American | 8079 | 4.05\n",
        "| ASEX | sex | 199523 | 0 | 2 | Female | 103984 | 52.12 | Male | 95539 | 47.88\n",
        "| AUNMEM | member of a labor union | 199523 | 0 | 3 | Not in universe | 180459 | 90.45 | No | 16034 | 8.04\n",
        "| AUNTYPE | reason for unemployment | 199523 | 0 | 6 | Not in universe | 193453 | 96.96 | Other job loser | 2038 | 1.02\n",
        "| AWKSTAT | full or part time employment stat | 199523 | 0 | 8 | Children or Armed Forces | 123769 | 62.03 | Full-time schedules | 40736 | 20.42\n",
        "| FILESTAT | tax filer status | 199523 | 0 | 6 | Nonfiler | 75094 | 37.64 | Joint both under 65 | 67383 | 33.77\n",
        "| GRINREG | region of previous residence | 199523 | 0 | 6 | Not in universe | 183750 | 92.09 | South | 4889 | 2.45\n",
        "| GRINST | state of previous residence | 199523 | 0 | 51 | Not in universe | 183750 | 92.09 | California | 1714 | 0.86\n",
        "| HHDFMX | detailed household and family stat | 199523 | 0 | 38 | Householder | 53248 | 26.69 | Child <18 never marr not in subfamily | 50326 | 25.22\n",
        "| HHDREL | detailed household summary in household | 199523 | 0 | 8 | Householder | 75475 | 37.83 | Child under 18 never married | 50426 | 25.27\n",
        "| MIGMTR1 | migration code-change in msa | 199523 | 0 | 10 | ? | 99696 | 49.97 | Nonmover | 82538 | 41.37\n",
        "| MIGMTR3 | migration code-change in reg | 199523 | 0 | 9 | ? | 99696 | 49.97 | Nonmover | 82538 | 41.37\n",
        "| MIGMTR4 | migration code-move within reg | 199523 | 0 | 10 | ? | 99696 | 49.97 | Nonmover | 82538 | 41.37\n",
        "| MIGSAME | live in this house 1 year ago | 199523 | 0 | 3 | Not in universe under 1 year old | 101212 | 50.73 | Yes | 82538 | 41.37\n",
        "| MIGSUN | migration prev res in sunbelt | 199523 | 0 | 4 | ? | 99696 | 49.97 | Not in universe | 84054 | 42.13\n",
        "| NOEMP | num persons worked for employer | 199523 | 0 | 7 | 0 | 95983 | 48.11 | 6 | 36511 | 18.30\n",
        "| PARENT | family members under 18 | 199523 | 0 | 5 | Not in universe | 144232 | 72.29 | Both parents present | 38983 | 19.54\n",
        "| PEFNTVTY | country of birth father | 199523 | 0 | 43 | United-States | 159163 | 79.77 | Mexico | 10008 | 5.02\n",
        "| PEMNTVTY | country of birth mother | 199523 | 0 | 43 | United-States | 160479 | 80.43 | Mexico | 9781 | 4.90\n",
        "| PENATVTY | country of birth self | 199523 | 0 | 43 | United-States | 176989 | 88.71 | Mexico | 5767 | 2.89\n",
        "| PRCITSHP | citizenship | 199523 | 0 | 5 | Native- Born in the United States | 176992 | 88.71 | Foreign born- Not a citizen of U S  | 13401 | 6.72\n",
        "| SEOTR | own business or self employed | 199523 | 0 | 3 | 0 | 180672 | 90.55 | 2 | 16153 | 8.10\n",
        "| VETQVA | fill inc questionnaire for veterans admin | 199523 | 0 | 3 | Not in universe | 197539 | 99.01 | No | 1593 | 0.80\n",
        "| VETYN | veterans benefits | 199523 | 0 | 3 | 2 | 150130 | 75.24 | 0 | 47409 | 23.76\n",
        "| PTOTVALB | PTOTVALB | 199523 | 0 | 2 | - 50000. | 187141 | 93.79 | 50000+. | 12382 | 6.21\n"
      ]
    },
    {
      "cell_type": "markdown",
      "metadata": {
        "id": "ElOdugJS7YuB"
      },
      "source": [
        "### Q2 - Identify the data quality issues for each attribute. Create a data quality plan and implement the changes. [35 pts] \n",
        "\n",
        "Identify missing values, potential anomalies and outliers. Finally, remedy these issues."
      ]
    },
    {
      "cell_type": "markdown",
      "metadata": {
        "id": "ilnro34Aswvb"
      },
      "source": [
        "| Feature | Data Quality Issue | Potential Handling Strategies |\n",
        "| --- | --- | --- |\n",
        "|AAGE|CONTAINS OUTLIERS|Clamp\n",
        "|MARSUPWT|CONTAINS OUTLIERS|Clamp\n",
        "|AHRSPAY| Q1-Q3 ZERO| DROP COLUMN\n",
        "|CAPGAIN|Q1-Q3 ZERO|DROP COLUMN\n",
        "|CAPLOSS|Q1-Q3 ZERO|DROP COLUMN\n",
        "|DIVVAL|Q1-Q3 ZERO|DROP COLUMN\n",
        "|WKSWORK|outliers exist|clamping\n",
        "|ACLSWKR|NIU value/missing value|nothing 50%\n",
        "|AHSCOL|NIU value/missing value|drop column 90%\n",
        "|AMJIND|NIU value/missing value|nothing 50%\n",
        "|AMJOOC|NIU value/missing value|nothing 50%\n",
        "|AUNMEM|NIU value/missing value|drop column 90%\n",
        "|AUNTYPE|NIU value/missing value|drop column 90%\n",
        "|GRINREG|NIU value/missing value|drop column 90%\n",
        "|GRINST|NIU value/missing value|drop column 90%\n",
        "|MIGMTR1|MISSING VALUES|DROP COLUMN MODE1&2 together bad\n",
        "|MIGMTR3|MISSING VALUES|DROP COLUMN MODE1&2 together bad\n",
        "|MIGMTR4|MISSING VALUES|DROP COLUMN MODE1&2 together bad\n",
        "|MIGSAME|MISSING VALUES|do nothing 50%\n",
        "|MIGSUN|MISSING VALUES|DROP COLUMN MODE 1 & 2 BOTH BAD\n",
        "|VETQVA|MISSING VALUES|DROP COLOMN 90%+\n",
        "|PTOTVALB|INFORMATION ON COLUMN IS LIMITED|DROP COLUMN \n"
      ]
    },
    {
      "cell_type": "code",
      "metadata": {
        "id": "qFkpqHr17YuB"
      },
      "source": [
        "drop_columns = ['AHRSPAY','CAPGAIN','CAPLOSS','DIVVAL','AHSCOL','AUNMEM','AUNTYPE','GRINREG','GRINST','MIGMTR1','MIGMTR3','MIGMTR4','MIGSUN','VETQVA','PTOTVALB']\n"
      ],
      "execution_count": 14,
      "outputs": []
    },
    {
      "cell_type": "code",
      "metadata": {
        "colab": {
          "base_uri": "https://localhost:8080/"
        },
        "id": "0UNxc20YxVzV",
        "outputId": "0bbfe307-b86f-4dfc-addb-d6bc0af6ccdb"
      },
      "source": [
        "print(df.columns)"
      ],
      "execution_count": 15,
      "outputs": [
        {
          "output_type": "stream",
          "name": "stdout",
          "text": [
            "Index(['AAGE', 'ACLSWKR', 'ADTIND', 'ADTOCC', 'AHGA', 'AHRSPAY', 'AHSCOL',\n",
            "       'AMARITL', 'AMJIND', 'AMJOCC', 'ARACE', 'AREORGN', 'ASEX', 'AUNMEM',\n",
            "       'AUNTYPE', 'AWKSTAT', 'CAPGAIN', 'CAPLOSS', 'DIVVAL', 'FILESTAT',\n",
            "       'GRINREG', 'GRINST', 'HHDFMX', 'HHDREL', 'MARSUPWT', 'MIGMTR1',\n",
            "       'MIGMTR3', 'MIGMTR4', 'MIGSAME', 'MIGSUN', 'NOEMP', 'PARENT',\n",
            "       'PEFNTVTY', 'PEMNTVTY', 'PENATVTY', 'PRCITSHP', 'SEOTR', 'VETQVA',\n",
            "       'VETYN', 'WKSWORK', 'YEAR', 'PTOTVALB'],\n",
            "      dtype='object')\n"
          ]
        }
      ]
    },
    {
      "cell_type": "code",
      "metadata": {
        "id": "vXTvz6IzxF7k"
      },
      "source": [
        "df = df.drop(drop_columns, axis = 1)\n"
      ],
      "execution_count": 16,
      "outputs": []
    },
    {
      "cell_type": "code",
      "metadata": {
        "colab": {
          "base_uri": "https://localhost:8080/"
        },
        "id": "hO3eEpdHlOR0",
        "outputId": "f32762ae-f7ac-4ee6-89ef-aecdce182397"
      },
      "source": [
        "for (name, series) in df.iteritems():\n",
        "  if name in not_continuous and name not in drop_columns:\n",
        "\n",
        "    modes= series.value_counts().keys()\n",
        "    card = series.size\n",
        "    mode1= modes[0]\n",
        "    mode2= modes[1]\n",
        "    mode1count= series.value_counts()[mode1]\n",
        "    mode2count= series.value_counts()[mode2]\n",
        "    mode1percent = \"{:.2f}\".format(mode1count*100.0/float(card))\n",
        "    mode2percent = \"{:.2f}\".format(mode2count*100.0/float(card))\n",
        "  \n",
        "    print(\"|\",name,\"|\",\n",
        "          column_desc[name],\"|\",\n",
        "          series.size,\"|\",\n",
        "          series.isnull().sum(),\"|\",\n",
        "          series.unique().size,\"|\",\n",
        "          mode1,\"|\",mode1count,\"|\",mode1percent,\"|\",\n",
        "          mode2,\"|\",mode2count,\"|\",mode2percent\n",
        "          )\n",
        "    \n",
        "  "
      ],
      "execution_count": 17,
      "outputs": [
        {
          "output_type": "stream",
          "name": "stdout",
          "text": [
            "| ACLSWKR | class of worker | 199523 | 0 | 9 | Not in universe | 100245 | 50.24 | Private | 72028 | 36.10\n",
            "| ADTIND | industry code | 199523 | 0 | 52 | 0 | 100684 | 50.46 | 33 | 17070 | 8.56\n",
            "| ADTOCC | occupation code | 199523 | 0 | 47 | 0 | 100684 | 50.46 | 2 | 8756 | 4.39\n",
            "| AHGA | education | 199523 | 0 | 17 | High school graduate | 48407 | 24.26 | Children | 47422 | 23.77\n",
            "| AMARITL | marital status | 199523 | 0 | 7 | Never married | 86485 | 43.35 | Married-civilian spouse present | 84222 | 42.21\n",
            "| AMJIND | major industry code | 199523 | 0 | 24 | Not in universe or children | 100684 | 50.46 | Retail trade | 17070 | 8.56\n",
            "| AMJOCC | major occupation code | 199523 | 0 | 15 | Not in universe | 100684 | 50.46 | Adm support including clerical | 14837 | 7.44\n",
            "| ARACE | mace | 199523 | 0 | 5 | White | 167365 | 83.88 | Black | 20415 | 10.23\n",
            "| AREORGN | hispanic Origin | 199523 | 874 | 10 | All other | 171907 | 86.16 | Mexican-American | 8079 | 4.05\n",
            "| ASEX | sex | 199523 | 0 | 2 | Female | 103984 | 52.12 | Male | 95539 | 47.88\n",
            "| AWKSTAT | full or part time employment stat | 199523 | 0 | 8 | Children or Armed Forces | 123769 | 62.03 | Full-time schedules | 40736 | 20.42\n",
            "| FILESTAT | tax filer status | 199523 | 0 | 6 | Nonfiler | 75094 | 37.64 | Joint both under 65 | 67383 | 33.77\n",
            "| HHDFMX | detailed household and family stat | 199523 | 0 | 38 | Householder | 53248 | 26.69 | Child <18 never marr not in subfamily | 50326 | 25.22\n",
            "| HHDREL | detailed household summary in household | 199523 | 0 | 8 | Householder | 75475 | 37.83 | Child under 18 never married | 50426 | 25.27\n",
            "| MIGSAME | live in this house 1 year ago | 199523 | 0 | 3 | Not in universe under 1 year old | 101212 | 50.73 | Yes | 82538 | 41.37\n",
            "| NOEMP | num persons worked for employer | 199523 | 0 | 7 | 0 | 95983 | 48.11 | 6 | 36511 | 18.30\n",
            "| PARENT | family members under 18 | 199523 | 0 | 5 | Not in universe | 144232 | 72.29 | Both parents present | 38983 | 19.54\n",
            "| PEFNTVTY | country of birth father | 199523 | 0 | 43 | United-States | 159163 | 79.77 | Mexico | 10008 | 5.02\n",
            "| PEMNTVTY | country of birth mother | 199523 | 0 | 43 | United-States | 160479 | 80.43 | Mexico | 9781 | 4.90\n",
            "| PENATVTY | country of birth self | 199523 | 0 | 43 | United-States | 176989 | 88.71 | Mexico | 5767 | 2.89\n",
            "| PRCITSHP | citizenship | 199523 | 0 | 5 | Native- Born in the United States | 176992 | 88.71 | Foreign born- Not a citizen of U S  | 13401 | 6.72\n",
            "| SEOTR | own business or self employed | 199523 | 0 | 3 | 0 | 180672 | 90.55 | 2 | 16153 | 8.10\n",
            "| VETYN | veterans benefits | 199523 | 0 | 3 | 2 | 150130 | 75.24 | 0 | 47409 | 23.76\n"
          ]
        }
      ]
    },
    {
      "cell_type": "code",
      "metadata": {
        "colab": {
          "base_uri": "https://localhost:8080/"
        },
        "id": "V-9sDVSZmeVg",
        "outputId": "cdd9cfa4-a57c-45bc-fd05-5c0f8eea14c2"
      },
      "source": [
        "clamped = []\n",
        "  \n",
        "for (name, series) in df.iteritems():\n",
        "  if name not in not_continuous and name not in drop_columns:\n",
        "    try:\n",
        "      q1 = series.quantile(0.25)\n",
        "      q3 = series.quantile(0.75)\n",
        "      stdev = series.std() \n",
        "\n",
        "      if np.abs(q3-q1) >1.5*stdev:\n",
        "        clamped.append(name)\n",
        "        df.loc[series>(q3+stdev),name] = q3+stdev\n",
        "        df.loc[series<(q1-stdev),name] = q1-stdev\n",
        "      #| Feature | Desc. | Count | % of Missing | Card. | Min. | Q1 | Median | Q3 | Max. | Mean | Std. Dev. | Notes |\n",
        "      series = df[name]\n",
        "      min = '{:.2f}'.format(series.min())\n",
        "      q1 = '{:.2f}'.format(series.quantile(0.25))\n",
        "      median = '{}'.format(series.median())\n",
        "      q3 = '{:.2f}'.format(series.quantile(0.75))\n",
        "      max = '{:.2f}'.format(series.max())\n",
        "      mean = '{:.2f}'.format(series.mean())\n",
        "      stdev = '{:.2f}'.format(series.std()) \n",
        "      \n",
        "      print(\"|\", name,\"|\",\n",
        "            column_desc[name],\"|\",\n",
        "            series.size,\"|\",\n",
        "            series.isnull().sum(),\"|\",\n",
        "            series.unique().size,\"|\",\n",
        "            min,\"|\",\n",
        "            q1,\"|\",\n",
        "            median, \"|\",\n",
        "            q3,\"|\",\n",
        "            max,\"|\",\n",
        "            mean,\"|\",\n",
        "            stdev,\"|\"\n",
        "            )\n",
        "    except:\n",
        "        print(series.name, ' is not continuous')\n",
        "print('clamped',clamped)"
      ],
      "execution_count": 18,
      "outputs": [
        {
          "output_type": "stream",
          "name": "stdout",
          "text": [
            "| AAGE | Age | 199523 | 0 | 74 | 0.00 | 15.00 | 33.0 | 50.00 | 72.31 | 34.05 | 21.42 |\n",
            "| MARSUPWT | instance weight | 199523 | 0 | 99800 | 37.87 | 1061.62 | 1618.31 | 2188.61 | 18656.30 | 1740.38 | 993.77 |\n",
            "| WKSWORK | weeks worked in year | 199523 | 0 | 53 | 0.00 | 0.00 | 8.0 | 52.00 | 52.00 | 23.17 | 24.41 |\n",
            "| YEAR | YEAR | 199523 | 0 | 2 | 94.00 | 94.00 | 94.0 | 95.00 | 95.00 | 94.50 | 0.50 |\n",
            "clamped ['AAGE', 'WKSWORK', 'YEAR']\n"
          ]
        }
      ]
    },
    {
      "cell_type": "code",
      "metadata": {
        "id": "Ej3e-Fz0m076"
      },
      "source": [
        ""
      ],
      "execution_count": 18,
      "outputs": []
    },
    {
      "cell_type": "markdown",
      "metadata": {
        "id": "jhqoCfs8nEv5"
      },
      "source": [
        "Categorical revision"
      ]
    },
    {
      "cell_type": "markdown",
      "metadata": {
        "id": "GMmqs8Qtm_b8"
      },
      "source": [
        "| Feature | Desc. | Count | % of Missing | Card. | Mode | Mode Freq. | Mode % | 2nd Mode | 2nd Mode Freq. | 2nd Mode Perc | Notes |\n",
        "| --- | --- | --- | --- | --- | --- | --- | --- | --- | --- | --- | --- |\n",
        "| ACLSWKR | class of worker | 199523 | 0 | 9 | Not in universe | 100245 | 50.24 | Private | 72028 | 36.10\n",
        "| ADTIND | industry code | 199523 | 0 | 52 | 0 | 100684 | 50.46 | 33 | 17070 | 8.56\n",
        "| ADTOCC | occupation code | 199523 | 0 | 47 | 0 | 100684 | 50.46 | 2 | 8756 | 4.39\n",
        "| AHGA | education | 199523 | 0 | 17 | High school graduate | 48407 | 24.26 | Children | 47422 | 23.77\n",
        "| AMARITL | marital status | 199523 | 0 | 7 | Never married | 86485 | 43.35 | Married-civilian spouse present | 84222 | 42.21\n",
        "| AMJIND | major industry code | 199523 | 0 | 24 | Not in universe or children | 100684 | 50.46 | Retail trade | 17070 | 8.56\n",
        "| AMJOCC | major occupation code | 199523 | 0 | 15 | Not in universe | 100684 | 50.46 | Adm support including clerical | 14837 | 7.44\n",
        "| ARACE | mace | 199523 | 0 | 5 | White | 167365 | 83.88 | Black | 20415 | 10.23\n",
        "| AREORGN | hispanic Origin | 199523 | 874 | 10 | All other | 171907 | 86.16 | Mexican-American | 8079 | 4.05\n",
        "| ASEX | sex | 199523 | 0 | 2 | Female | 103984 | 52.12 | Male | 95539 | 47.88\n",
        "| AWKSTAT | full or part time employment stat | 199523 | 0 | 8 | Children or Armed Forces | 123769 | 62.03 | Full-time schedules | 40736 | 20.42\n",
        "| FILESTAT | tax filer status | 199523 | 0 | 6 | Nonfiler | 75094 | 37.64 | Joint both under 65 | 67383 | 33.77\n",
        "| HHDFMX | detailed household and family stat | 199523 | 0 | 38 | Householder | 53248 | 26.69 | Child <18 never marr not in subfamily | 50326 | 25.22\n",
        "| HHDREL | detailed household summary in household | 199523 | 0 | 8 | Householder | 75475 | 37.83 | Child under 18 never married | 50426 | 25.27\n",
        "| MIGSAME | live in this house 1 year ago | 199523 | 0 | 3 | Not in universe under 1 year old | 101212 | 50.73 | Yes | 82538 | 41.37\n",
        "| NOEMP | num persons worked for employer | 199523 | 0 | 7 | 0 | 95983 | 48.11 | 6 | 36511 | 18.30\n",
        "| PARENT | family members under 18 | 199523 | 0 | 5 | Not in universe | 144232 | 72.29 | Both parents present | 38983 | 19.54\n",
        "| PEFNTVTY | country of birth father | 199523 | 0 | 43 | United-States | 159163 | 79.77 | Mexico | 10008 | 5.02\n",
        "| PEMNTVTY | country of birth mother | 199523 | 0 | 43 | United-States | 160479 | 80.43 | Mexico | 9781 | 4.90\n",
        "| PENATVTY | country of birth self | 199523 | 0 | 43 | United-States | 176989 | 88.71 | Mexico | 5767 | 2.89\n",
        "| PRCITSHP | citizenship | 199523 | 0 | 5 | Native- Born in the United States | 176992 | 88.71 | Foreign born- Not a citizen of U S  | 13401 | 6.72\n",
        "| SEOTR | own business or self employed | 199523 | 0 | 3 | 0 | 180672 | 90.55 | 2 | 16153 | 8.10\n",
        "| VETYN | veterans benefits | 199523 | 0 | 3 | 2 | 150130 | 75.24 | 0 | 47409 | 23.76"
      ]
    },
    {
      "cell_type": "markdown",
      "metadata": {
        "id": "zgN_C9303q3L"
      },
      "source": [
        "Continuous revision\n"
      ]
    },
    {
      "cell_type": "markdown",
      "metadata": {
        "id": "A94NKGJY39tr"
      },
      "source": [
        "| Feature | Desc. | Count | % of Missing | Card. | Min. | Q1 | Median | Q3 | Max. | Mean | Std. Dev. | Notes |\n",
        "| --- | --- | --- | --- | --- | --- | --- | --- | --- | --- | --- | --- | --- |\n",
        "| AAGE | Age | 199523 | 0 | 73 | 0.00 | 15.00 | 33.0 | 50.00 | 71.30 | 33.98 | 21.30 |\n",
        "| MARSUPWT | instance weight | 199523 | 0 | 99800 | 37.87 | 1061.62 | 1618.31 | 2188.61 | 18656.30 | 1740.38 | 993.77 |\n",
        "| WKSWORK | weeks worked in year | 199523 | 0 | 53 | 0.00 | 0.00 | 8.0 | 52.00 | 52.00 | 23.17 | 24.41 |\n",
        "| YEAR | YEAR | 199523 | 0 | 2 | 94.00 | 94.00 | 94.0 | 95.00 | 95.00 | 94.50 | 0.50 |\n",
        "\n"
      ]
    },
    {
      "cell_type": "markdown",
      "metadata": {
        "id": "kzfjScBB7YuB"
      },
      "source": [
        "*italicized text*### Q3 - For all the interval and ratio scale features, create a scatter plot matrix (pairplots) and correlation matrix. For all ordinal scale features, create a correlation matrix using Spearman correlation. [35 pts]\n",
        "\n",
        "Use the data scales list you created in Q1."
      ]
    },
    {
      "cell_type": "markdown",
      "metadata": {
        "id": "JQ8wOEhV3rPZ"
      },
      "source": [
        ""
      ]
    },
    {
      "cell_type": "code",
      "metadata": {
        "id": "S_mY0fej7YuB"
      },
      "source": [
        "# your code goes here"
      ],
      "execution_count": 19,
      "outputs": []
    },
    {
      "cell_type": "code",
      "metadata": {
        "id": "etUc3Ir77YuC"
      },
      "source": [
        ""
      ],
      "execution_count": 19,
      "outputs": []
    },
    {
      "cell_type": "code",
      "metadata": {
        "id": "tQJaEGQM7YuC"
      },
      "source": [
        ""
      ],
      "execution_count": 19,
      "outputs": []
    }
  ]
}