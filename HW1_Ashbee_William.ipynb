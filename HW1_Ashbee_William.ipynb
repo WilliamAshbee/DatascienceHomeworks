{
  "nbformat": 4,
  "nbformat_minor": 0,
  "metadata": {
    "kernelspec": {
      "display_name": "Python 3",
      "language": "python",
      "name": "python3"
    },
    "language_info": {
      "codemirror_mode": {
        "name": "ipython",
        "version": 3
      },
      "file_extension": ".py",
      "mimetype": "text/x-python",
      "name": "python",
      "nbconvert_exporter": "python",
      "pygments_lexer": "ipython3",
      "version": "3.7.6"
    },
    "colab": {
      "name": "HW1_Ashbee_William.ipynb",
      "provenance": [],
      "include_colab_link": true
    }
  },
  "cells": [
    {
      "cell_type": "markdown",
      "metadata": {
        "id": "view-in-github",
        "colab_type": "text"
      },
      "source": [
        "<a href=\"https://colab.research.google.com/github/WilliamAshbee/DatascienceHomeworks/blob/main/HW1_Ashbee_William.ipynb\" target=\"_parent\"><img src=\"https://colab.research.google.com/assets/colab-badge.svg\" alt=\"Open In Colab\"/></a>"
      ]
    },
    {
      "cell_type": "markdown",
      "metadata": {
        "id": "H-wvv8tj7Yt4"
      },
      "source": [
        "## Homework 1 - Data Exploration using Census Data\n",
        "\n",
        "In this homework assignment you will use census data from the 1994 and 1995 current population surveys conducted by the U.S. Census Bureau. A copy of this dataset is located at UCI Machine Learning repository, please see this [link](https://archive.ics.uci.edu/ml/datasets/Census-Income+%28KDD%29) to reach to the dataset website.\n",
        "\n",
        "This dataset contains census data extracted from the 1994 and 1995 Current Population Surveys. We will only work with 'training' data (a link to that is provided to you below). The data contains 41 demographic and employment related variables. The abbreviated column names provided to you below. You are expected to read the documentation of this dataset, understand the features and preprocess this dataset. Additional information can be found [in the data description](https://archive.ics.uci.edu/ml/machine-learning-databases/census-income-mld/census-income.data.html) and [additional comments](https://archive.ics.uci.edu/ml/machine-learning-databases/census-income-mld/census-income.names).\n",
        "\n",
        "Below you will find a code snippet to download and read the data into a pandas dataframe. You can alternatively download it yourself, extract and read it manually. The questions are shown in the subsequent cells. You can provide your answers in this file. Make sure to change the notebook's name and add your name before submitting."
      ]
    },
    {
      "cell_type": "code",
      "metadata": {
        "id": "NLWGGDU17Yt7"
      },
      "source": [
        "import pandas as pd\n",
        "import numpy as np"
      ],
      "execution_count": 1,
      "outputs": []
    },
    {
      "cell_type": "code",
      "metadata": {
        "id": "q_IEmycL7Yt8",
        "colab": {
          "base_uri": "https://localhost:8080/"
        },
        "outputId": "c59b4443-6825-4c28-cf53-a8bcb7f6d039"
      },
      "source": [
        "import urllib.request\n",
        "url = 'https://archive.ics.uci.edu/ml/machine-learning-databases/census-income-mld/census-income.data.gz'\n",
        "census_dl_file = './census-income.data.gz'\n",
        "urllib.request.urlretrieve(url, census_dl_file)"
      ],
      "execution_count": 2,
      "outputs": [
        {
          "output_type": "execute_result",
          "data": {
            "text/plain": [
              "('./census-income.data.gz', <http.client.HTTPMessage at 0x7f62fadd7950>)"
            ]
          },
          "metadata": {},
          "execution_count": 2
        }
      ]
    },
    {
      "cell_type": "code",
      "metadata": {
        "id": "GAkD1lSo7Yt9"
      },
      "source": [
        "columns_abbr = ['AAGE', 'ACLSWKR', 'ADTIND', 'ADTOCC', 'AHGA', 'AHRSPAY', 'AHSCOL', 'AMARITL', 'AMJIND', 'AMJOCC',\n",
        "                'ARACE', 'AREORGN', 'ASEX', 'AUNMEM', 'AUNTYPE', 'AWKSTAT', 'CAPGAIN', 'CAPLOSS', 'DIVVAL', \n",
        "                'FILESTAT', 'GRINREG', 'GRINST', 'HHDFMX', 'HHDREL', 'MARSUPWT', 'MIGMTR1', 'MIGMTR3', 'MIGMTR4', \n",
        "                'MIGSAME', 'MIGSUN', 'NOEMP', 'PARENT', 'PEFNTVTY', 'PEMNTVTY', 'PENATVTY', 'PRCITSHP', 'SEOTR', \n",
        "                'VETQVA', 'VETYN', 'WKSWORK', 'YEAR', 'PTOTVALB']"
      ],
      "execution_count": 3,
      "outputs": []
    },
    {
      "cell_type": "code",
      "metadata": {
        "id": "nfo3QLVr7Yt9",
        "colab": {
          "base_uri": "https://localhost:8080/",
          "height": 483
        },
        "outputId": "0ee16ad0-d8af-4db5-a01f-b7cc47c92494"
      },
      "source": [
        "df = pd.read_csv('census-income.data.gz', compression='gzip', names=columns_abbr, sep=r',', skipinitialspace=True)\n",
        "df.head()"
      ],
      "execution_count": 4,
      "outputs": [
        {
          "output_type": "execute_result",
          "data": {
            "text/html": [
              "<div>\n",
              "<style scoped>\n",
              "    .dataframe tbody tr th:only-of-type {\n",
              "        vertical-align: middle;\n",
              "    }\n",
              "\n",
              "    .dataframe tbody tr th {\n",
              "        vertical-align: top;\n",
              "    }\n",
              "\n",
              "    .dataframe thead th {\n",
              "        text-align: right;\n",
              "    }\n",
              "</style>\n",
              "<table border=\"1\" class=\"dataframe\">\n",
              "  <thead>\n",
              "    <tr style=\"text-align: right;\">\n",
              "      <th></th>\n",
              "      <th>AAGE</th>\n",
              "      <th>ACLSWKR</th>\n",
              "      <th>ADTIND</th>\n",
              "      <th>ADTOCC</th>\n",
              "      <th>AHGA</th>\n",
              "      <th>AHRSPAY</th>\n",
              "      <th>AHSCOL</th>\n",
              "      <th>AMARITL</th>\n",
              "      <th>AMJIND</th>\n",
              "      <th>AMJOCC</th>\n",
              "      <th>ARACE</th>\n",
              "      <th>AREORGN</th>\n",
              "      <th>ASEX</th>\n",
              "      <th>AUNMEM</th>\n",
              "      <th>AUNTYPE</th>\n",
              "      <th>AWKSTAT</th>\n",
              "      <th>CAPGAIN</th>\n",
              "      <th>CAPLOSS</th>\n",
              "      <th>DIVVAL</th>\n",
              "      <th>FILESTAT</th>\n",
              "      <th>GRINREG</th>\n",
              "      <th>GRINST</th>\n",
              "      <th>HHDFMX</th>\n",
              "      <th>HHDREL</th>\n",
              "      <th>MARSUPWT</th>\n",
              "      <th>MIGMTR1</th>\n",
              "      <th>MIGMTR3</th>\n",
              "      <th>MIGMTR4</th>\n",
              "      <th>MIGSAME</th>\n",
              "      <th>MIGSUN</th>\n",
              "      <th>NOEMP</th>\n",
              "      <th>PARENT</th>\n",
              "      <th>PEFNTVTY</th>\n",
              "      <th>PEMNTVTY</th>\n",
              "      <th>PENATVTY</th>\n",
              "      <th>PRCITSHP</th>\n",
              "      <th>SEOTR</th>\n",
              "      <th>VETQVA</th>\n",
              "      <th>VETYN</th>\n",
              "      <th>WKSWORK</th>\n",
              "      <th>YEAR</th>\n",
              "      <th>PTOTVALB</th>\n",
              "    </tr>\n",
              "  </thead>\n",
              "  <tbody>\n",
              "    <tr>\n",
              "      <th>0</th>\n",
              "      <td>73</td>\n",
              "      <td>Not in universe</td>\n",
              "      <td>0</td>\n",
              "      <td>0</td>\n",
              "      <td>High school graduate</td>\n",
              "      <td>0</td>\n",
              "      <td>Not in universe</td>\n",
              "      <td>Widowed</td>\n",
              "      <td>Not in universe or children</td>\n",
              "      <td>Not in universe</td>\n",
              "      <td>White</td>\n",
              "      <td>All other</td>\n",
              "      <td>Female</td>\n",
              "      <td>Not in universe</td>\n",
              "      <td>Not in universe</td>\n",
              "      <td>Not in labor force</td>\n",
              "      <td>0</td>\n",
              "      <td>0</td>\n",
              "      <td>0</td>\n",
              "      <td>Nonfiler</td>\n",
              "      <td>Not in universe</td>\n",
              "      <td>Not in universe</td>\n",
              "      <td>Other Rel 18+ ever marr not in subfamily</td>\n",
              "      <td>Other relative of householder</td>\n",
              "      <td>1700.09</td>\n",
              "      <td>?</td>\n",
              "      <td>?</td>\n",
              "      <td>?</td>\n",
              "      <td>Not in universe under 1 year old</td>\n",
              "      <td>?</td>\n",
              "      <td>0</td>\n",
              "      <td>Not in universe</td>\n",
              "      <td>United-States</td>\n",
              "      <td>United-States</td>\n",
              "      <td>United-States</td>\n",
              "      <td>Native- Born in the United States</td>\n",
              "      <td>0</td>\n",
              "      <td>Not in universe</td>\n",
              "      <td>2</td>\n",
              "      <td>0</td>\n",
              "      <td>95</td>\n",
              "      <td>- 50000.</td>\n",
              "    </tr>\n",
              "    <tr>\n",
              "      <th>1</th>\n",
              "      <td>58</td>\n",
              "      <td>Self-employed-not incorporated</td>\n",
              "      <td>4</td>\n",
              "      <td>34</td>\n",
              "      <td>Some college but no degree</td>\n",
              "      <td>0</td>\n",
              "      <td>Not in universe</td>\n",
              "      <td>Divorced</td>\n",
              "      <td>Construction</td>\n",
              "      <td>Precision production craft &amp; repair</td>\n",
              "      <td>White</td>\n",
              "      <td>All other</td>\n",
              "      <td>Male</td>\n",
              "      <td>Not in universe</td>\n",
              "      <td>Not in universe</td>\n",
              "      <td>Children or Armed Forces</td>\n",
              "      <td>0</td>\n",
              "      <td>0</td>\n",
              "      <td>0</td>\n",
              "      <td>Head of household</td>\n",
              "      <td>South</td>\n",
              "      <td>Arkansas</td>\n",
              "      <td>Householder</td>\n",
              "      <td>Householder</td>\n",
              "      <td>1053.55</td>\n",
              "      <td>MSA to MSA</td>\n",
              "      <td>Same county</td>\n",
              "      <td>Same county</td>\n",
              "      <td>No</td>\n",
              "      <td>Yes</td>\n",
              "      <td>1</td>\n",
              "      <td>Not in universe</td>\n",
              "      <td>United-States</td>\n",
              "      <td>United-States</td>\n",
              "      <td>United-States</td>\n",
              "      <td>Native- Born in the United States</td>\n",
              "      <td>0</td>\n",
              "      <td>Not in universe</td>\n",
              "      <td>2</td>\n",
              "      <td>52</td>\n",
              "      <td>94</td>\n",
              "      <td>- 50000.</td>\n",
              "    </tr>\n",
              "    <tr>\n",
              "      <th>2</th>\n",
              "      <td>18</td>\n",
              "      <td>Not in universe</td>\n",
              "      <td>0</td>\n",
              "      <td>0</td>\n",
              "      <td>10th grade</td>\n",
              "      <td>0</td>\n",
              "      <td>High school</td>\n",
              "      <td>Never married</td>\n",
              "      <td>Not in universe or children</td>\n",
              "      <td>Not in universe</td>\n",
              "      <td>Asian or Pacific Islander</td>\n",
              "      <td>All other</td>\n",
              "      <td>Female</td>\n",
              "      <td>Not in universe</td>\n",
              "      <td>Not in universe</td>\n",
              "      <td>Not in labor force</td>\n",
              "      <td>0</td>\n",
              "      <td>0</td>\n",
              "      <td>0</td>\n",
              "      <td>Nonfiler</td>\n",
              "      <td>Not in universe</td>\n",
              "      <td>Not in universe</td>\n",
              "      <td>Child 18+ never marr Not in a subfamily</td>\n",
              "      <td>Child 18 or older</td>\n",
              "      <td>991.95</td>\n",
              "      <td>?</td>\n",
              "      <td>?</td>\n",
              "      <td>?</td>\n",
              "      <td>Not in universe under 1 year old</td>\n",
              "      <td>?</td>\n",
              "      <td>0</td>\n",
              "      <td>Not in universe</td>\n",
              "      <td>Vietnam</td>\n",
              "      <td>Vietnam</td>\n",
              "      <td>Vietnam</td>\n",
              "      <td>Foreign born- Not a citizen of U S</td>\n",
              "      <td>0</td>\n",
              "      <td>Not in universe</td>\n",
              "      <td>2</td>\n",
              "      <td>0</td>\n",
              "      <td>95</td>\n",
              "      <td>- 50000.</td>\n",
              "    </tr>\n",
              "    <tr>\n",
              "      <th>3</th>\n",
              "      <td>9</td>\n",
              "      <td>Not in universe</td>\n",
              "      <td>0</td>\n",
              "      <td>0</td>\n",
              "      <td>Children</td>\n",
              "      <td>0</td>\n",
              "      <td>Not in universe</td>\n",
              "      <td>Never married</td>\n",
              "      <td>Not in universe or children</td>\n",
              "      <td>Not in universe</td>\n",
              "      <td>White</td>\n",
              "      <td>All other</td>\n",
              "      <td>Female</td>\n",
              "      <td>Not in universe</td>\n",
              "      <td>Not in universe</td>\n",
              "      <td>Children or Armed Forces</td>\n",
              "      <td>0</td>\n",
              "      <td>0</td>\n",
              "      <td>0</td>\n",
              "      <td>Nonfiler</td>\n",
              "      <td>Not in universe</td>\n",
              "      <td>Not in universe</td>\n",
              "      <td>Child &lt;18 never marr not in subfamily</td>\n",
              "      <td>Child under 18 never married</td>\n",
              "      <td>1758.14</td>\n",
              "      <td>Nonmover</td>\n",
              "      <td>Nonmover</td>\n",
              "      <td>Nonmover</td>\n",
              "      <td>Yes</td>\n",
              "      <td>Not in universe</td>\n",
              "      <td>0</td>\n",
              "      <td>Both parents present</td>\n",
              "      <td>United-States</td>\n",
              "      <td>United-States</td>\n",
              "      <td>United-States</td>\n",
              "      <td>Native- Born in the United States</td>\n",
              "      <td>0</td>\n",
              "      <td>Not in universe</td>\n",
              "      <td>0</td>\n",
              "      <td>0</td>\n",
              "      <td>94</td>\n",
              "      <td>- 50000.</td>\n",
              "    </tr>\n",
              "    <tr>\n",
              "      <th>4</th>\n",
              "      <td>10</td>\n",
              "      <td>Not in universe</td>\n",
              "      <td>0</td>\n",
              "      <td>0</td>\n",
              "      <td>Children</td>\n",
              "      <td>0</td>\n",
              "      <td>Not in universe</td>\n",
              "      <td>Never married</td>\n",
              "      <td>Not in universe or children</td>\n",
              "      <td>Not in universe</td>\n",
              "      <td>White</td>\n",
              "      <td>All other</td>\n",
              "      <td>Female</td>\n",
              "      <td>Not in universe</td>\n",
              "      <td>Not in universe</td>\n",
              "      <td>Children or Armed Forces</td>\n",
              "      <td>0</td>\n",
              "      <td>0</td>\n",
              "      <td>0</td>\n",
              "      <td>Nonfiler</td>\n",
              "      <td>Not in universe</td>\n",
              "      <td>Not in universe</td>\n",
              "      <td>Child &lt;18 never marr not in subfamily</td>\n",
              "      <td>Child under 18 never married</td>\n",
              "      <td>1069.16</td>\n",
              "      <td>Nonmover</td>\n",
              "      <td>Nonmover</td>\n",
              "      <td>Nonmover</td>\n",
              "      <td>Yes</td>\n",
              "      <td>Not in universe</td>\n",
              "      <td>0</td>\n",
              "      <td>Both parents present</td>\n",
              "      <td>United-States</td>\n",
              "      <td>United-States</td>\n",
              "      <td>United-States</td>\n",
              "      <td>Native- Born in the United States</td>\n",
              "      <td>0</td>\n",
              "      <td>Not in universe</td>\n",
              "      <td>0</td>\n",
              "      <td>0</td>\n",
              "      <td>94</td>\n",
              "      <td>- 50000.</td>\n",
              "    </tr>\n",
              "  </tbody>\n",
              "</table>\n",
              "</div>"
            ],
            "text/plain": [
              "   AAGE                         ACLSWKR  ADTIND  ...  WKSWORK YEAR  PTOTVALB\n",
              "0    73                 Not in universe       0  ...        0   95  - 50000.\n",
              "1    58  Self-employed-not incorporated       4  ...       52   94  - 50000.\n",
              "2    18                 Not in universe       0  ...        0   95  - 50000.\n",
              "3     9                 Not in universe       0  ...        0   94  - 50000.\n",
              "4    10                 Not in universe       0  ...        0   94  - 50000.\n",
              "\n",
              "[5 rows x 42 columns]"
            ]
          },
          "metadata": {},
          "execution_count": 4
        }
      ]
    },
    {
      "cell_type": "code",
      "metadata": {
        "id": "jL5GVeRo7Yt9",
        "colab": {
          "base_uri": "https://localhost:8080/"
        },
        "outputId": "a6f0e8d4-fba3-4843-9f45-5ad3c36a6445"
      },
      "source": [
        "# you can see the DataFrame's info panel here\n",
        "columns_names = ['AAGE',\n",
        "                 'ACLSWKR',\n",
        "                 'ADTIND',\n",
        "                 'ADTOCC',\n",
        "                 'AHGA',\n",
        "                 'AHRSPAY',\n",
        "                 'AHSCOL', \n",
        "                 'AMARITL',\n",
        "                 'AMJIND', \n",
        "                 'AMJOCC',\n",
        "                'ARACE', \n",
        "                 'AREORGN',\n",
        "                 'ASEX',\n",
        "                 'AUNMEM', \n",
        "                 'AUNTYPE',\n",
        "                 'AWKSTAT',\n",
        "                 'CAPGAIN', \n",
        "                 'CAPLOSS', \n",
        "                 'DIVVAL',\n",
        "                'FILESTAT',\n",
        "                 'GRINREG',\n",
        "                 'GRINST', \n",
        "                 'HHDFMX', \n",
        "                 'HHDREL', \n",
        "                 'MARSUPWT', \n",
        "                 'MIGMTR1',\n",
        "                 'MIGMTR3', \n",
        "                 'MIGMTR4',\n",
        "                'MIGSAME', \n",
        "                 'MIGSUN',\n",
        "                 'NOEMP', \n",
        "                 'PARENT', \n",
        "                 'PEFNTVTY', \n",
        "                 'PEMNTVTY', \n",
        "                 'PENATVTY', \n",
        "                 'PRCITSHP', \n",
        "                 'SEOTR', \n",
        "                'VETQVA', \n",
        "                 'VETYN', \n",
        "                 'WKSWORK', \n",
        "                 'YEAR', \n",
        "                 'PTOTVALB']\n",
        "\n",
        "column_desc = {'AAGE':'Age',\n",
        "'ACLSWKR':'class of worker',\n",
        "'ADTIND':'industry code',\n",
        "'ADTOCC':'occupation code',\n",
        "'AHGA':'education',\n",
        "'AHRSPAY':'wage per hour',\n",
        "'AHSCOL':'enrolled in edu inst last wk',\n",
        "'AMARITL':'marital status',\n",
        "'AMJIND':'major industry code',\n",
        "'AMJOCC':'major occupation code',\n",
        "'ARACE':'mace',\n",
        "'AREORGN':'hispanic Origin',\n",
        "'ASEX':'sex',\n",
        "'AUNMEM':'member of a labor union',\n",
        "'AUNTYPE':'reason for unemployment',\n",
        "'AWKSTAT':'full or part time employment stat',\n",
        "'CAPGAIN':'capital gains',\n",
        "'CAPLOSS':'capital losses',\n",
        "'DIVVAL':'divdends from stocks',\n",
        "'FILESTAT':'tax filer status',\n",
        "'GRINREG':'region of previous residence',\n",
        "'GRINST':'state of previous residence',\n",
        "'HHDFMX':'detailed household and family stat',\n",
        "'HHDREL':'detailed household summary in household',\n",
        "'MARSUPWT':'instance weight',\n",
        "'MIGMTR1':'migration code-change in msa',\n",
        "'MIGMTR3':'migration code-change in reg',\n",
        "'MIGMTR4':'migration code-move within reg',\n",
        "'MIGSAME':'live in this house 1 year ago',\n",
        "'MIGSUN':'migration prev res in sunbelt',\n",
        "'NOEMP':'num persons worked for employer',\n",
        "'PARENT':'family members under 18',\n",
        "'PEFNTVTY':'country of birth father',\n",
        "'PEMNTVTY':'country of birth mother',\n",
        "'PENATVTY':'country of birth self',\n",
        "'PRCITSHP':'citizenship',\n",
        "'SEOTR':'own business or self employed',\n",
        "'VETQVA':'fill inc questionnaire for veterans admin',\n",
        "'VETYN':'veterans benefits',\n",
        "'WKSWORK':'weeks worked in year',\n",
        "'YEAR':'YEAR',\n",
        "'PTOTVALB':'PTOTVALB'}\n",
        "\n",
        "a = set(columns_names)\n",
        "b = set(column_desc.keys())\n",
        "print(a-b)\n",
        "print(len(columns_names),len(column_desc))\n",
        "df.info()"
      ],
      "execution_count": 5,
      "outputs": [
        {
          "output_type": "stream",
          "name": "stdout",
          "text": [
            "set()\n",
            "42 42\n",
            "<class 'pandas.core.frame.DataFrame'>\n",
            "RangeIndex: 199523 entries, 0 to 199522\n",
            "Data columns (total 42 columns):\n",
            " #   Column    Non-Null Count   Dtype  \n",
            "---  ------    --------------   -----  \n",
            " 0   AAGE      199523 non-null  int64  \n",
            " 1   ACLSWKR   199523 non-null  object \n",
            " 2   ADTIND    199523 non-null  int64  \n",
            " 3   ADTOCC    199523 non-null  int64  \n",
            " 4   AHGA      199523 non-null  object \n",
            " 5   AHRSPAY   199523 non-null  int64  \n",
            " 6   AHSCOL    199523 non-null  object \n",
            " 7   AMARITL   199523 non-null  object \n",
            " 8   AMJIND    199523 non-null  object \n",
            " 9   AMJOCC    199523 non-null  object \n",
            " 10  ARACE     199523 non-null  object \n",
            " 11  AREORGN   198649 non-null  object \n",
            " 12  ASEX      199523 non-null  object \n",
            " 13  AUNMEM    199523 non-null  object \n",
            " 14  AUNTYPE   199523 non-null  object \n",
            " 15  AWKSTAT   199523 non-null  object \n",
            " 16  CAPGAIN   199523 non-null  int64  \n",
            " 17  CAPLOSS   199523 non-null  int64  \n",
            " 18  DIVVAL    199523 non-null  int64  \n",
            " 19  FILESTAT  199523 non-null  object \n",
            " 20  GRINREG   199523 non-null  object \n",
            " 21  GRINST    199523 non-null  object \n",
            " 22  HHDFMX    199523 non-null  object \n",
            " 23  HHDREL    199523 non-null  object \n",
            " 24  MARSUPWT  199523 non-null  float64\n",
            " 25  MIGMTR1   199523 non-null  object \n",
            " 26  MIGMTR3   199523 non-null  object \n",
            " 27  MIGMTR4   199523 non-null  object \n",
            " 28  MIGSAME   199523 non-null  object \n",
            " 29  MIGSUN    199523 non-null  object \n",
            " 30  NOEMP     199523 non-null  int64  \n",
            " 31  PARENT    199523 non-null  object \n",
            " 32  PEFNTVTY  199523 non-null  object \n",
            " 33  PEMNTVTY  199523 non-null  object \n",
            " 34  PENATVTY  199523 non-null  object \n",
            " 35  PRCITSHP  199523 non-null  object \n",
            " 36  SEOTR     199523 non-null  int64  \n",
            " 37  VETQVA    199523 non-null  object \n",
            " 38  VETYN     199523 non-null  int64  \n",
            " 39  WKSWORK   199523 non-null  int64  \n",
            " 40  YEAR      199523 non-null  int64  \n",
            " 41  PTOTVALB  199523 non-null  object \n",
            "dtypes: float64(1), int64(12), object(29)\n",
            "memory usage: 63.9+ MB\n"
          ]
        }
      ]
    },
    {
      "cell_type": "markdown",
      "metadata": {
        "id": "TVlWyCmb7Yt-"
      },
      "source": [
        "### Q1 - Identify the data scales and data types for each variable in census data. Identify the domain for each variable by checking the attributes' values. Then, create a data quality report for both categorical (nominal, ordinal) and continuous (interval, ratio) variables. [40 pts]\n",
        "\n",
        "For data scales, identify whether an attribute is nominal, ordinal, interval or ratio scale.\n",
        "For data types, identify the domain and provide an appropriate data type (integer, float, String, date, Boolean). See if that data type is correct in your dataframe.\n",
        "For domain, inspect each distinct value for each attribute. Identify missing values. Also include the bar plots and histograms for visualizing the distributions. \n",
        "\n",
        "*The examples for a continious and a categorical feature can be seen below. You do not need to use jupyter formatting provided here. You can print a DataFrame or read a csv, and display it. Make sure you have the csv in your zip file.*"
      ]
    },
    {
      "cell_type": "code",
      "metadata": {
        "id": "dzVp-HQl7Yt_"
      },
      "source": [
        "# your code goes here\n",
        "categorical = ['ACLSWKR', 'AHGA', 'AHSCOL', 'AMARITL', 'AMJIND', 'AMJOCC', 'ARACE', 'AREORGN', 'ASEX', 'AUNMEM', 'AUNTYPE', 'AWKSTAT', 'FILESTAT', 'GRINREG', 'GRINST', 'HHDFMX', 'HHDREL', \n",
        "'MIGMTR1', 'MIGMTR3', 'MIGMTR4', 'MIGSAME', 'MIGSUN', 'PARENT', 'PEFNTVTY', 'PEMNTVTY', 'PENATVTY', 'PRCITSHP', 'VETQVA', 'PTOTVALB']\n",
        "\n",
        "\n"
      ],
      "execution_count": 6,
      "outputs": []
    },
    {
      "cell_type": "code",
      "metadata": {
        "id": "KBKE5its0KCM",
        "colab": {
          "base_uri": "https://localhost:8080/"
        },
        "outputId": "36750b78-cb93-4310-fe65-80731968a7d4"
      },
      "source": [
        "#df.sum()\n",
        "# We will use df.iteritems() as it allows us to iterate through columns\n",
        "for (name, series) in df.iteritems():\n",
        "  #print('ANALYZING THE COLUMN:', name)\n",
        "  #print('\\tTotal number of records', series.size)\n",
        "  #print('\\tNumber of missing values', series.isnull().sum())\n",
        "  #print('\\tPercentage of missing values {0}%'.format(((series.isnull().sum()/series.size)*100)) )\n",
        "  #print('\\tNumber of unique values', series.unique().size)\n",
        "  #print('| Feature | Desc. | Count | % of Missing | Card. | Mode | Mode Freq. | Mode % | 2nd Mode | 2nd Mode Freq. | 2nd Mode Perc | Notes |')\n",
        "  \n",
        "  #catagorical = True\n",
        "  if name in categorical:\n",
        "\n",
        "    modes= series.value_counts().keys()\n",
        "    card = series.size\n",
        "    mode1= modes[0]\n",
        "    mode2= modes[1]\n",
        "    mode1count= series.value_counts()[mode1]\n",
        "    mode2count= series.value_counts()[mode2]\n",
        "    mode1percent = \"{:.2f}\".format(mode1count*100.0/float(card))\n",
        "    mode2percent = \"{:.2f}\".format(mode2count*100.0/float(card))\n",
        "  \n",
        "    print(\"|\",name,\"|\",\n",
        "          column_desc[name],\"|\",\n",
        "          series.size,\"|\",\n",
        "          series.isnull().sum(),\"|\",\n",
        "          series.unique().size,\"|\",\n",
        "          mode1,\"|\",mode1count,\"|\",mode1percent,\"|\",\n",
        "          mode2,\"|\",mode2count,\"|\",mode2percent\n",
        "          )\n",
        "    \n",
        "  #print(mode1,mode1count,mode1percent,mode2,mode2count,mode2percent)\n"
      ],
      "execution_count": 18,
      "outputs": [
        {
          "output_type": "stream",
          "name": "stdout",
          "text": [
            "| ACLSWKR | class of worker | 199523 | 0 | 9 | Not in universe | 100245 | 50.24 | Private | 72028 | 36.10\n",
            "| AHGA | education | 199523 | 0 | 17 | High school graduate | 48407 | 24.26 | Children | 47422 | 23.77\n",
            "| AHSCOL | enrolled in edu inst last wk | 199523 | 0 | 3 | Not in universe | 186943 | 93.69 | High school | 6892 | 3.45\n",
            "| AMARITL | marital status | 199523 | 0 | 7 | Never married | 86485 | 43.35 | Married-civilian spouse present | 84222 | 42.21\n",
            "| AMJIND | major industry code | 199523 | 0 | 24 | Not in universe or children | 100684 | 50.46 | Retail trade | 17070 | 8.56\n",
            "| AMJOCC | major occupation code | 199523 | 0 | 15 | Not in universe | 100684 | 50.46 | Adm support including clerical | 14837 | 7.44\n",
            "| ARACE | mace | 199523 | 0 | 5 | White | 167365 | 83.88 | Black | 20415 | 10.23\n",
            "| AREORGN | hispanic Origin | 199523 | 874 | 10 | All other | 171907 | 86.16 | Mexican-American | 8079 | 4.05\n",
            "| ASEX | sex | 199523 | 0 | 2 | Female | 103984 | 52.12 | Male | 95539 | 47.88\n",
            "| AUNMEM | member of a labor union | 199523 | 0 | 3 | Not in universe | 180459 | 90.45 | No | 16034 | 8.04\n",
            "| AUNTYPE | reason for unemployment | 199523 | 0 | 6 | Not in universe | 193453 | 96.96 | Other job loser | 2038 | 1.02\n",
            "| AWKSTAT | full or part time employment stat | 199523 | 0 | 8 | Children or Armed Forces | 123769 | 62.03 | Full-time schedules | 40736 | 20.42\n",
            "| FILESTAT | tax filer status | 199523 | 0 | 6 | Nonfiler | 75094 | 37.64 | Joint both under 65 | 67383 | 33.77\n",
            "| GRINREG | region of previous residence | 199523 | 0 | 6 | Not in universe | 183750 | 92.09 | South | 4889 | 2.45\n",
            "| GRINST | state of previous residence | 199523 | 0 | 51 | Not in universe | 183750 | 92.09 | California | 1714 | 0.86\n",
            "| HHDFMX | detailed household and family stat | 199523 | 0 | 38 | Householder | 53248 | 26.69 | Child <18 never marr not in subfamily | 50326 | 25.22\n",
            "| HHDREL | detailed household summary in household | 199523 | 0 | 8 | Householder | 75475 | 37.83 | Child under 18 never married | 50426 | 25.27\n",
            "| MIGMTR1 | migration code-change in msa | 199523 | 0 | 10 | ? | 99696 | 49.97 | Nonmover | 82538 | 41.37\n",
            "| MIGMTR3 | migration code-change in reg | 199523 | 0 | 9 | ? | 99696 | 49.97 | Nonmover | 82538 | 41.37\n",
            "| MIGMTR4 | migration code-move within reg | 199523 | 0 | 10 | ? | 99696 | 49.97 | Nonmover | 82538 | 41.37\n",
            "| MIGSAME | live in this house 1 year ago | 199523 | 0 | 3 | Not in universe under 1 year old | 101212 | 50.73 | Yes | 82538 | 41.37\n",
            "| MIGSUN | migration prev res in sunbelt | 199523 | 0 | 4 | ? | 99696 | 49.97 | Not in universe | 84054 | 42.13\n",
            "| PARENT | family members under 18 | 199523 | 0 | 5 | Not in universe | 144232 | 72.29 | Both parents present | 38983 | 19.54\n",
            "| PEFNTVTY | country of birth father | 199523 | 0 | 43 | United-States | 159163 | 79.77 | Mexico | 10008 | 5.02\n",
            "| PEMNTVTY | country of birth mother | 199523 | 0 | 43 | United-States | 160479 | 80.43 | Mexico | 9781 | 4.90\n",
            "| PENATVTY | country of birth self | 199523 | 0 | 43 | United-States | 176989 | 88.71 | Mexico | 5767 | 2.89\n",
            "| PRCITSHP | citizenship | 199523 | 0 | 5 | Native- Born in the United States | 176992 | 88.71 | Foreign born- Not a citizen of U S  | 13401 | 6.72\n",
            "| VETQVA | fill inc questionnaire for veterans admin | 199523 | 0 | 3 | Not in universe | 197539 | 99.01 | No | 1593 | 0.80\n",
            "| PTOTVALB | PTOTVALB | 199523 | 0 | 2 | - 50000. | 187141 | 93.79 | 50000+. | 12382 | 6.21\n"
          ]
        }
      ]
    },
    {
      "cell_type": "code",
      "metadata": {
        "id": "cT5v1Xno7NXX",
        "colab": {
          "base_uri": "https://localhost:8080/"
        },
        "outputId": "d5582968-7fca-4b7b-af55-0bd43d18a1da"
      },
      "source": [
        "for (name, series) in df.iteritems():\n",
        "  \n",
        "  catagorical = True\n",
        "  if catagorical:\n",
        "\n",
        "    \n",
        "    try:\n",
        "      min = '{}'.format(series.min())\n",
        "      q1 = '{}'.format(series.quantile(0.25))\n",
        "      median = '{}'.format(series.median())\n",
        "      q3 = '{}'.format(series.quantile(0.75))\n",
        "      max = '{}'.format(series.max())\n",
        "      mean = '{:.2f}'.format(series.mean())\n",
        "      stdev = '{:.2f}'.format(series.std()) \n",
        "\n",
        "      #| Feature | Desc. | Count | % of Missing | Card. | Min. | Q1 | Median | Q3 | Max. | Mean | Std. Dev. | Notes |\n",
        "      \n",
        "      print(\"|\", name,\"|\",\n",
        "            column_desc[name],\"|\",\n",
        "            series.size,\"|\",\n",
        "            series.isnull().sum(),\"|\",\n",
        "            series.unique().size,\"|\",\n",
        "            min,\"|\",\n",
        "            q1,\"|\",\n",
        "            median, \"|\",\n",
        "            q3,\"|\",\n",
        "            max,\"|\",\n",
        "            mean,\"|\",\n",
        "            stdev,\"|\"\n",
        "            )\n",
        "    except:\n",
        "        print(series.name, ' is not continuous')"
      ],
      "execution_count": 8,
      "outputs": [
        {
          "output_type": "stream",
          "name": "stdout",
          "text": [
            "| AAGE | Age | 199523 | 0 | 91 | 0 | 15.0 | 33.0 | 50.0 | 90 | 34.49 | 22.31 |\n",
            "ACLSWKR  is not continuous\n",
            "| ADTIND | industry code | 199523 | 0 | 52 | 0 | 0.0 | 0.0 | 33.0 | 51 | 15.35 | 18.07 |\n",
            "| ADTOCC | occupation code | 199523 | 0 | 47 | 0 | 0.0 | 0.0 | 26.0 | 46 | 11.31 | 14.45 |\n",
            "AHGA  is not continuous\n",
            "| AHRSPAY | wage per hour | 199523 | 0 | 1240 | 0 | 0.0 | 0.0 | 0.0 | 9999 | 55.43 | 274.90 |\n",
            "AHSCOL  is not continuous\n",
            "AMARITL  is not continuous\n",
            "AMJIND  is not continuous\n",
            "AMJOCC  is not continuous\n",
            "ARACE  is not continuous\n",
            "AREORGN  is not continuous\n",
            "ASEX  is not continuous\n",
            "AUNMEM  is not continuous\n",
            "AUNTYPE  is not continuous\n",
            "AWKSTAT  is not continuous\n",
            "| CAPGAIN | capital gains | 199523 | 0 | 132 | 0 | 0.0 | 0.0 | 0.0 | 99999 | 434.72 | 4697.53 |\n",
            "| CAPLOSS | capital losses | 199523 | 0 | 113 | 0 | 0.0 | 0.0 | 0.0 | 4608 | 37.31 | 271.90 |\n",
            "| DIVVAL | divdends from stocks | 199523 | 0 | 1478 | 0 | 0.0 | 0.0 | 0.0 | 99999 | 197.53 | 1984.16 |\n",
            "FILESTAT  is not continuous\n",
            "GRINREG  is not continuous\n",
            "GRINST  is not continuous\n",
            "HHDFMX  is not continuous\n",
            "HHDREL  is not continuous\n",
            "| MARSUPWT | instance weight | 199523 | 0 | 99800 | 37.87 | 1061.615 | 1618.31 | 2188.61 | 18656.3 | 1740.38 | 993.77 |\n",
            "MIGMTR1  is not continuous\n",
            "MIGMTR3  is not continuous\n",
            "MIGMTR4  is not continuous\n",
            "MIGSAME  is not continuous\n",
            "MIGSUN  is not continuous\n",
            "| NOEMP | num persons worked for employer | 199523 | 0 | 7 | 0 | 0.0 | 1.0 | 4.0 | 6 | 1.96 | 2.37 |\n",
            "PARENT  is not continuous\n",
            "PEFNTVTY  is not continuous\n",
            "PEMNTVTY  is not continuous\n",
            "PENATVTY  is not continuous\n",
            "PRCITSHP  is not continuous\n",
            "| SEOTR | own business or self employed | 199523 | 0 | 3 | 0 | 0.0 | 0.0 | 0.0 | 2 | 0.18 | 0.55 |\n",
            "VETQVA  is not continuous\n",
            "| VETYN | veterans benefits | 199523 | 0 | 3 | 0 | 2.0 | 2.0 | 2.0 | 2 | 1.51 | 0.85 |\n",
            "| WKSWORK | weeks worked in year | 199523 | 0 | 53 | 0 | 0.0 | 8.0 | 52.0 | 52 | 23.17 | 24.41 |\n",
            "| YEAR | YEAR | 199523 | 0 | 2 | 94 | 94.0 | 94.0 | 95.0 | 95 | 94.50 | 0.50 |\n",
            "PTOTVALB  is not continuous\n"
          ]
        }
      ]
    },
    {
      "cell_type": "code",
      "metadata": {
        "id": "OpDWwHJIUT26"
      },
      "source": [
        "#the following are not continuous\n",
        "categorical = ['ACLSWKR', 'AHGA', 'AHSCOL', 'AMARITL', 'AMJIND', 'AMJOCC', 'ARACE', 'AREORGN', 'ASEX', 'AUNMEM', 'AUNTYPE', 'AWKSTAT', 'FILESTAT', 'GRINREG', 'GRINST', 'HHDFMX', 'HHDREL', \n",
        "'MIGMTR1', 'MIGMTR3', 'MIGMTR4', 'MIGSAME', 'MIGSUN', 'PARENT', 'PEFNTVTY', 'PEMNTVTY', 'PENATVTY', 'PRCITSHP', 'VETQVA', 'PTOTVALB']\n"
      ],
      "execution_count": 15,
      "outputs": []
    },
    {
      "cell_type": "code",
      "metadata": {
        "id": "IqXOsVd1WO8e"
      },
      "source": [
        ""
      ],
      "execution_count": null,
      "outputs": []
    },
    {
      "cell_type": "markdown",
      "metadata": {
        "id": "6L1dLUWBxVzI"
      },
      "source": [
        "| Feature | Desc. | Count | % of Missing | Card. | Min. | Q1 | Median | Q3 | Max. | Mean | Std. Dev. | Notes |\n",
        "| --- | --- | --- | --- | --- | --- | --- | --- | --- | --- | --- | --- | --- |\n",
        "| AAGE | Age | 199,523 | 0 | 91 | 0 | 15 | 33 | 50 | 90 | 34.49 | 22.31 |  |\n",
        "| AAGE | Age | 199523 | 0 | 91 | 0 | 15.0 | 33.0 | 50.0 | 90 | 34.49 | 22.31 |\n",
        "| ADTIND | industry code | 199523 | 0 | 52 | 0 | 0.0 | 0.0 | 33.0 | 51 | 15.35 | 18.07 |\n",
        "| ADTOCC | occupation code | 199523 | 0 | 47 | 0 | 0.0 | 0.0 | 26.0 | 46 | 11.31 | 14.45 |\n",
        "| AHRSPAY | wage per hour | 199523 | 0 | 1240 | 0 | 0.0 | 0.0 | 0.0 | 9999 | 55.43 | 274.90 |\n",
        "| CAPGAIN | capital gains | 199523 | 0 | 132 | 0 | 0.0 | 0.0 | 0.0 | 99999 | 434.72 | 4697.53 |\n",
        "| CAPLOSS | capital losses | 199523 | 0 | 113 | 0 | 0.0 | 0.0 | 0.0 | 4608 | 37.31 | 271.90 |\n",
        "| DIVVAL | divdends from stocks | 199523 | 0 | 1478 | 0 | 0.0 | 0.0 | 0.0 | 99999 | 197.53 | 1984.16 |\n",
        "| MARSUPWT | instance weight | 199523 | 0 | 99800 | 37.87 | 1061.615 | 1618.31 | 2188.61 | 18656.3 | 1740.38 | 993.77 |\n",
        "| NOEMP | num persons worked for employer | 199523 | 0 | 7 | 0 | 0.0 | 1.0 | 4.0 | 6 | 1.96 | 2.37 |\n",
        "| SEOTR | own business or self employed | 199523 | 0 | 3 | 0 | 0.0 | 0.0 | 0.0 | 2 | 0.18 | 0.55 |\n",
        "| VETYN | veterans benefits | 199523 | 0 | 3 | 0 | 2.0 | 2.0 | 2.0 | 2 | 1.51 | 0.85 |\n",
        "| WKSWORK | weeks worked in year | 199523 | 0 | 53 | 0 | 0.0 | 8.0 | 52.0 | 52 | 23.17 | 24.41 |\n",
        "| YEAR | YEAR | 199523 | 0 | 2 | 94 | 94.0 | 94.0 | 95.0 | 95 | 94.50 | 0.50 |\n",
        "\n",
        "1.   List item\n",
        "\n",
        "*   List item\n",
        "*   List item\n",
        "\n",
        "---\n",
        "\n",
        "\n",
        "\n",
        "\n",
        "2.   List item\n",
        "\n",
        "| Feature | Desc. | Count | % of Missing | Card. | Mode | Mode Freq. | Mode % | 2nd Mode | 2nd Mode Freq. | 2nd Mode Perc | Notes |\n",
        "| --- | --- | --- | --- | --- | --- | --- | --- | --- | --- | --- | --- |\n",
        "| ACLSWKR | Class of worker | 199,523 | 0 | 9 | Not in Universe | 100,245 | 50.24 | Private | 72,028 |  36.10 |  | *italicized text*\n",
        "| ACLSWKR | class of worker | 199523 | 0 | 9 | Not in universe | 100245 | 50.24 | Private | 72028 | 36.10\n",
        "| AHGA | education | 199523 | 0 | 17 | High school graduate | 48407 | 24.26 | Children | 47422 | 23.77\n",
        "| AHSCOL | enrolled in edu inst last wk | 199523 | 0 | 3 | Not in universe | 186943 | 93.69 | High school | 6892 | 3.45\n",
        "| AMARITL | marital status | 199523 | 0 | 7 | Never married | 86485 | 43.35 | Married-civilian spouse present | 84222 | 42.21\n",
        "| AMJIND | major industry code | 199523 | 0 | 24 | Not in universe or children | 100684 | 50.46 | Retail trade | 17070 | 8.56\n",
        "| AMJOCC | major occupation code | 199523 | 0 | 15 | Not in universe | 100684 | 50.46 | Adm support including clerical | 14837 | 7.44\n",
        "| ARACE | mace | 199523 | 0 | 5 | White | 167365 | 83.88 | Black | 20415 | 10.23\n",
        "| AREORGN | hispanic Origin | 199523 | 874 | 10 | All other | 171907 | 86.16 | Mexican-American | 8079 | 4.05\n",
        "| ASEX | sex | 199523 | 0 | 2 | Female | 103984 | 52.12 | Male | 95539 | 47.88\n",
        "| AUNMEM | member of a labor union | 199523 | 0 | 3 | Not in universe | 180459 | 90.45 | No | 16034 | 8.04\n",
        "| AUNTYPE | reason for unemployment | 199523 | 0 | 6 | Not in universe | 193453 | 96.96 | Other job loser | 2038 | 1.02\n",
        "| AWKSTAT | full or part time employment stat | 199523 | 0 | 8 | Children or Armed Forces | 123769 | 62.03 | Full-time schedules | 40736 | 20.42\n",
        "| FILESTAT | tax filer status | 199523 | 0 | 6 | Nonfiler | 75094 | 37.64 | Joint both under 65 | 67383 | 33.77\n",
        "| GRINREG | region of previous residence | 199523 | 0 | 6 | Not in universe | 183750 | 92.09 | South | 4889 | 2.45\n",
        "| GRINST | state of previous residence | 199523 | 0 | 51 | Not in universe | 183750 | 92.09 | California | 1714 | 0.86\n",
        "| HHDFMX | detailed household and family stat | 199523 | 0 | 38 | Householder | 53248 | 26.69 | Child <18 never marr not in subfamily | 50326 | 25.22\n",
        "| HHDREL | detailed household summary in household | 199523 | 0 | 8 | Householder | 75475 | 37.83 | Child under 18 never married | 50426 | 25.27\n",
        "| MIGMTR1 | migration code-change in msa | 199523 | 0 | 10 | ? | 99696 | 49.97 | Nonmover | 82538 | 41.37\n",
        "| MIGMTR3 | migration code-change in reg | 199523 | 0 | 9 | ? | 99696 | 49.97 | Nonmover | 82538 | 41.37\n",
        "| MIGMTR4 | migration code-move within reg | 199523 | 0 | 10 | ? | 99696 | 49.97 | Nonmover | 82538 | 41.37\n",
        "| MIGSAME | live in this house 1 year ago | 199523 | 0 | 3 | Not in universe under 1 year old | 101212 | 50.73 | Yes | 82538 | 41.37\n",
        "| MIGSUN | migration prev res in sunbelt | 199523 | 0 | 4 | ? | 99696 | 49.97 | Not in universe | 84054 | 42.13\n",
        "| PARENT | family members under 18 | 199523 | 0 | 5 | Not in universe | 144232 | 72.29 | Both parents present | 38983 | 19.54\n",
        "| PEFNTVTY | country of birth father | 199523 | 0 | 43 | United-States | 159163 | 79.77 | Mexico | 10008 | 5.02\n",
        "| PEMNTVTY | country of birth mother | 199523 | 0 | 43 | United-States | 160479 | 80.43 | Mexico | 9781 | 4.90\n",
        "| PENATVTY | country of birth self | 199523 | 0 | 43 | United-States | 176989 | 88.71 | Mexico | 5767 | 2.89\n",
        "| PRCITSHP | citizenship | 199523 | 0 | 5 | Native- Born in the United States | 176992 | 88.71 | Foreign born- Not a citizen of U S  | 13401 | 6.72\n",
        "| VETQVA | fill inc questionnaire for veterans admin | 199523 | 0 | 3 | Not in universe | 197539 | 99.01 | No | 1593 | 0.80\n",
        "| PTOTVALB | PTOTVALB | 199523 | 0 | 2 | - 50000. | 187141 | 93.79 | 50000+. | 12382 | 6.21\n"
      ]
    },
    {
      "cell_type": "code",
      "metadata": {
        "id": "7Mk670EoWKoH",
        "colab": {
          "base_uri": "https://localhost:8080/"
        },
        "outputId": "e49138cb-4734-4a11-f21e-2c5f60d654e4"
      },
      "source": [
        "#(df['AAGE']==32).sum()#32,73\n",
        "modes= df['AAGE'].value_counts().keys()\n",
        "card = df['AAGE'].size\n",
        "mode1= modes[0]\n",
        "mode2= modes[1]\n",
        "mode1count= df['AAGE'].value_counts()[mode1]\n",
        "mode2count= df['AAGE'].value_counts()[mode2]\n",
        "mode1percent = \"{:.2f}\".format(mode1count*100.0/float(card))\n",
        "mode2percent = \"{:.2f}\".format(mode2count*100.0/float(card))\n",
        "print(mode1,mode1count,mode1percent,mode2,mode2count,mode2percent)"
      ],
      "execution_count": 9,
      "outputs": [
        {
          "output_type": "stream",
          "name": "stdout",
          "text": [
            "34 3489 1.75 35 3450 1.73\n"
          ]
        }
      ]
    },
    {
      "cell_type": "code",
      "metadata": {
        "id": "GJcweaK57Yt_",
        "colab": {
          "base_uri": "https://localhost:8080/"
        },
        "outputId": "ce916a69-47b9-4a89-853f-d6b2d8f3ee0c"
      },
      "source": [
        "series = df['AAGE']\n",
        "card = df['AAGE'].size\n",
        "min = '{}'.format(series.min())\n",
        "q1 = '{}'.format(series.quantile(0.25))\n",
        "median = '{}'.format(series.median())\n",
        "q3 = '{}'.format(series.quantile(0.75))\n",
        "max = '{}'.format(series.max())\n",
        "mean = '{:.2f}'.format(series.mean())\n",
        "stdev = '{:.2f}'.format(series.std()) \n",
        "#var = '{:.4f}'.format(series.var())\n",
        "\n",
        "#| Feature | Desc. | Count | % of Missing | Card. | Min. | Q1 | Median | Q3 | Max. | Mean | Std. Dev. | Notes |\n",
        "print(card,\"|\",\n",
        "      min,\"|\",\n",
        "      q1,\"|\",\n",
        "      median, \"|\",\n",
        "      q3,\"|\",\n",
        "      max,\"|\",\n",
        "      mean,\"|\",\n",
        "      stdev,\"|\"\n",
        "      )"
      ],
      "execution_count": 10,
      "outputs": [
        {
          "output_type": "stream",
          "name": "stdout",
          "text": [
            "199523 | 0 | 15.0 | 33.0 | 50.0 | 90 | 34.49 | 22.31 |\n"
          ]
        }
      ]
    },
    {
      "cell_type": "markdown",
      "metadata": {
        "id": "msA3qku07YuA"
      },
      "source": [
        "### Data Quality Report for Cont Variables"
      ]
    },
    {
      "cell_type": "markdown",
      "metadata": {
        "id": "RD3bqFx-7YuA"
      },
      "source": [
        "| Feature | Desc. | Count | % of Missing | Card. | Min. | Q1 | Median | Q3 | Max. | Mean | Std. Dev. | Notes |\n",
        "| --- | --- | --- | --- | --- | --- | --- | --- | --- | --- | --- | --- | --- |\n",
        "| AAGE | Age | 199,523 | 0 | 91 | 0 | 15 | 33 | 50 | 90 | 34.49 | 22.31 |  |\n",
        "| AAGE | Age | 199523 | 0 | 91 | 0 | 15.0 | 33.0 | 50.0 | 90 | 34.49 | 22.31 |\n",
        "| ADTIND | industry code | 199523 | 0 | 52 | 0 | 0.0 | 0.0 | 33.0 | 51 | 15.35 | 18.07 |\n",
        "| ADTOCC | occupation code | 199523 | 0 | 47 | 0 | 0.0 | 0.0 | 26.0 | 46 | 11.31 | 14.45 |\n",
        "| AHRSPAY | wage per hour | 199523 | 0 | 1240 | 0 | 0.0 | 0.0 | 0.0 | 9999 | 55.43 | 274.90 |\n",
        "| CAPGAIN | capital gains | 199523 | 0 | 132 | 0 | 0.0 | 0.0 | 0.0 | 99999 | 434.72 | 4697.53 |\n",
        "| CAPLOSS | capital losses | 199523 | 0 | 113 | 0 | 0.0 | 0.0 | 0.0 | 4608 | 37.31 | 271.90 |\n",
        "| DIVVAL | divdends from stocks | 199523 | 0 | 1478 | 0 | 0.0 | 0.0 | 0.0 | 99999 | 197.53 | 1984.16 |\n",
        "| MARSUPWT | instance weight | 199523 | 0 | 99800 | 37.87 | 1061.615 | 1618.31 | 2188.61 | 18656.3 | 1740.38 | 993.77 |\n",
        "| NOEMP | num persons worked for employer | 199523 | 0 | 7 | 0 | 0.0 | 1.0 | 4.0 | 6 | 1.96 | 2.37 |\n",
        "| SEOTR | own business or self employed | 199523 | 0 | 3 | 0 | 0.0 | 0.0 | 0.0 | 2 | 0.18 | 0.55 |\n",
        "| VETYN | veterans benefits | 199523 | 0 | 3 | 0 | 2.0 | 2.0 | 2.0 | 2 | 1.51 | 0.85 |\n",
        "| WKSWORK | weeks worked in year | 199523 | 0 | 53 | 0 | 0.0 | 8.0 | 52.0 | 52 | 23.17 | 24.41 |\n",
        "| YEAR | YEAR | 199523 | 0 | 2 | 94 | 94.0 | 94.0 | 95.0 | 95 | 94.50 | 0.50 |\n",
        "\n",
        "1.   List item\n",
        "\n",
        "*   List item\n",
        "*   List item\n",
        "\n",
        "\n",
        "2.   List item\n",
        "\n"
      ]
    },
    {
      "cell_type": "markdown",
      "metadata": {
        "id": "kndvoyu27YuA"
      },
      "source": [
        "### Data Quality Report for Categorical Variables"
      ]
    },
    {
      "cell_type": "markdown",
      "metadata": {
        "id": "UBwUOArP7YuA"
      },
      "source": [
        "| Feature | Desc. | Count | % of Missing | Card. | Mode | Mode Freq. | Mode % | 2nd Mode | 2nd Mode Freq. | 2nd Mode Perc | Notes |\n",
        "| --- | --- | --- | --- | --- | --- | --- | --- | --- | --- | --- | --- |\n",
        "| ACLSWKR | Class of worker | 199,523 | 0 | 9 | Not in Universe | 100,245 | 50.24 | Private | 72,028 |  36.10 |  | *italicized text*\n",
        "| ACLSWKR | class of worker | 199523 | 0 | 9 | Not in universe | 100245 | 50.24 | Private | 72028 | 36.10\n",
        "| AHGA | education | 199523 | 0 | 17 | High school graduate | 48407 | 24.26 | Children | 47422 | 23.77\n",
        "| AHSCOL | enrolled in edu inst last wk | 199523 | 0 | 3 | Not in universe | 186943 | 93.69 | High school | 6892 | 3.45\n",
        "| AMARITL | marital status | 199523 | 0 | 7 | Never married | 86485 | 43.35 | Married-civilian spouse present | 84222 | 42.21\n",
        "| AMJIND | major industry code | 199523 | 0 | 24 | Not in universe or children | 100684 | 50.46 | Retail trade | 17070 | 8.56\n",
        "| AMJOCC | major occupation code | 199523 | 0 | 15 | Not in universe | 100684 | 50.46 | Adm support including clerical | 14837 | 7.44\n",
        "| ARACE | mace | 199523 | 0 | 5 | White | 167365 | 83.88 | Black | 20415 | 10.23\n",
        "| AREORGN | hispanic Origin | 199523 | 874 | 10 | All other | 171907 | 86.16 | Mexican-American | 8079 | 4.05\n",
        "| ASEX | sex | 199523 | 0 | 2 | Female | 103984 | 52.12 | Male | 95539 | 47.88\n",
        "| AUNMEM | member of a labor union | 199523 | 0 | 3 | Not in universe | 180459 | 90.45 | No | 16034 | 8.04\n",
        "| AUNTYPE | reason for unemployment | 199523 | 0 | 6 | Not in universe | 193453 | 96.96 | Other job loser | 2038 | 1.02\n",
        "| AWKSTAT | full or part time employment stat | 199523 | 0 | 8 | Children or Armed Forces | 123769 | 62.03 | Full-time schedules | 40736 | 20.42\n",
        "| FILESTAT | tax filer status | 199523 | 0 | 6 | Nonfiler | 75094 | 37.64 | Joint both under 65 | 67383 | 33.77\n",
        "| GRINREG | region of previous residence | 199523 | 0 | 6 | Not in universe | 183750 | 92.09 | South | 4889 | 2.45\n",
        "| GRINST | state of previous residence | 199523 | 0 | 51 | Not in universe | 183750 | 92.09 | California | 1714 | 0.86\n",
        "| HHDFMX | detailed household and family stat | 199523 | 0 | 38 | Householder | 53248 | 26.69 | Child <18 never marr not in subfamily | 50326 | 25.22\n",
        "| HHDREL | detailed household summary in household | 199523 | 0 | 8 | Householder | 75475 | 37.83 | Child under 18 never married | 50426 | 25.27\n",
        "| MIGMTR1 | migration code-change in msa | 199523 | 0 | 10 | ? | 99696 | 49.97 | Nonmover | 82538 | 41.37\n",
        "| MIGMTR3 | migration code-change in reg | 199523 | 0 | 9 | ? | 99696 | 49.97 | Nonmover | 82538 | 41.37\n",
        "| MIGMTR4 | migration code-move within reg | 199523 | 0 | 10 | ? | 99696 | 49.97 | Nonmover | 82538 | 41.37\n",
        "| MIGSAME | live in this house 1 year ago | 199523 | 0 | 3 | Not in universe under 1 year old | 101212 | 50.73 | Yes | 82538 | 41.37\n",
        "| MIGSUN | migration prev res in sunbelt | 199523 | 0 | 4 | ? | 99696 | 49.97 | Not in universe | 84054 | 42.13\n",
        "| PARENT | family members under 18 | 199523 | 0 | 5 | Not in universe | 144232 | 72.29 | Both parents present | 38983 | 19.54\n",
        "| PEFNTVTY | country of birth father | 199523 | 0 | 43 | United-States | 159163 | 79.77 | Mexico | 10008 | 5.02\n",
        "| PEMNTVTY | country of birth mother | 199523 | 0 | 43 | United-States | 160479 | 80.43 | Mexico | 9781 | 4.90\n",
        "| PENATVTY | country of birth self | 199523 | 0 | 43 | United-States | 176989 | 88.71 | Mexico | 5767 | 2.89\n",
        "| PRCITSHP | citizenship | 199523 | 0 | 5 | Native- Born in the United States | 176992 | 88.71 | Foreign born- Not a citizen of U S  | 13401 | 6.72\n",
        "| VETQVA | fill inc questionnaire for veterans admin | 199523 | 0 | 3 | Not in universe | 197539 | 99.01 | No | 1593 | 0.80\n",
        "| PTOTVALB | PTOTVALB | 199523 | 0 | 2 | - 50000. | 187141 | 93.79 | 50000+. | 12382 | 6.21\n"
      ]
    },
    {
      "cell_type": "markdown",
      "metadata": {
        "id": "ElOdugJS7YuB"
      },
      "source": [
        "### Q2 - Identify the data quality issues for each attribute. Create a data quality plan and implement the changes. [35 pts] \n",
        "\n",
        "Identify missing values, potential anomalies and outliers. Finally, remedy these issues."
      ]
    },
    {
      "cell_type": "code",
      "metadata": {
        "id": "pl0xiamV7YuB"
      },
      "source": [
        "# your code goes here"
      ],
      "execution_count": 11,
      "outputs": []
    },
    {
      "cell_type": "code",
      "metadata": {
        "id": "V2z800b27YuB"
      },
      "source": [
        ""
      ],
      "execution_count": 11,
      "outputs": []
    },
    {
      "cell_type": "code",
      "metadata": {
        "id": "qFkpqHr17YuB"
      },
      "source": [
        ""
      ],
      "execution_count": 11,
      "outputs": []
    },
    {
      "cell_type": "markdown",
      "metadata": {
        "id": "kzfjScBB7YuB"
      },
      "source": [
        "*italicized text*### Q3 - For all the interval and ratio scale features, create a scatter plot matrix (pairplots) and correlation matrix. For all ordinal scale features, create a correlation matrix using Spearman correlation. [35 pts]\n",
        "\n",
        "Use the data scales list you created in Q1."
      ]
    },
    {
      "cell_type": "code",
      "metadata": {
        "id": "S_mY0fej7YuB"
      },
      "source": [
        "# your code goes here"
      ],
      "execution_count": 12,
      "outputs": []
    },
    {
      "cell_type": "code",
      "metadata": {
        "id": "etUc3Ir77YuC"
      },
      "source": [
        ""
      ],
      "execution_count": 12,
      "outputs": []
    },
    {
      "cell_type": "code",
      "metadata": {
        "id": "tQJaEGQM7YuC"
      },
      "source": [
        ""
      ],
      "execution_count": 12,
      "outputs": []
    }
  ]
}