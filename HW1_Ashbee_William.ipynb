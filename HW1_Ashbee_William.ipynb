{
  "nbformat": 4,
  "nbformat_minor": 0,
  "metadata": {
    "kernelspec": {
      "display_name": "Python 3",
      "language": "python",
      "name": "python3"
    },
    "language_info": {
      "codemirror_mode": {
        "name": "ipython",
        "version": 3
      },
      "file_extension": ".py",
      "mimetype": "text/x-python",
      "name": "python",
      "nbconvert_exporter": "python",
      "pygments_lexer": "ipython3",
      "version": "3.7.6"
    },
    "colab": {
      "name": "HW1_Ashbee_William.ipynb",
      "provenance": [],
      "include_colab_link": true
    }
  },
  "cells": [
    {
      "cell_type": "markdown",
      "metadata": {
        "id": "view-in-github",
        "colab_type": "text"
      },
      "source": [
        "<a href=\"https://colab.research.google.com/github/WilliamAshbee/DatascienceHomeworks/blob/main/HW1_Ashbee_William.ipynb\" target=\"_parent\"><img src=\"https://colab.research.google.com/assets/colab-badge.svg\" alt=\"Open In Colab\"/></a>"
      ]
    },
    {
      "cell_type": "markdown",
      "metadata": {
        "id": "H-wvv8tj7Yt4"
      },
      "source": [
        "## Homework 1 - Data Exploration using Census Data\n",
        "\n",
        "In this homework assignment you will use census data from the 1994 and 1995 current population surveys conducted by the U.S. Census Bureau. A copy of this dataset is located at UCI Machine Learning repository, please see this [link](https://archive.ics.uci.edu/ml/datasets/Census-Income+%28KDD%29) to reach to the dataset website.\n",
        "\n",
        "This dataset contains census data extracted from the 1994 and 1995 Current Population Surveys. We will only work with 'training' data (a link to that is provided to you below). The data contains 41 demographic and employment related variables. The abbreviated column names provided to you below. You are expected to read the documentation of this dataset, understand the features and preprocess this dataset. Additional information can be found [in the data description](https://archive.ics.uci.edu/ml/machine-learning-databases/census-income-mld/census-income.data.html) and [additional comments](https://archive.ics.uci.edu/ml/machine-learning-databases/census-income-mld/census-income.names).\n",
        "\n",
        "Below you will find a code snippet to download and read the data into a pandas dataframe. You can alternatively download it yourself, extract and read it manually. The questions are shown in the subsequent cells. You can provide your answers in this file. Make sure to change the notebook's name and add your name before submitting."
      ]
    },
    {
      "cell_type": "code",
      "metadata": {
        "id": "NLWGGDU17Yt7"
      },
      "source": [
        "import pandas as pd\n",
        "import numpy as np"
      ],
      "execution_count": 1,
      "outputs": []
    },
    {
      "cell_type": "code",
      "metadata": {
        "id": "q_IEmycL7Yt8",
        "colab": {
          "base_uri": "https://localhost:8080/"
        },
        "outputId": "28d871a9-8a7f-4b1f-d892-17da75d6c9a5"
      },
      "source": [
        "import urllib.request\n",
        "url = 'https://archive.ics.uci.edu/ml/machine-learning-databases/census-income-mld/census-income.data.gz'\n",
        "census_dl_file = './census-income.data.gz'\n",
        "urllib.request.urlretrieve(url, census_dl_file)"
      ],
      "execution_count": 2,
      "outputs": [
        {
          "output_type": "execute_result",
          "data": {
            "text/plain": [
              "('./census-income.data.gz', <http.client.HTTPMessage at 0x7fb857a6ce90>)"
            ]
          },
          "metadata": {},
          "execution_count": 2
        }
      ]
    },
    {
      "cell_type": "code",
      "metadata": {
        "id": "GAkD1lSo7Yt9"
      },
      "source": [
        "columns_abbr = ['AAGE', 'ACLSWKR', 'ADTIND', 'ADTOCC', 'AHGA', 'AHRSPAY', 'AHSCOL', 'AMARITL', 'AMJIND', 'AMJOCC',\n",
        "                'ARACE', 'AREORGN', 'ASEX', 'AUNMEM', 'AUNTYPE', 'AWKSTAT', 'CAPGAIN', 'CAPLOSS', 'DIVVAL', \n",
        "                'FILESTAT', 'GRINREG', 'GRINST', 'HHDFMX', 'HHDREL', 'MARSUPWT', 'MIGMTR1', 'MIGMTR3', 'MIGMTR4', \n",
        "                'MIGSAME', 'MIGSUN', 'NOEMP', 'PARENT', 'PEFNTVTY', 'PEMNTVTY', 'PENATVTY', 'PRCITSHP', 'SEOTR', \n",
        "                'VETQVA', 'VETYN', 'WKSWORK', 'YEAR', 'PTOTVALB']"
      ],
      "execution_count": 3,
      "outputs": []
    },
    {
      "cell_type": "code",
      "metadata": {
        "id": "nfo3QLVr7Yt9",
        "colab": {
          "base_uri": "https://localhost:8080/",
          "height": 483
        },
        "outputId": "cb4324f3-8593-4550-fa76-be637945e70a"
      },
      "source": [
        "df = pd.read_csv('census-income.data.gz', compression='gzip', names=columns_abbr, sep=r',', skipinitialspace=True)\n",
        "dfCopy = df.copy()\n",
        "df.head()"
      ],
      "execution_count": 4,
      "outputs": [
        {
          "output_type": "execute_result",
          "data": {
            "text/html": [
              "<div>\n",
              "<style scoped>\n",
              "    .dataframe tbody tr th:only-of-type {\n",
              "        vertical-align: middle;\n",
              "    }\n",
              "\n",
              "    .dataframe tbody tr th {\n",
              "        vertical-align: top;\n",
              "    }\n",
              "\n",
              "    .dataframe thead th {\n",
              "        text-align: right;\n",
              "    }\n",
              "</style>\n",
              "<table border=\"1\" class=\"dataframe\">\n",
              "  <thead>\n",
              "    <tr style=\"text-align: right;\">\n",
              "      <th></th>\n",
              "      <th>AAGE</th>\n",
              "      <th>ACLSWKR</th>\n",
              "      <th>ADTIND</th>\n",
              "      <th>ADTOCC</th>\n",
              "      <th>AHGA</th>\n",
              "      <th>AHRSPAY</th>\n",
              "      <th>AHSCOL</th>\n",
              "      <th>AMARITL</th>\n",
              "      <th>AMJIND</th>\n",
              "      <th>AMJOCC</th>\n",
              "      <th>ARACE</th>\n",
              "      <th>AREORGN</th>\n",
              "      <th>ASEX</th>\n",
              "      <th>AUNMEM</th>\n",
              "      <th>AUNTYPE</th>\n",
              "      <th>AWKSTAT</th>\n",
              "      <th>CAPGAIN</th>\n",
              "      <th>CAPLOSS</th>\n",
              "      <th>DIVVAL</th>\n",
              "      <th>FILESTAT</th>\n",
              "      <th>GRINREG</th>\n",
              "      <th>GRINST</th>\n",
              "      <th>HHDFMX</th>\n",
              "      <th>HHDREL</th>\n",
              "      <th>MARSUPWT</th>\n",
              "      <th>MIGMTR1</th>\n",
              "      <th>MIGMTR3</th>\n",
              "      <th>MIGMTR4</th>\n",
              "      <th>MIGSAME</th>\n",
              "      <th>MIGSUN</th>\n",
              "      <th>NOEMP</th>\n",
              "      <th>PARENT</th>\n",
              "      <th>PEFNTVTY</th>\n",
              "      <th>PEMNTVTY</th>\n",
              "      <th>PENATVTY</th>\n",
              "      <th>PRCITSHP</th>\n",
              "      <th>SEOTR</th>\n",
              "      <th>VETQVA</th>\n",
              "      <th>VETYN</th>\n",
              "      <th>WKSWORK</th>\n",
              "      <th>YEAR</th>\n",
              "      <th>PTOTVALB</th>\n",
              "    </tr>\n",
              "  </thead>\n",
              "  <tbody>\n",
              "    <tr>\n",
              "      <th>0</th>\n",
              "      <td>73</td>\n",
              "      <td>Not in universe</td>\n",
              "      <td>0</td>\n",
              "      <td>0</td>\n",
              "      <td>High school graduate</td>\n",
              "      <td>0</td>\n",
              "      <td>Not in universe</td>\n",
              "      <td>Widowed</td>\n",
              "      <td>Not in universe or children</td>\n",
              "      <td>Not in universe</td>\n",
              "      <td>White</td>\n",
              "      <td>All other</td>\n",
              "      <td>Female</td>\n",
              "      <td>Not in universe</td>\n",
              "      <td>Not in universe</td>\n",
              "      <td>Not in labor force</td>\n",
              "      <td>0</td>\n",
              "      <td>0</td>\n",
              "      <td>0</td>\n",
              "      <td>Nonfiler</td>\n",
              "      <td>Not in universe</td>\n",
              "      <td>Not in universe</td>\n",
              "      <td>Other Rel 18+ ever marr not in subfamily</td>\n",
              "      <td>Other relative of householder</td>\n",
              "      <td>1700.09</td>\n",
              "      <td>?</td>\n",
              "      <td>?</td>\n",
              "      <td>?</td>\n",
              "      <td>Not in universe under 1 year old</td>\n",
              "      <td>?</td>\n",
              "      <td>0</td>\n",
              "      <td>Not in universe</td>\n",
              "      <td>United-States</td>\n",
              "      <td>United-States</td>\n",
              "      <td>United-States</td>\n",
              "      <td>Native- Born in the United States</td>\n",
              "      <td>0</td>\n",
              "      <td>Not in universe</td>\n",
              "      <td>2</td>\n",
              "      <td>0</td>\n",
              "      <td>95</td>\n",
              "      <td>- 50000.</td>\n",
              "    </tr>\n",
              "    <tr>\n",
              "      <th>1</th>\n",
              "      <td>58</td>\n",
              "      <td>Self-employed-not incorporated</td>\n",
              "      <td>4</td>\n",
              "      <td>34</td>\n",
              "      <td>Some college but no degree</td>\n",
              "      <td>0</td>\n",
              "      <td>Not in universe</td>\n",
              "      <td>Divorced</td>\n",
              "      <td>Construction</td>\n",
              "      <td>Precision production craft &amp; repair</td>\n",
              "      <td>White</td>\n",
              "      <td>All other</td>\n",
              "      <td>Male</td>\n",
              "      <td>Not in universe</td>\n",
              "      <td>Not in universe</td>\n",
              "      <td>Children or Armed Forces</td>\n",
              "      <td>0</td>\n",
              "      <td>0</td>\n",
              "      <td>0</td>\n",
              "      <td>Head of household</td>\n",
              "      <td>South</td>\n",
              "      <td>Arkansas</td>\n",
              "      <td>Householder</td>\n",
              "      <td>Householder</td>\n",
              "      <td>1053.55</td>\n",
              "      <td>MSA to MSA</td>\n",
              "      <td>Same county</td>\n",
              "      <td>Same county</td>\n",
              "      <td>No</td>\n",
              "      <td>Yes</td>\n",
              "      <td>1</td>\n",
              "      <td>Not in universe</td>\n",
              "      <td>United-States</td>\n",
              "      <td>United-States</td>\n",
              "      <td>United-States</td>\n",
              "      <td>Native- Born in the United States</td>\n",
              "      <td>0</td>\n",
              "      <td>Not in universe</td>\n",
              "      <td>2</td>\n",
              "      <td>52</td>\n",
              "      <td>94</td>\n",
              "      <td>- 50000.</td>\n",
              "    </tr>\n",
              "    <tr>\n",
              "      <th>2</th>\n",
              "      <td>18</td>\n",
              "      <td>Not in universe</td>\n",
              "      <td>0</td>\n",
              "      <td>0</td>\n",
              "      <td>10th grade</td>\n",
              "      <td>0</td>\n",
              "      <td>High school</td>\n",
              "      <td>Never married</td>\n",
              "      <td>Not in universe or children</td>\n",
              "      <td>Not in universe</td>\n",
              "      <td>Asian or Pacific Islander</td>\n",
              "      <td>All other</td>\n",
              "      <td>Female</td>\n",
              "      <td>Not in universe</td>\n",
              "      <td>Not in universe</td>\n",
              "      <td>Not in labor force</td>\n",
              "      <td>0</td>\n",
              "      <td>0</td>\n",
              "      <td>0</td>\n",
              "      <td>Nonfiler</td>\n",
              "      <td>Not in universe</td>\n",
              "      <td>Not in universe</td>\n",
              "      <td>Child 18+ never marr Not in a subfamily</td>\n",
              "      <td>Child 18 or older</td>\n",
              "      <td>991.95</td>\n",
              "      <td>?</td>\n",
              "      <td>?</td>\n",
              "      <td>?</td>\n",
              "      <td>Not in universe under 1 year old</td>\n",
              "      <td>?</td>\n",
              "      <td>0</td>\n",
              "      <td>Not in universe</td>\n",
              "      <td>Vietnam</td>\n",
              "      <td>Vietnam</td>\n",
              "      <td>Vietnam</td>\n",
              "      <td>Foreign born- Not a citizen of U S</td>\n",
              "      <td>0</td>\n",
              "      <td>Not in universe</td>\n",
              "      <td>2</td>\n",
              "      <td>0</td>\n",
              "      <td>95</td>\n",
              "      <td>- 50000.</td>\n",
              "    </tr>\n",
              "    <tr>\n",
              "      <th>3</th>\n",
              "      <td>9</td>\n",
              "      <td>Not in universe</td>\n",
              "      <td>0</td>\n",
              "      <td>0</td>\n",
              "      <td>Children</td>\n",
              "      <td>0</td>\n",
              "      <td>Not in universe</td>\n",
              "      <td>Never married</td>\n",
              "      <td>Not in universe or children</td>\n",
              "      <td>Not in universe</td>\n",
              "      <td>White</td>\n",
              "      <td>All other</td>\n",
              "      <td>Female</td>\n",
              "      <td>Not in universe</td>\n",
              "      <td>Not in universe</td>\n",
              "      <td>Children or Armed Forces</td>\n",
              "      <td>0</td>\n",
              "      <td>0</td>\n",
              "      <td>0</td>\n",
              "      <td>Nonfiler</td>\n",
              "      <td>Not in universe</td>\n",
              "      <td>Not in universe</td>\n",
              "      <td>Child &lt;18 never marr not in subfamily</td>\n",
              "      <td>Child under 18 never married</td>\n",
              "      <td>1758.14</td>\n",
              "      <td>Nonmover</td>\n",
              "      <td>Nonmover</td>\n",
              "      <td>Nonmover</td>\n",
              "      <td>Yes</td>\n",
              "      <td>Not in universe</td>\n",
              "      <td>0</td>\n",
              "      <td>Both parents present</td>\n",
              "      <td>United-States</td>\n",
              "      <td>United-States</td>\n",
              "      <td>United-States</td>\n",
              "      <td>Native- Born in the United States</td>\n",
              "      <td>0</td>\n",
              "      <td>Not in universe</td>\n",
              "      <td>0</td>\n",
              "      <td>0</td>\n",
              "      <td>94</td>\n",
              "      <td>- 50000.</td>\n",
              "    </tr>\n",
              "    <tr>\n",
              "      <th>4</th>\n",
              "      <td>10</td>\n",
              "      <td>Not in universe</td>\n",
              "      <td>0</td>\n",
              "      <td>0</td>\n",
              "      <td>Children</td>\n",
              "      <td>0</td>\n",
              "      <td>Not in universe</td>\n",
              "      <td>Never married</td>\n",
              "      <td>Not in universe or children</td>\n",
              "      <td>Not in universe</td>\n",
              "      <td>White</td>\n",
              "      <td>All other</td>\n",
              "      <td>Female</td>\n",
              "      <td>Not in universe</td>\n",
              "      <td>Not in universe</td>\n",
              "      <td>Children or Armed Forces</td>\n",
              "      <td>0</td>\n",
              "      <td>0</td>\n",
              "      <td>0</td>\n",
              "      <td>Nonfiler</td>\n",
              "      <td>Not in universe</td>\n",
              "      <td>Not in universe</td>\n",
              "      <td>Child &lt;18 never marr not in subfamily</td>\n",
              "      <td>Child under 18 never married</td>\n",
              "      <td>1069.16</td>\n",
              "      <td>Nonmover</td>\n",
              "      <td>Nonmover</td>\n",
              "      <td>Nonmover</td>\n",
              "      <td>Yes</td>\n",
              "      <td>Not in universe</td>\n",
              "      <td>0</td>\n",
              "      <td>Both parents present</td>\n",
              "      <td>United-States</td>\n",
              "      <td>United-States</td>\n",
              "      <td>United-States</td>\n",
              "      <td>Native- Born in the United States</td>\n",
              "      <td>0</td>\n",
              "      <td>Not in universe</td>\n",
              "      <td>0</td>\n",
              "      <td>0</td>\n",
              "      <td>94</td>\n",
              "      <td>- 50000.</td>\n",
              "    </tr>\n",
              "  </tbody>\n",
              "</table>\n",
              "</div>"
            ],
            "text/plain": [
              "   AAGE                         ACLSWKR  ADTIND  ...  WKSWORK YEAR  PTOTVALB\n",
              "0    73                 Not in universe       0  ...        0   95  - 50000.\n",
              "1    58  Self-employed-not incorporated       4  ...       52   94  - 50000.\n",
              "2    18                 Not in universe       0  ...        0   95  - 50000.\n",
              "3     9                 Not in universe       0  ...        0   94  - 50000.\n",
              "4    10                 Not in universe       0  ...        0   94  - 50000.\n",
              "\n",
              "[5 rows x 42 columns]"
            ]
          },
          "metadata": {},
          "execution_count": 4
        }
      ]
    },
    {
      "cell_type": "code",
      "metadata": {
        "id": "jL5GVeRo7Yt9",
        "colab": {
          "base_uri": "https://localhost:8080/"
        },
        "outputId": "9ace8aac-96c3-4a0b-ce65-45d271a7bafe"
      },
      "source": [
        "# you can see the DataFrame's info panel here\n",
        "columns_names = ['AAGE',\n",
        "                 'ACLSWKR',\n",
        "                 'ADTIND',\n",
        "                 'ADTOCC',\n",
        "                 'AHGA',\n",
        "                 'AHRSPAY',\n",
        "                 'AHSCOL', \n",
        "                 'AMARITL',\n",
        "                 'AMJIND', \n",
        "                 'AMJOCC',\n",
        "                'ARACE', \n",
        "                 'AREORGN',\n",
        "                 'ASEX',\n",
        "                 'AUNMEM', \n",
        "                 'AUNTYPE',\n",
        "                 'AWKSTAT',\n",
        "                 'CAPGAIN', \n",
        "                 'CAPLOSS', \n",
        "                 'DIVVAL',\n",
        "                'FILESTAT',\n",
        "                 'GRINREG',\n",
        "                 'GRINST', \n",
        "                 'HHDFMX', \n",
        "                 'HHDREL', \n",
        "                 'MARSUPWT', \n",
        "                 'MIGMTR1',\n",
        "                 'MIGMTR3', \n",
        "                 'MIGMTR4',\n",
        "                'MIGSAME', \n",
        "                 'MIGSUN',\n",
        "                 'NOEMP', \n",
        "                 'PARENT', \n",
        "                 'PEFNTVTY', \n",
        "                 'PEMNTVTY', \n",
        "                 'PENATVTY', \n",
        "                 'PRCITSHP', \n",
        "                 'SEOTR', \n",
        "                'VETQVA', \n",
        "                 'VETYN', \n",
        "                 'WKSWORK', \n",
        "                 'YEAR', \n",
        "                 'PTOTVALB']\n",
        "\n",
        "column_desc = {'AAGE':'Age',\n",
        "'ACLSWKR':'class of worker',\n",
        "'ADTIND':'industry code',\n",
        "'ADTOCC':'occupation code',\n",
        "'AHGA':'education',\n",
        "'AHRSPAY':'wage per hour',\n",
        "'AHSCOL':'enrolled in edu inst last wk',\n",
        "'AMARITL':'marital status',\n",
        "'AMJIND':'major industry code',\n",
        "'AMJOCC':'major occupation code',\n",
        "'ARACE':'mace',\n",
        "'AREORGN':'hispanic Origin',\n",
        "'ASEX':'sex',\n",
        "'AUNMEM':'member of a labor union',\n",
        "'AUNTYPE':'reason for unemployment',\n",
        "'AWKSTAT':'full or part time employment stat',\n",
        "'CAPGAIN':'capital gains',\n",
        "'CAPLOSS':'capital losses',\n",
        "'DIVVAL':'divdends from stocks',\n",
        "'FILESTAT':'tax filer status',\n",
        "'GRINREG':'region of previous residence',\n",
        "'GRINST':'state of previous residence',\n",
        "'HHDFMX':'detailed household and family stat',\n",
        "'HHDREL':'detailed household summary in household',\n",
        "'MARSUPWT':'instance weight',\n",
        "'MIGMTR1':'migration code-change in msa',\n",
        "'MIGMTR3':'migration code-change in reg',\n",
        "'MIGMTR4':'migration code-move within reg',\n",
        "'MIGSAME':'live in this house 1 year ago',\n",
        "'MIGSUN':'migration prev res in sunbelt',\n",
        "'NOEMP':'num persons worked for employer',\n",
        "'PARENT':'family members under 18',\n",
        "'PEFNTVTY':'country of birth father',\n",
        "'PEMNTVTY':'country of birth mother',\n",
        "'PENATVTY':'country of birth self',\n",
        "'PRCITSHP':'citizenship',\n",
        "'SEOTR':'own business or self employed',\n",
        "'VETQVA':'fill inc questionnaire for veterans admin',\n",
        "'VETYN':'veterans benefits',\n",
        "'WKSWORK':'weeks worked in year',\n",
        "'YEAR':'YEAR',\n",
        "'PTOTVALB':'PTOTVALB'}\n",
        "\n",
        "a = set(columns_names)\n",
        "b = set(column_desc.keys())\n",
        "print(a-b)\n",
        "print(len(columns_names),len(column_desc))\n",
        "df.info()"
      ],
      "execution_count": 5,
      "outputs": [
        {
          "output_type": "stream",
          "name": "stdout",
          "text": [
            "set()\n",
            "42 42\n",
            "<class 'pandas.core.frame.DataFrame'>\n",
            "RangeIndex: 199523 entries, 0 to 199522\n",
            "Data columns (total 42 columns):\n",
            " #   Column    Non-Null Count   Dtype  \n",
            "---  ------    --------------   -----  \n",
            " 0   AAGE      199523 non-null  int64  \n",
            " 1   ACLSWKR   199523 non-null  object \n",
            " 2   ADTIND    199523 non-null  int64  \n",
            " 3   ADTOCC    199523 non-null  int64  \n",
            " 4   AHGA      199523 non-null  object \n",
            " 5   AHRSPAY   199523 non-null  int64  \n",
            " 6   AHSCOL    199523 non-null  object \n",
            " 7   AMARITL   199523 non-null  object \n",
            " 8   AMJIND    199523 non-null  object \n",
            " 9   AMJOCC    199523 non-null  object \n",
            " 10  ARACE     199523 non-null  object \n",
            " 11  AREORGN   198649 non-null  object \n",
            " 12  ASEX      199523 non-null  object \n",
            " 13  AUNMEM    199523 non-null  object \n",
            " 14  AUNTYPE   199523 non-null  object \n",
            " 15  AWKSTAT   199523 non-null  object \n",
            " 16  CAPGAIN   199523 non-null  int64  \n",
            " 17  CAPLOSS   199523 non-null  int64  \n",
            " 18  DIVVAL    199523 non-null  int64  \n",
            " 19  FILESTAT  199523 non-null  object \n",
            " 20  GRINREG   199523 non-null  object \n",
            " 21  GRINST    199523 non-null  object \n",
            " 22  HHDFMX    199523 non-null  object \n",
            " 23  HHDREL    199523 non-null  object \n",
            " 24  MARSUPWT  199523 non-null  float64\n",
            " 25  MIGMTR1   199523 non-null  object \n",
            " 26  MIGMTR3   199523 non-null  object \n",
            " 27  MIGMTR4   199523 non-null  object \n",
            " 28  MIGSAME   199523 non-null  object \n",
            " 29  MIGSUN    199523 non-null  object \n",
            " 30  NOEMP     199523 non-null  int64  \n",
            " 31  PARENT    199523 non-null  object \n",
            " 32  PEFNTVTY  199523 non-null  object \n",
            " 33  PEMNTVTY  199523 non-null  object \n",
            " 34  PENATVTY  199523 non-null  object \n",
            " 35  PRCITSHP  199523 non-null  object \n",
            " 36  SEOTR     199523 non-null  int64  \n",
            " 37  VETQVA    199523 non-null  object \n",
            " 38  VETYN     199523 non-null  int64  \n",
            " 39  WKSWORK   199523 non-null  int64  \n",
            " 40  YEAR      199523 non-null  int64  \n",
            " 41  PTOTVALB  199523 non-null  object \n",
            "dtypes: float64(1), int64(12), object(29)\n",
            "memory usage: 63.9+ MB\n"
          ]
        }
      ]
    },
    {
      "cell_type": "markdown",
      "metadata": {
        "id": "TVlWyCmb7Yt-"
      },
      "source": [
        "### Q1 - Identify the data scales and data types for each variable in census data. Identify the domain for each variable by checking the attributes' values. Then, create a data quality report for both categorical (nominal, ordinal) and continuous (interval, ratio) variables. [40 pts]\n",
        "\n",
        "For data scales, identify whether an attribute is nominal, ordinal, interval or ratio scale.\n",
        "For data types, identify the domain and provide an appropriate data type (integer, float, String, date, Boolean). See if that data type is correct in your dataframe.\n",
        "For domain, inspect each distinct value for each attribute. Identify missing values. Also include the bar plots and histograms for visualizing the distributions. \n",
        "\n",
        "*The examples for a continious and a categorical feature can be seen below. You do not need to use jupyter formatting provided here. You can print a DataFrame or read a csv, and display it. Make sure you have the csv in your zip file.*"
      ]
    },
    {
      "cell_type": "code",
      "metadata": {
        "id": "dzVp-HQl7Yt_"
      },
      "source": [
        "# your code goes here\n",
        "not_continuous = ['ACLSWKR', 'AHGA', 'AHSCOL', 'AMARITL', 'AMJIND', 'AMJOCC', 'ARACE', 'AREORGN', 'ASEX', 'AUNMEM', 'AUNTYPE', 'AWKSTAT', 'FILESTAT', 'GRINREG', 'GRINST', 'HHDFMX', 'HHDREL', \n",
        "'MIGMTR1', 'MIGMTR3', 'MIGMTR4', 'MIGSAME', 'MIGSUN', 'PARENT', 'PEFNTVTY', 'PEMNTVTY', 'PENATVTY', 'PRCITSHP', 'VETQVA', 'PTOTVALB',\n",
        "'ADTIND',\n",
        "'ADTOCC',\n",
        "'SEOTR',\n",
        "'VETYN',\n",
        "'NOEMP']\n",
        "\n",
        "\n"
      ],
      "execution_count": 6,
      "outputs": []
    },
    {
      "cell_type": "code",
      "metadata": {
        "id": "KBKE5its0KCM",
        "colab": {
          "base_uri": "https://localhost:8080/"
        },
        "outputId": "8009a1d8-10ab-4283-cee4-35ce69414356"
      },
      "source": [
        "#df.sum()\n",
        "# We will use df.iteritems() as it allows us to iterate through columns\n",
        "for (name, series) in df.iteritems():\n",
        "  if name in not_continuous:\n",
        "\n",
        "    modes= series.value_counts().keys()\n",
        "    card = series.size\n",
        "    mode1= modes[0]\n",
        "    mode2= modes[1]\n",
        "    mode1count= series.value_counts()[mode1]\n",
        "    mode2count= series.value_counts()[mode2]\n",
        "    mode1percent = \"{:.2f}\".format(mode1count*100.0/float(card))\n",
        "    mode2percent = \"{:.2f}\".format(mode2count*100.0/float(card))\n",
        "  \n",
        "    print(\"|\",name,\"|\",\n",
        "          column_desc[name],\"|\",\n",
        "          series.size,\"|\",\n",
        "          series.isnull().sum(),\"|\",\n",
        "          series.unique().size,\"|\",\n",
        "          mode1,\"|\",mode1count,\"|\",mode1percent,\"|\",\n",
        "          mode2,\"|\",mode2count,\"|\",mode2percent\n",
        "          )\n",
        "    \n",
        "  #print(mode1,mode1count,mode1percent,mode2,mode2count,mode2percent)\n"
      ],
      "execution_count": 7,
      "outputs": [
        {
          "output_type": "stream",
          "name": "stdout",
          "text": [
            "| ACLSWKR | class of worker | 199523 | 0 | 9 | Not in universe | 100245 | 50.24 | Private | 72028 | 36.10\n",
            "| ADTIND | industry code | 199523 | 0 | 52 | 0 | 100684 | 50.46 | 33 | 17070 | 8.56\n",
            "| ADTOCC | occupation code | 199523 | 0 | 47 | 0 | 100684 | 50.46 | 2 | 8756 | 4.39\n",
            "| AHGA | education | 199523 | 0 | 17 | High school graduate | 48407 | 24.26 | Children | 47422 | 23.77\n",
            "| AHSCOL | enrolled in edu inst last wk | 199523 | 0 | 3 | Not in universe | 186943 | 93.69 | High school | 6892 | 3.45\n",
            "| AMARITL | marital status | 199523 | 0 | 7 | Never married | 86485 | 43.35 | Married-civilian spouse present | 84222 | 42.21\n",
            "| AMJIND | major industry code | 199523 | 0 | 24 | Not in universe or children | 100684 | 50.46 | Retail trade | 17070 | 8.56\n",
            "| AMJOCC | major occupation code | 199523 | 0 | 15 | Not in universe | 100684 | 50.46 | Adm support including clerical | 14837 | 7.44\n",
            "| ARACE | mace | 199523 | 0 | 5 | White | 167365 | 83.88 | Black | 20415 | 10.23\n",
            "| AREORGN | hispanic Origin | 199523 | 874 | 10 | All other | 171907 | 86.16 | Mexican-American | 8079 | 4.05\n",
            "| ASEX | sex | 199523 | 0 | 2 | Female | 103984 | 52.12 | Male | 95539 | 47.88\n",
            "| AUNMEM | member of a labor union | 199523 | 0 | 3 | Not in universe | 180459 | 90.45 | No | 16034 | 8.04\n",
            "| AUNTYPE | reason for unemployment | 199523 | 0 | 6 | Not in universe | 193453 | 96.96 | Other job loser | 2038 | 1.02\n",
            "| AWKSTAT | full or part time employment stat | 199523 | 0 | 8 | Children or Armed Forces | 123769 | 62.03 | Full-time schedules | 40736 | 20.42\n",
            "| FILESTAT | tax filer status | 199523 | 0 | 6 | Nonfiler | 75094 | 37.64 | Joint both under 65 | 67383 | 33.77\n",
            "| GRINREG | region of previous residence | 199523 | 0 | 6 | Not in universe | 183750 | 92.09 | South | 4889 | 2.45\n",
            "| GRINST | state of previous residence | 199523 | 0 | 51 | Not in universe | 183750 | 92.09 | California | 1714 | 0.86\n",
            "| HHDFMX | detailed household and family stat | 199523 | 0 | 38 | Householder | 53248 | 26.69 | Child <18 never marr not in subfamily | 50326 | 25.22\n",
            "| HHDREL | detailed household summary in household | 199523 | 0 | 8 | Householder | 75475 | 37.83 | Child under 18 never married | 50426 | 25.27\n",
            "| MIGMTR1 | migration code-change in msa | 199523 | 0 | 10 | ? | 99696 | 49.97 | Nonmover | 82538 | 41.37\n",
            "| MIGMTR3 | migration code-change in reg | 199523 | 0 | 9 | ? | 99696 | 49.97 | Nonmover | 82538 | 41.37\n",
            "| MIGMTR4 | migration code-move within reg | 199523 | 0 | 10 | ? | 99696 | 49.97 | Nonmover | 82538 | 41.37\n",
            "| MIGSAME | live in this house 1 year ago | 199523 | 0 | 3 | Not in universe under 1 year old | 101212 | 50.73 | Yes | 82538 | 41.37\n",
            "| MIGSUN | migration prev res in sunbelt | 199523 | 0 | 4 | ? | 99696 | 49.97 | Not in universe | 84054 | 42.13\n",
            "| NOEMP | num persons worked for employer | 199523 | 0 | 7 | 0 | 95983 | 48.11 | 6 | 36511 | 18.30\n",
            "| PARENT | family members under 18 | 199523 | 0 | 5 | Not in universe | 144232 | 72.29 | Both parents present | 38983 | 19.54\n",
            "| PEFNTVTY | country of birth father | 199523 | 0 | 43 | United-States | 159163 | 79.77 | Mexico | 10008 | 5.02\n",
            "| PEMNTVTY | country of birth mother | 199523 | 0 | 43 | United-States | 160479 | 80.43 | Mexico | 9781 | 4.90\n",
            "| PENATVTY | country of birth self | 199523 | 0 | 43 | United-States | 176989 | 88.71 | Mexico | 5767 | 2.89\n",
            "| PRCITSHP | citizenship | 199523 | 0 | 5 | Native- Born in the United States | 176992 | 88.71 | Foreign born- Not a citizen of U S  | 13401 | 6.72\n",
            "| SEOTR | own business or self employed | 199523 | 0 | 3 | 0 | 180672 | 90.55 | 2 | 16153 | 8.10\n",
            "| VETQVA | fill inc questionnaire for veterans admin | 199523 | 0 | 3 | Not in universe | 197539 | 99.01 | No | 1593 | 0.80\n",
            "| VETYN | veterans benefits | 199523 | 0 | 3 | 2 | 150130 | 75.24 | 0 | 47409 | 23.76\n",
            "| PTOTVALB | PTOTVALB | 199523 | 0 | 2 | - 50000. | 187141 | 93.79 | 50000+. | 12382 | 6.21\n"
          ]
        }
      ]
    },
    {
      "cell_type": "code",
      "metadata": {
        "id": "cT5v1Xno7NXX",
        "colab": {
          "base_uri": "https://localhost:8080/"
        },
        "outputId": "ff4a2506-b711-441c-a6e2-ea4a5956d94d"
      },
      "source": [
        "for (name, series) in df.iteritems():\n",
        "  if name not in not_continuous:\n",
        "    try:\n",
        "      min = '{}'.format(series.min())\n",
        "      q1 = '{}'.format(series.quantile(0.25))\n",
        "      median = '{}'.format(series.median())\n",
        "      q3 = '{}'.format(series.quantile(0.75))\n",
        "      max = '{}'.format(series.max())\n",
        "      mean = '{:.2f}'.format(series.mean())\n",
        "      stdev = '{:.2f}'.format(series.std()) \n",
        "\n",
        "      #| Feature | Desc. | Count | % of Missing | Card. | Min. | Q1 | Median | Q3 | Max. | Mean | Std. Dev. | Notes |\n",
        "      \n",
        "      print(\"|\", name,\"|\",\n",
        "            column_desc[name],\"|\",\n",
        "            series.size,\"|\",\n",
        "            series.isnull().sum(),\"|\",\n",
        "            series.unique().size,\"|\",\n",
        "            min,\"|\",\n",
        "            q1,\"|\",\n",
        "            median, \"|\",\n",
        "            q3,\"|\",\n",
        "            max,\"|\",\n",
        "            mean,\"|\",\n",
        "            stdev,\"|\"\n",
        "            )\n",
        "    except:\n",
        "        print(series.name, ' is not continuous')"
      ],
      "execution_count": 8,
      "outputs": [
        {
          "output_type": "stream",
          "name": "stdout",
          "text": [
            "| AAGE | Age | 199523 | 0 | 91 | 0 | 15.0 | 33.0 | 50.0 | 90 | 34.49 | 22.31 |\n",
            "| AHRSPAY | wage per hour | 199523 | 0 | 1240 | 0 | 0.0 | 0.0 | 0.0 | 9999 | 55.43 | 274.90 |\n",
            "| CAPGAIN | capital gains | 199523 | 0 | 132 | 0 | 0.0 | 0.0 | 0.0 | 99999 | 434.72 | 4697.53 |\n",
            "| CAPLOSS | capital losses | 199523 | 0 | 113 | 0 | 0.0 | 0.0 | 0.0 | 4608 | 37.31 | 271.90 |\n",
            "| DIVVAL | divdends from stocks | 199523 | 0 | 1478 | 0 | 0.0 | 0.0 | 0.0 | 99999 | 197.53 | 1984.16 |\n",
            "| MARSUPWT | instance weight | 199523 | 0 | 99800 | 37.87 | 1061.615 | 1618.31 | 2188.61 | 18656.3 | 1740.38 | 993.77 |\n",
            "| WKSWORK | weeks worked in year | 199523 | 0 | 53 | 0 | 0.0 | 8.0 | 52.0 | 52 | 23.17 | 24.41 |\n",
            "| YEAR | YEAR | 199523 | 0 | 2 | 94 | 94.0 | 94.0 | 95.0 | 95 | 94.50 | 0.50 |\n"
          ]
        }
      ]
    },
    {
      "cell_type": "markdown",
      "metadata": {
        "id": "msA3qku07YuA"
      },
      "source": [
        "### Data Quality Report for Cont Variables"
      ]
    },
    {
      "cell_type": "markdown",
      "metadata": {
        "id": "RD3bqFx-7YuA"
      },
      "source": [
        "| Feature | Desc. | Count | % of Missing | Card. | Min. | Q1 | Median | Q3 | Max. | Mean | Std. Dev. | Notes |\n",
        "| --- | --- | --- | --- | --- | --- | --- | --- | --- | --- | --- | --- | --- |\n",
        "| AAGE | Age | 199523 | 0 | 91 | 0 | 15.0 | 33.0 | 50.0 | 90 | 34.49 | 22.31 |\n",
        "| AHRSPAY | wage per hour | 199523 | 0 | 1240 | 0 | 0.0 | 0.0 | 0.0 | 9999 | 55.43 | 274.90 |\n",
        "| CAPGAIN | capital gains | 199523 | 0 | 132 | 0 | 0.0 | 0.0 | 0.0 | 99999 | 434.72 | 4697.53 |\n",
        "| CAPLOSS | capital losses | 199523 | 0 | 113 | 0 | 0.0 | 0.0 | 0.0 | 4608 | 37.31 | 271.90 |\n",
        "| DIVVAL | divdends from stocks | 199523 | 0 | 1478 | 0 | 0.0 | 0.0 | 0.0 | 99999 | 197.53 | 1984.16 |\n",
        "| MARSUPWT | instance weight | 199523 | 0 | 99800 | 37.87 | 1061.615 | 1618.31 | 2188.61 | 18656.3 | 1740.38 | 993.77 |\n",
        "| WKSWORK | weeks worked in year | 199523 | 0 | 53 | 0 | 0.0 | 8.0 | 52.0 | 52 | 23.17 | 24.41 |\n",
        "| YEAR | YEAR | 199523 | 0 | 2 | 94 | 94.0 | 94.0 | 95.0 | 95 | 94.50 | 0.50 |\n"
      ]
    },
    {
      "cell_type": "markdown",
      "metadata": {
        "id": "kndvoyu27YuA"
      },
      "source": [
        "### Data Quality Report for Categorical Variables"
      ]
    },
    {
      "cell_type": "markdown",
      "metadata": {
        "id": "UBwUOArP7YuA"
      },
      "source": [
        "| Feature | Desc. | Count | % of Missing | Card. | Mode | Mode Freq. | Mode % | 2nd Mode | 2nd Mode Freq. | 2nd Mode Perc | Notes |\n",
        "| --- | --- | --- | --- | --- | --- | --- | --- | --- | --- | --- | --- |\n",
        "| ACLSWKR | class of worker | 199523 | 0 | 9 | Not in universe | 100245 | 50.24 | Private | 72028 | 36.10\n",
        "| ADTIND | industry code | 199523 | 0 | 52 | 0 | 100684 | 50.46 | 33 | 17070 | 8.56\n",
        "| ADTOCC | occupation code | 199523 | 0 | 47 | 0 | 100684 | 50.46 | 2 | 8756 | 4.39\n",
        "| AHGA | education | 199523 | 0 | 17 | High school graduate | 48407 | 24.26 | Children | 47422 | 23.77\n",
        "| AHSCOL | enrolled in edu inst last wk | 199523 | 0 | 3 | Not in universe | 186943 | 93.69 | High school | 6892 | 3.45\n",
        "| AMARITL | marital status | 199523 | 0 | 7 | Never married | 86485 | 43.35 | Married-civilian spouse present | 84222 | 42.21\n",
        "| AMJIND | major industry code | 199523 | 0 | 24 | Not in universe or children | 100684 | 50.46 | Retail trade | 17070 | 8.56\n",
        "| AMJOCC | major occupation code | 199523 | 0 | 15 | Not in universe | 100684 | 50.46 | Adm support including clerical | 14837 | 7.44\n",
        "| ARACE | mace | 199523 | 0 | 5 | White | 167365 | 83.88 | Black | 20415 | 10.23\n",
        "| AREORGN | hispanic Origin | 199523 | 874 | 10 | All other | 171907 | 86.16 | Mexican-American | 8079 | 4.05\n",
        "| ASEX | sex | 199523 | 0 | 2 | Female | 103984 | 52.12 | Male | 95539 | 47.88\n",
        "| AUNMEM | member of a labor union | 199523 | 0 | 3 | Not in universe | 180459 | 90.45 | No | 16034 | 8.04\n",
        "| AUNTYPE | reason for unemployment | 199523 | 0 | 6 | Not in universe | 193453 | 96.96 | Other job loser | 2038 | 1.02\n",
        "| AWKSTAT | full or part time employment stat | 199523 | 0 | 8 | Children or Armed Forces | 123769 | 62.03 | Full-time schedules | 40736 | 20.42\n",
        "| FILESTAT | tax filer status | 199523 | 0 | 6 | Nonfiler | 75094 | 37.64 | Joint both under 65 | 67383 | 33.77\n",
        "| GRINREG | region of previous residence | 199523 | 0 | 6 | Not in universe | 183750 | 92.09 | South | 4889 | 2.45\n",
        "| GRINST | state of previous residence | 199523 | 0 | 51 | Not in universe | 183750 | 92.09 | California | 1714 | 0.86\n",
        "| HHDFMX | detailed household and family stat | 199523 | 0 | 38 | Householder | 53248 | 26.69 | Child <18 never marr not in subfamily | 50326 | 25.22\n",
        "| HHDREL | detailed household summary in household | 199523 | 0 | 8 | Householder | 75475 | 37.83 | Child under 18 never married | 50426 | 25.27\n",
        "| MIGMTR1 | migration code-change in msa | 199523 | 0 | 10 | ? | 99696 | 49.97 | Nonmover | 82538 | 41.37\n",
        "| MIGMTR3 | migration code-change in reg | 199523 | 0 | 9 | ? | 99696 | 49.97 | Nonmover | 82538 | 41.37\n",
        "| MIGMTR4 | migration code-move within reg | 199523 | 0 | 10 | ? | 99696 | 49.97 | Nonmover | 82538 | 41.37\n",
        "| MIGSAME | live in this house 1 year ago | 199523 | 0 | 3 | Not in universe under 1 year old | 101212 | 50.73 | Yes | 82538 | 41.37\n",
        "| MIGSUN | migration prev res in sunbelt | 199523 | 0 | 4 | ? | 99696 | 49.97 | Not in universe | 84054 | 42.13\n",
        "| NOEMP | num persons worked for employer | 199523 | 0 | 7 | 0 | 95983 | 48.11 | 6 | 36511 | 18.30\n",
        "| PARENT | family members under 18 | 199523 | 0 | 5 | Not in universe | 144232 | 72.29 | Both parents present | 38983 | 19.54\n",
        "| PEFNTVTY | country of birth father | 199523 | 0 | 43 | United-States | 159163 | 79.77 | Mexico | 10008 | 5.02\n",
        "| PEMNTVTY | country of birth mother | 199523 | 0 | 43 | United-States | 160479 | 80.43 | Mexico | 9781 | 4.90\n",
        "| PENATVTY | country of birth self | 199523 | 0 | 43 | United-States | 176989 | 88.71 | Mexico | 5767 | 2.89\n",
        "| PRCITSHP | citizenship | 199523 | 0 | 5 | Native- Born in the United States | 176992 | 88.71 | Foreign born- Not a citizen of U S  | 13401 | 6.72\n",
        "| SEOTR | own business or self employed | 199523 | 0 | 3 | 0 | 180672 | 90.55 | 2 | 16153 | 8.10\n",
        "| VETQVA | fill inc questionnaire for veterans admin | 199523 | 0 | 3 | Not in universe | 197539 | 99.01 | No | 1593 | 0.80\n",
        "| VETYN | veterans benefits | 199523 | 0 | 3 | 2 | 150130 | 75.24 | 0 | 47409 | 23.76\n",
        "| PTOTVALB | PTOTVALB | 199523 | 0 | 2 | - 50000. | 187141 | 93.79 | 50000+. | 12382 | 6.21\n"
      ]
    },
    {
      "cell_type": "markdown",
      "metadata": {
        "id": "ElOdugJS7YuB"
      },
      "source": [
        "### Q2 - Identify the data quality issues for each attribute. Create a data quality plan and implement the changes. [35 pts] \n",
        "\n",
        "Identify missing values, potential anomalies and outliers. Finally, remedy these issues."
      ]
    },
    {
      "cell_type": "markdown",
      "metadata": {
        "id": "ilnro34Aswvb"
      },
      "source": [
        "| Feature | Data Quality Issue | Potential Handling Strategies |\n",
        "| --- | --- | --- |\n",
        "|AAGE|CONTAINS OUTLIERS|Clamp\n",
        "|MARSUPWT|CONTAINS OUTLIERS|Clamp\n",
        "|AHRSPAY| Q1-Q3 ZERO| DROP COLUMN\n",
        "|CAPGAIN|Q1-Q3 ZERO|DROP COLUMN\n",
        "|CAPLOSS|Q1-Q3 ZERO|DROP COLUMN\n",
        "|DIVVAL|Q1-Q3 ZERO|DROP COLUMN\n",
        "|WKSWORK|outliers exist|clamping\n",
        "|ACLSWKR|NIU value/missing value|nothing 50%\n",
        "|AHSCOL|NIU value/missing value|drop column 90%\n",
        "|AMJIND|NIU value/missing value|nothing 50%\n",
        "|AMJOOC|NIU value/missing value|nothing 50%\n",
        "|AUNMEM|NIU value/missing value|drop column 90%\n",
        "|AUNTYPE|NIU value/missing value|drop column 90%\n",
        "|GRINREG|NIU value/missing value|drop column 90%\n",
        "|GRINST|NIU value/missing value|drop column 90%\n",
        "|MIGMTR1|MISSING VALUES|DROP COLUMN MODE1&2 together bad\n",
        "|MIGMTR3|MISSING VALUES|DROP COLUMN MODE1&2 together bad\n",
        "|MIGMTR4|MISSING VALUES|DROP COLUMN MODE1&2 together bad\n",
        "|MIGSAME|MISSING VALUES|do nothing 50%\n",
        "|MIGSUN|MISSING VALUES|DROP COLUMN MODE 1 & 2 BOTH BAD\n",
        "|VETQVA|MISSING VALUES|DROP COLOMN 90%+\n",
        "|PTOTVALB|INFORMATION ON COLUMN IS LIMITED|DROP COLUMN \n"
      ]
    },
    {
      "cell_type": "code",
      "metadata": {
        "id": "qFkpqHr17YuB"
      },
      "source": [
        "drop_columns = ['AHRSPAY','CAPGAIN','CAPLOSS','DIVVAL','AHSCOL','AUNMEM','AUNTYPE','GRINREG','GRINST','MIGMTR1','MIGMTR3','MIGMTR4','MIGSUN','VETQVA','PTOTVALB']\n"
      ],
      "execution_count": 9,
      "outputs": []
    },
    {
      "cell_type": "code",
      "metadata": {
        "colab": {
          "base_uri": "https://localhost:8080/"
        },
        "id": "0UNxc20YxVzV",
        "outputId": "eaaf8725-dee8-48a3-fa9a-a785a5275085"
      },
      "source": [
        "print(df.columns)"
      ],
      "execution_count": 10,
      "outputs": [
        {
          "output_type": "stream",
          "name": "stdout",
          "text": [
            "Index(['AAGE', 'ACLSWKR', 'ADTIND', 'ADTOCC', 'AHGA', 'AHRSPAY', 'AHSCOL',\n",
            "       'AMARITL', 'AMJIND', 'AMJOCC', 'ARACE', 'AREORGN', 'ASEX', 'AUNMEM',\n",
            "       'AUNTYPE', 'AWKSTAT', 'CAPGAIN', 'CAPLOSS', 'DIVVAL', 'FILESTAT',\n",
            "       'GRINREG', 'GRINST', 'HHDFMX', 'HHDREL', 'MARSUPWT', 'MIGMTR1',\n",
            "       'MIGMTR3', 'MIGMTR4', 'MIGSAME', 'MIGSUN', 'NOEMP', 'PARENT',\n",
            "       'PEFNTVTY', 'PEMNTVTY', 'PENATVTY', 'PRCITSHP', 'SEOTR', 'VETQVA',\n",
            "       'VETYN', 'WKSWORK', 'YEAR', 'PTOTVALB'],\n",
            "      dtype='object')\n"
          ]
        }
      ]
    },
    {
      "cell_type": "code",
      "metadata": {
        "id": "vXTvz6IzxF7k"
      },
      "source": [
        "df = df.drop(drop_columns, axis = 1)\n"
      ],
      "execution_count": 11,
      "outputs": []
    },
    {
      "cell_type": "code",
      "metadata": {
        "colab": {
          "base_uri": "https://localhost:8080/"
        },
        "id": "hO3eEpdHlOR0",
        "outputId": "9e347534-a376-436f-9cc5-c7a771264741"
      },
      "source": [
        "for (name, series) in df.iteritems():\n",
        "  if name in not_continuous and name not in drop_columns:\n",
        "\n",
        "    modes= series.value_counts().keys()\n",
        "    card = series.size\n",
        "    mode1= modes[0]\n",
        "    mode2= modes[1]\n",
        "    mode1count= series.value_counts()[mode1]\n",
        "    mode2count= series.value_counts()[mode2]\n",
        "    mode1percent = \"{:.2f}\".format(mode1count*100.0/float(card))\n",
        "    mode2percent = \"{:.2f}\".format(mode2count*100.0/float(card))\n",
        "  \n",
        "    print(\"|\",name,\"|\",\n",
        "          column_desc[name],\"|\",\n",
        "          series.size,\"|\",\n",
        "          series.isnull().sum(),\"|\",\n",
        "          series.unique().size,\"|\",\n",
        "          mode1,\"|\",mode1count,\"|\",mode1percent,\"|\",\n",
        "          mode2,\"|\",mode2count,\"|\",mode2percent\n",
        "          )\n",
        "    \n",
        "  "
      ],
      "execution_count": 12,
      "outputs": [
        {
          "output_type": "stream",
          "name": "stdout",
          "text": [
            "| ACLSWKR | class of worker | 199523 | 0 | 9 | Not in universe | 100245 | 50.24 | Private | 72028 | 36.10\n",
            "| ADTIND | industry code | 199523 | 0 | 52 | 0 | 100684 | 50.46 | 33 | 17070 | 8.56\n",
            "| ADTOCC | occupation code | 199523 | 0 | 47 | 0 | 100684 | 50.46 | 2 | 8756 | 4.39\n",
            "| AHGA | education | 199523 | 0 | 17 | High school graduate | 48407 | 24.26 | Children | 47422 | 23.77\n",
            "| AMARITL | marital status | 199523 | 0 | 7 | Never married | 86485 | 43.35 | Married-civilian spouse present | 84222 | 42.21\n",
            "| AMJIND | major industry code | 199523 | 0 | 24 | Not in universe or children | 100684 | 50.46 | Retail trade | 17070 | 8.56\n",
            "| AMJOCC | major occupation code | 199523 | 0 | 15 | Not in universe | 100684 | 50.46 | Adm support including clerical | 14837 | 7.44\n",
            "| ARACE | mace | 199523 | 0 | 5 | White | 167365 | 83.88 | Black | 20415 | 10.23\n",
            "| AREORGN | hispanic Origin | 199523 | 874 | 10 | All other | 171907 | 86.16 | Mexican-American | 8079 | 4.05\n",
            "| ASEX | sex | 199523 | 0 | 2 | Female | 103984 | 52.12 | Male | 95539 | 47.88\n",
            "| AWKSTAT | full or part time employment stat | 199523 | 0 | 8 | Children or Armed Forces | 123769 | 62.03 | Full-time schedules | 40736 | 20.42\n",
            "| FILESTAT | tax filer status | 199523 | 0 | 6 | Nonfiler | 75094 | 37.64 | Joint both under 65 | 67383 | 33.77\n",
            "| HHDFMX | detailed household and family stat | 199523 | 0 | 38 | Householder | 53248 | 26.69 | Child <18 never marr not in subfamily | 50326 | 25.22\n",
            "| HHDREL | detailed household summary in household | 199523 | 0 | 8 | Householder | 75475 | 37.83 | Child under 18 never married | 50426 | 25.27\n",
            "| MIGSAME | live in this house 1 year ago | 199523 | 0 | 3 | Not in universe under 1 year old | 101212 | 50.73 | Yes | 82538 | 41.37\n",
            "| NOEMP | num persons worked for employer | 199523 | 0 | 7 | 0 | 95983 | 48.11 | 6 | 36511 | 18.30\n",
            "| PARENT | family members under 18 | 199523 | 0 | 5 | Not in universe | 144232 | 72.29 | Both parents present | 38983 | 19.54\n",
            "| PEFNTVTY | country of birth father | 199523 | 0 | 43 | United-States | 159163 | 79.77 | Mexico | 10008 | 5.02\n",
            "| PEMNTVTY | country of birth mother | 199523 | 0 | 43 | United-States | 160479 | 80.43 | Mexico | 9781 | 4.90\n",
            "| PENATVTY | country of birth self | 199523 | 0 | 43 | United-States | 176989 | 88.71 | Mexico | 5767 | 2.89\n",
            "| PRCITSHP | citizenship | 199523 | 0 | 5 | Native- Born in the United States | 176992 | 88.71 | Foreign born- Not a citizen of U S  | 13401 | 6.72\n",
            "| SEOTR | own business or self employed | 199523 | 0 | 3 | 0 | 180672 | 90.55 | 2 | 16153 | 8.10\n",
            "| VETYN | veterans benefits | 199523 | 0 | 3 | 2 | 150130 | 75.24 | 0 | 47409 | 23.76\n"
          ]
        }
      ]
    },
    {
      "cell_type": "code",
      "metadata": {
        "colab": {
          "base_uri": "https://localhost:8080/"
        },
        "id": "V-9sDVSZmeVg",
        "outputId": "1fdd9a80-4162-40f7-f01f-ff5a7dbbcb80"
      },
      "source": [
        "clamped = []\n",
        "  \n",
        "for (name, series) in df.iteritems():\n",
        "  if name not in not_continuous and name not in drop_columns:\n",
        "    try:\n",
        "      q1 = series.quantile(0.25)\n",
        "      q3 = series.quantile(0.75)\n",
        "      stdev = series.std() \n",
        "\n",
        "      if np.abs(q3-q1) >1.5*stdev:\n",
        "        clamped.append(name)\n",
        "        df.loc[series>(q3+stdev),name] = q3+stdev\n",
        "        df.loc[series<(q1-stdev),name] = q1-stdev\n",
        "      #| Feature | Desc. | Count | % of Missing | Card. | Min. | Q1 | Median | Q3 | Max. | Mean | Std. Dev. | Notes |\n",
        "      series = df[name]\n",
        "      min = '{:.2f}'.format(series.min())\n",
        "      q1 = '{:.2f}'.format(series.quantile(0.25))\n",
        "      median = '{}'.format(series.median())\n",
        "      q3 = '{:.2f}'.format(series.quantile(0.75))\n",
        "      max = '{:.2f}'.format(series.max())\n",
        "      mean = '{:.2f}'.format(series.mean())\n",
        "      stdev = '{:.2f}'.format(series.std()) \n",
        "      \n",
        "      print(\"|\", name,\"|\",\n",
        "            column_desc[name],\"|\",\n",
        "            series.size,\"|\",\n",
        "            series.isnull().sum(),\"|\",\n",
        "            series.unique().size,\"|\",\n",
        "            min,\"|\",\n",
        "            q1,\"|\",\n",
        "            median, \"|\",\n",
        "            q3,\"|\",\n",
        "            max,\"|\",\n",
        "            mean,\"|\",\n",
        "            stdev,\"|\"\n",
        "            )\n",
        "    except:\n",
        "        print(series.name, ' is not continuous')\n",
        "print('clamped',clamped)"
      ],
      "execution_count": 13,
      "outputs": [
        {
          "output_type": "stream",
          "name": "stdout",
          "text": [
            "| AAGE | Age | 199523 | 0 | 74 | 0.00 | 15.00 | 33.0 | 50.00 | 72.31 | 34.05 | 21.42 |\n",
            "| MARSUPWT | instance weight | 199523 | 0 | 99800 | 37.87 | 1061.62 | 1618.31 | 2188.61 | 18656.30 | 1740.38 | 993.77 |\n",
            "| WKSWORK | weeks worked in year | 199523 | 0 | 53 | 0.00 | 0.00 | 8.0 | 52.00 | 52.00 | 23.17 | 24.41 |\n",
            "| YEAR | YEAR | 199523 | 0 | 2 | 94.00 | 94.00 | 94.0 | 95.00 | 95.00 | 94.50 | 0.50 |\n",
            "clamped ['AAGE', 'WKSWORK', 'YEAR']\n"
          ]
        }
      ]
    },
    {
      "cell_type": "code",
      "metadata": {
        "id": "Ej3e-Fz0m076"
      },
      "source": [
        ""
      ],
      "execution_count": 13,
      "outputs": []
    },
    {
      "cell_type": "markdown",
      "metadata": {
        "id": "jhqoCfs8nEv5"
      },
      "source": [
        "Categorical revision"
      ]
    },
    {
      "cell_type": "markdown",
      "metadata": {
        "id": "GMmqs8Qtm_b8"
      },
      "source": [
        "| Feature | Desc. | Count | % of Missing | Card. | Mode | Mode Freq. | Mode % | 2nd Mode | 2nd Mode Freq. | 2nd Mode Perc | Notes |\n",
        "| --- | --- | --- | --- | --- | --- | --- | --- | --- | --- | --- | --- |\n",
        "| ACLSWKR | class of worker | 199523 | 0 | 9 | Not in universe | 100245 | 50.24 | Private | 72028 | 36.10\n",
        "| ADTIND | industry code | 199523 | 0 | 52 | 0 | 100684 | 50.46 | 33 | 17070 | 8.56\n",
        "| ADTOCC | occupation code | 199523 | 0 | 47 | 0 | 100684 | 50.46 | 2 | 8756 | 4.39\n",
        "| AHGA | education | 199523 | 0 | 17 | High school graduate | 48407 | 24.26 | Children | 47422 | 23.77\n",
        "| AMARITL | marital status | 199523 | 0 | 7 | Never married | 86485 | 43.35 | Married-civilian spouse present | 84222 | 42.21\n",
        "| AMJIND | major industry code | 199523 | 0 | 24 | Not in universe or children | 100684 | 50.46 | Retail trade | 17070 | 8.56\n",
        "| AMJOCC | major occupation code | 199523 | 0 | 15 | Not in universe | 100684 | 50.46 | Adm support including clerical | 14837 | 7.44\n",
        "| ARACE | mace | 199523 | 0 | 5 | White | 167365 | 83.88 | Black | 20415 | 10.23\n",
        "| AREORGN | hispanic Origin | 199523 | 874 | 10 | All other | 171907 | 86.16 | Mexican-American | 8079 | 4.05\n",
        "| ASEX | sex | 199523 | 0 | 2 | Female | 103984 | 52.12 | Male | 95539 | 47.88\n",
        "| AWKSTAT | full or part time employment stat | 199523 | 0 | 8 | Children or Armed Forces | 123769 | 62.03 | Full-time schedules | 40736 | 20.42\n",
        "| FILESTAT | tax filer status | 199523 | 0 | 6 | Nonfiler | 75094 | 37.64 | Joint both under 65 | 67383 | 33.77\n",
        "| HHDFMX | detailed household and family stat | 199523 | 0 | 38 | Householder | 53248 | 26.69 | Child <18 never marr not in subfamily | 50326 | 25.22\n",
        "| HHDREL | detailed household summary in household | 199523 | 0 | 8 | Householder | 75475 | 37.83 | Child under 18 never married | 50426 | 25.27\n",
        "| MIGSAME | live in this house 1 year ago | 199523 | 0 | 3 | Not in universe under 1 year old | 101212 | 50.73 | Yes | 82538 | 41.37\n",
        "| NOEMP | num persons worked for employer | 199523 | 0 | 7 | 0 | 95983 | 48.11 | 6 | 36511 | 18.30\n",
        "| PARENT | family members under 18 | 199523 | 0 | 5 | Not in universe | 144232 | 72.29 | Both parents present | 38983 | 19.54\n",
        "| PEFNTVTY | country of birth father | 199523 | 0 | 43 | United-States | 159163 | 79.77 | Mexico | 10008 | 5.02\n",
        "| PEMNTVTY | country of birth mother | 199523 | 0 | 43 | United-States | 160479 | 80.43 | Mexico | 9781 | 4.90\n",
        "| PENATVTY | country of birth self | 199523 | 0 | 43 | United-States | 176989 | 88.71 | Mexico | 5767 | 2.89\n",
        "| PRCITSHP | citizenship | 199523 | 0 | 5 | Native- Born in the United States | 176992 | 88.71 | Foreign born- Not a citizen of U S  | 13401 | 6.72\n",
        "| SEOTR | own business or self employed | 199523 | 0 | 3 | 0 | 180672 | 90.55 | 2 | 16153 | 8.10\n",
        "| VETYN | veterans benefits | 199523 | 0 | 3 | 2 | 150130 | 75.24 | 0 | 47409 | 23.76"
      ]
    },
    {
      "cell_type": "markdown",
      "metadata": {
        "id": "zgN_C9303q3L"
      },
      "source": [
        "Continuous revision\n"
      ]
    },
    {
      "cell_type": "markdown",
      "metadata": {
        "id": "A94NKGJY39tr"
      },
      "source": [
        "| Feature | Desc. | Count | % of Missing | Card. | Min. | Q1 | Median | Q3 | Max. | Mean | Std. Dev. | Notes |\n",
        "| --- | --- | --- | --- | --- | --- | --- | --- | --- | --- | --- | --- | --- |\n",
        "| AAGE | Age | 199523 | 0 | 73 | 0.00 | 15.00 | 33.0 | 50.00 | 71.30 | 33.98 | 21.30 |\n",
        "| MARSUPWT | instance weight | 199523 | 0 | 99800 | 37.87 | 1061.62 | 1618.31 | 2188.61 | 18656.30 | 1740.38 | 993.77 |\n",
        "| WKSWORK | weeks worked in year | 199523 | 0 | 53 | 0.00 | 0.00 | 8.0 | 52.00 | 52.00 | 23.17 | 24.41 |\n",
        "| YEAR | YEAR | 199523 | 0 | 2 | 94.00 | 94.00 | 94.0 | 95.00 | 95.00 | 94.50 | 0.50 |\n",
        "\n"
      ]
    },
    {
      "cell_type": "markdown",
      "metadata": {
        "id": "kzfjScBB7YuB"
      },
      "source": [
        "*italicized text*### Q3 - For all the interval and ratio scale features, create a scatter plot matrix (pairplots) and correlation matrix. For all ordinal scale features, create a correlation matrix using Spearman correlation. [35 pts]\n",
        "\n",
        "Use the data scales list you created in Q1."
      ]
    },
    {
      "cell_type": "markdown",
      "metadata": {
        "id": "JQ8wOEhV3rPZ"
      },
      "source": [
        ""
      ]
    },
    {
      "cell_type": "code",
      "metadata": {
        "id": "S_mY0fej7YuB"
      },
      "source": [
        "# your code goes here"
      ],
      "execution_count": 14,
      "outputs": []
    },
    {
      "cell_type": "code",
      "metadata": {
        "id": "etUc3Ir77YuC"
      },
      "source": [
        "continuous_vars = ['AAGE','AHRSPAY',\n",
        "'CAPGAIN',\n",
        "'CAPLOSS',\n",
        "'DIVVAL',\n",
        "'MARSUPWT',\n",
        "'WKSWORK']\n"
      ],
      "execution_count": 15,
      "outputs": []
    },
    {
      "cell_type": "code",
      "metadata": {
        "id": "tQJaEGQM7YuC"
      },
      "source": [
        "contdf = dfCopy[continuous_vars]\n"
      ],
      "execution_count": 16,
      "outputs": []
    },
    {
      "cell_type": "code",
      "metadata": {
        "colab": {
          "base_uri": "https://localhost:8080/",
          "height": 1000
        },
        "id": "uQUJQYwl_TZt",
        "outputId": "f3b55a54-857e-4d6e-d7da-d149bbf6cde5"
      },
      "source": [
        "pd.plotting.scatter_matrix(contdf, alpha=0.2)\n"
      ],
      "execution_count": 17,
      "outputs": [
        {
          "output_type": "execute_result",
          "data": {
            "text/plain": [
              "array([[<matplotlib.axes._subplots.AxesSubplot object at 0x7fb857244390>,\n",
              "        <matplotlib.axes._subplots.AxesSubplot object at 0x7fb857217850>,\n",
              "        <matplotlib.axes._subplots.AxesSubplot object at 0x7fb8571ceed0>,\n",
              "        <matplotlib.axes._subplots.AxesSubplot object at 0x7fb85718e590>,\n",
              "        <matplotlib.axes._subplots.AxesSubplot object at 0x7fb857145c10>,\n",
              "        <matplotlib.axes._subplots.AxesSubplot object at 0x7fb8571052d0>,\n",
              "        <matplotlib.axes._subplots.AxesSubplot object at 0x7fb8570bc9d0>],\n",
              "       [<matplotlib.axes._subplots.AxesSubplot object at 0x7fb8570e6b10>,\n",
              "        <matplotlib.axes._subplots.AxesSubplot object at 0x7fb85707f050>,\n",
              "        <matplotlib.axes._subplots.AxesSubplot object at 0x7fb857033790>,\n",
              "        <matplotlib.axes._subplots.AxesSubplot object at 0x7fb85702b3d0>,\n",
              "        <matplotlib.axes._subplots.AxesSubplot object at 0x7fb856fe1a50>,\n",
              "        <matplotlib.axes._subplots.AxesSubplot object at 0x7fb856fa3110>,\n",
              "        <matplotlib.axes._subplots.AxesSubplot object at 0x7fb856f57790>],\n",
              "       [<matplotlib.axes._subplots.AxesSubplot object at 0x7fb856f0de10>,\n",
              "        <matplotlib.axes._subplots.AxesSubplot object at 0x7fb856ecf4d0>,\n",
              "        <matplotlib.axes._subplots.AxesSubplot object at 0x7fb856e84b50>,\n",
              "        <matplotlib.axes._subplots.AxesSubplot object at 0x7fb856e47210>,\n",
              "        <matplotlib.axes._subplots.AxesSubplot object at 0x7fb856dfcc10>,\n",
              "        <matplotlib.axes._subplots.AxesSubplot object at 0x7fb856dc3310>,\n",
              "        <matplotlib.axes._subplots.AxesSubplot object at 0x7fb856d75b90>],\n",
              "       [<matplotlib.axes._subplots.AxesSubplot object at 0x7fb856d3a250>,\n",
              "        <matplotlib.axes._subplots.AxesSubplot object at 0x7fb856cf1950>,\n",
              "        <matplotlib.axes._subplots.AxesSubplot object at 0x7fb856d1fb90>,\n",
              "        <matplotlib.axes._subplots.AxesSubplot object at 0x7fb856cea2d0>,\n",
              "        <matplotlib.axes._subplots.AxesSubplot object at 0x7fb856c9e950>,\n",
              "        <matplotlib.axes._subplots.AxesSubplot object at 0x7fb856c47b10>,\n",
              "        <matplotlib.axes._subplots.AxesSubplot object at 0x7fb856c14690>],\n",
              "       [<matplotlib.axes._subplots.AxesSubplot object at 0x7fb856bcad10>,\n",
              "        <matplotlib.axes._subplots.AxesSubplot object at 0x7fb856b8e3d0>,\n",
              "        <matplotlib.axes._subplots.AxesSubplot object at 0x7fb856b455d0>,\n",
              "        <matplotlib.axes._subplots.AxesSubplot object at 0x7fb856af9b50>,\n",
              "        <matplotlib.axes._subplots.AxesSubplot object at 0x7fb856abb110>,\n",
              "        <matplotlib.axes._subplots.AxesSubplot object at 0x7fb856af0690>,\n",
              "        <matplotlib.axes._subplots.AxesSubplot object at 0x7fb856aa5c10>],\n",
              "       [<matplotlib.axes._subplots.AxesSubplot object at 0x7fb856a681d0>,\n",
              "        <matplotlib.axes._subplots.AxesSubplot object at 0x7fb856a1a750>,\n",
              "        <matplotlib.axes._subplots.AxesSubplot object at 0x7fb8569cfcd0>,\n",
              "        <matplotlib.axes._subplots.AxesSubplot object at 0x7fb856994290>,\n",
              "        <matplotlib.axes._subplots.AxesSubplot object at 0x7fb856948810>,\n",
              "        <matplotlib.axes._subplots.AxesSubplot object at 0x7fb8568fbd90>,\n",
              "        <matplotlib.axes._subplots.AxesSubplot object at 0x7fb8568be350>],\n",
              "       [<matplotlib.axes._subplots.AxesSubplot object at 0x7fb8568728d0>,\n",
              "        <matplotlib.axes._subplots.AxesSubplot object at 0x7fb8568a8e50>,\n",
              "        <matplotlib.axes._subplots.AxesSubplot object at 0x7fb856869410>,\n",
              "        <matplotlib.axes._subplots.AxesSubplot object at 0x7fb85681d990>,\n",
              "        <matplotlib.axes._subplots.AxesSubplot object at 0x7fb8567d5f10>,\n",
              "        <matplotlib.axes._subplots.AxesSubplot object at 0x7fb8567954d0>,\n",
              "        <matplotlib.axes._subplots.AxesSubplot object at 0x7fb85674aa50>]],\n",
              "      dtype=object)"
            ]
          },
          "metadata": {},
          "execution_count": 17
        },
        {
          "output_type": "display_data",
          "data": {
            "image/png": "[encoded data removed]",
            "text/plain": [
              "<Figure size 432x288 with 49 Axes>"
            ]
          },
          "metadata": {
            "needs_background": "light"
          }
        }
      ]
    },
    {
      "cell_type": "code",
      "metadata": {
        "colab": {
          "base_uri": "https://localhost:8080/",
          "height": 335
        },
        "id": "mIrS-bdA_w3e",
        "outputId": "72ee87dc-75fe-4a61-ce3f-6b77f9d990dd"
      },
      "source": [
        "import seaborn as sns\n",
        "correlations = contdf.corr()\n",
        "sns.heatmap(correlations)\n"
      ],
      "execution_count": 18,
      "outputs": [
        {
          "output_type": "execute_result",
          "data": {
            "text/plain": [
              "<matplotlib.axes._subplots.AxesSubplot at 0x7fb846cc6390>"
            ]
          },
          "metadata": {},
          "execution_count": 18
        },
        {
          "output_type": "display_data",
          "data": {
            "image/png": "[encoded data removed]",
            "text/plain": [
              "<Figure size 432x288 with 2 Axes>"
            ]
          },
          "metadata": {
            "needs_background": "light"
          }
        }
      ]
    },
    {
      "cell_type": "code",
      "metadata": {
        "id": "ECK8qndnAwzN"
      },
      "source": [
        "ordinal_names = ['ADTIND','ADTOCC','SEOTR','VETYN','NOEMP']\n",
        "ordinaldf = dfCopy[ordinal_names]\n"
      ],
      "execution_count": 19,
      "outputs": []
    },
    {
      "cell_type": "code",
      "metadata": {
        "colab": {
          "base_uri": "https://localhost:8080/",
          "height": 205
        },
        "id": "5tOFe2BdCLE9",
        "outputId": "58233eb4-4586-45bd-8f07-dd4dd877afe2"
      },
      "source": [
        "ordinaldf.head()"
      ],
      "execution_count": 20,
      "outputs": [
        {
          "output_type": "execute_result",
          "data": {
            "text/html": [
              "<div>\n",
              "<style scoped>\n",
              "    .dataframe tbody tr th:only-of-type {\n",
              "        vertical-align: middle;\n",
              "    }\n",
              "\n",
              "    .dataframe tbody tr th {\n",
              "        vertical-align: top;\n",
              "    }\n",
              "\n",
              "    .dataframe thead th {\n",
              "        text-align: right;\n",
              "    }\n",
              "</style>\n",
              "<table border=\"1\" class=\"dataframe\">\n",
              "  <thead>\n",
              "    <tr style=\"text-align: right;\">\n",
              "      <th></th>\n",
              "      <th>ADTIND</th>\n",
              "      <th>ADTOCC</th>\n",
              "      <th>SEOTR</th>\n",
              "      <th>VETYN</th>\n",
              "      <th>NOEMP</th>\n",
              "    </tr>\n",
              "  </thead>\n",
              "  <tbody>\n",
              "    <tr>\n",
              "      <th>0</th>\n",
              "      <td>0</td>\n",
              "      <td>0</td>\n",
              "      <td>0</td>\n",
              "      <td>2</td>\n",
              "      <td>0</td>\n",
              "    </tr>\n",
              "    <tr>\n",
              "      <th>1</th>\n",
              "      <td>4</td>\n",
              "      <td>34</td>\n",
              "      <td>0</td>\n",
              "      <td>2</td>\n",
              "      <td>1</td>\n",
              "    </tr>\n",
              "    <tr>\n",
              "      <th>2</th>\n",
              "      <td>0</td>\n",
              "      <td>0</td>\n",
              "      <td>0</td>\n",
              "      <td>2</td>\n",
              "      <td>0</td>\n",
              "    </tr>\n",
              "    <tr>\n",
              "      <th>3</th>\n",
              "      <td>0</td>\n",
              "      <td>0</td>\n",
              "      <td>0</td>\n",
              "      <td>0</td>\n",
              "      <td>0</td>\n",
              "    </tr>\n",
              "    <tr>\n",
              "      <th>4</th>\n",
              "      <td>0</td>\n",
              "      <td>0</td>\n",
              "      <td>0</td>\n",
              "      <td>0</td>\n",
              "      <td>0</td>\n",
              "    </tr>\n",
              "  </tbody>\n",
              "</table>\n",
              "</div>"
            ],
            "text/plain": [
              "   ADTIND  ADTOCC  SEOTR  VETYN  NOEMP\n",
              "0       0       0      0      2      0\n",
              "1       4      34      0      2      1\n",
              "2       0       0      0      2      0\n",
              "3       0       0      0      0      0\n",
              "4       0       0      0      0      0"
            ]
          },
          "metadata": {},
          "execution_count": 20
        }
      ]
    },
    {
      "cell_type": "code",
      "metadata": {
        "colab": {
          "base_uri": "https://localhost:8080/",
          "height": 287
        },
        "id": "5OQyyM2hB5Qm",
        "outputId": "729dffc6-7b4d-4d9e-c885-7d38f6993c64"
      },
      "source": [
        "correlations = ordinaldf.corr()\n",
        "sns.heatmap(correlations)\n"
      ],
      "execution_count": 21,
      "outputs": [
        {
          "output_type": "execute_result",
          "data": {
            "text/plain": [
              "<matplotlib.axes._subplots.AxesSubplot at 0x7fb83dc606d0>"
            ]
          },
          "metadata": {},
          "execution_count": 21
        },
        {
          "output_type": "display_data",
          "data": {
            "image/png": "[encoded data removed]",
            "text/plain": [
              "<Figure size 432x288 with 2 Axes>"
            ]
          },
          "metadata": {
            "needs_background": "light"
          }
        }
      ]
    },
    {
      "cell_type": "code",
      "metadata": {
        "id": "te1FDdgDB-1b"
      },
      "source": [
        ""
      ],
      "execution_count": 21,
      "outputs": []
    }
  ]
}